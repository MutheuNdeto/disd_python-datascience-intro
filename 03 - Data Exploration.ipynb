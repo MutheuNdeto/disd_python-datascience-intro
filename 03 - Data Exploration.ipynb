{
 "cells": [
  {
   "cell_type": "markdown",
   "metadata": {},
   "source": [
    "<div>\n",
    "    <img style=\"float:right;\" src=\"images/smi-logo.png\"/>\n",
    "    <div style=\"float:left;color:#58288C;\"><h1>Datenanalyse und Datenmanagement</h1></div>\n",
    "</div>"
   ]
  },
  {
   "cell_type": "markdown",
   "metadata": {},
   "source": [
    "---\n",
    "# Notebook III: Data Exploration\n",
    "In diesem Notebook geht es um die Verwendung von Python zur Erkundung eines eingelesenen Datenbestands.  \n",
    "Hierzu werden einfache Visualisierungsformen eingesetzt.\n",
    "\n",
    "## Inhaltsverzeichnis\n",
    "\n",
    "[1. Einführung in die Arbeit mit DataFrames am Beispiel von COVID-Daten](#kapitel1)  \n",
    "[2. Einführung in die Datenvisualisierung mit Matplotlib](#kapitel2)  \n",
    "[3. Übung / Anwendungsbeispiel Kreditvergabe](#kapitel3)  \n",
    "\n",
    "---"
   ]
  },
  {
   "cell_type": "code",
   "execution_count": null,
   "metadata": {},
   "outputs": [],
   "source": [
    "# Notebook extensions und Python Packages laden\n",
    "%load_ext sql\n",
    "\n",
    "import pandas as pd\n",
    "import requests\n",
    "import matplotlib.pyplot as plt\n",
    "\n",
    "# Einen Farbstil für die zu erstellenden Diagramme auswählen\n",
    "plt.style.use('seaborn-ticks')\n",
    "\n",
    "# Jupyter-Feature: Wir wollen Diagramme direkt im Notebook sehen, nicht als Datei speichern o.ä.\n",
    "%matplotlib inline"
   ]
  },
  {
   "cell_type": "markdown",
   "metadata": {},
   "source": [
    "## 1. Einführung in die Arbeit mit DataFrames am Beispiel von COVID-Daten<a id=\"kapitel1\"/>\n",
    "Pandas sind das zentrale Werkzeug zum einlesen und manipulieren von Daten in Python. Für unsere Zwecke ist die Datenstruktur des ```DataFrames``` am wichtigsten:\n",
    "\n",
    "> **DataFrame** is a 2-dimensional labeled data structure with columns of potentially different types.  \n",
    "> You can think of it like a spreadsheet or SQL table [...]. It is generally the most commonly used pandas object.  \n",
    "> [(Quelle)](https://pandas.pydata.org/pandas-docs/stable/user_guide/dsintro.html)\n",
    "\n",
    "Dataframes haben demnach Zeilen (\"Rows\") und Spalten (\"Columns\") können zudem einen Index haben - ein datensatzidentifizierendes Merkmal, ähnlich dem Primärschlüssel in der Datenbank.  \n",
    "<img src=\"images/dataframe.png\"/>  \n",
    "DataFrames organisieren die Daten im Arbeitsspeicher, die mit SQL oder über APIs aus Datenquellen eingelesen werden. Die Dokumentation zu DataFrames findest du [hier](https://pandas.pydata.org/pandas-docs/stable/reference/frame.html). "
   ]
  },
  {
   "cell_type": "markdown",
   "metadata": {},
   "source": [
    "Nutzen wir die Daten der COVID19-API aus der letzten Übung als Beispiel: "
   ]
  },
  {
   "cell_type": "code",
   "execution_count": null,
   "metadata": {},
   "outputs": [],
   "source": [
    "# API abfragen\n",
    "response = requests.get(\"https://corona-api.com/countries/de\")\n",
    "df = pd.json_normalize(response.json()[\"data\"][\"timeline\"])   # Im DataFrame df liegen nun die API-Daten"
   ]
  },
  {
   "cell_type": "markdown",
   "metadata": {},
   "source": [
    "Nun sind die abgefragten Daten im DataFrame ```df```. Wir überprüfen zunächst oberflächlich die Fehlerfreiheit:"
   ]
  },
  {
   "cell_type": "code",
   "execution_count": null,
   "metadata": {},
   "outputs": [],
   "source": [
    "df.head(5)   # die ersten fünf Zeilen anzeigen"
   ]
  },
  {
   "cell_type": "code",
   "execution_count": null,
   "metadata": {},
   "outputs": [],
   "source": [
    "df.sample(5) # Zufällige fünf Zeilen anzeigen"
   ]
  },
  {
   "cell_type": "code",
   "execution_count": null,
   "metadata": {},
   "outputs": [],
   "source": [
    "df.count()   # Anzahl der Werte je Spalte prüfen - gibt es Lücken?"
   ]
  },
  {
   "cell_type": "markdown",
   "metadata": {},
   "source": [
    "### 1.2. Spalten auswählen und benennen"
   ]
  },
  {
   "cell_type": "markdown",
   "metadata": {},
   "source": [
    "> Wichtig: Bei allen Bearbeitungen des DataFrames wird eine Kopie mit den Änderungen erzeugt. Das ursprüngliche DataFrame bleibt unverändert.  \n",
    "> Soll eine Änderung vorgenommen werden, kann der Ursprungsvariablen das geänderte DataFrame direkt zugeordnet werden.  \n",
    "> Beispiel: df = df.rename(...)"
   ]
  },
  {
   "cell_type": "code",
   "execution_count": null,
   "metadata": {},
   "outputs": [],
   "source": [
    "# Bekommen wir aus der API auch unnötige Zeilen/Spalten, verwerfen wir diese zunächst\n",
    "# (bei Datenbanken würden wir nur die benötigten Felder mit SQL abfragen)\n",
    "\n",
    "# Die Funktion \"drop\" kann sowohl Zeilen als auch Spalten entfernen.\n",
    "# Für Spalten ist eine Liste der Spaltennamen anzugeben, sowie der Verweis, dass es sich um Spalten handelt (axis=\"columns\")\n",
    "\n",
    "df = df.drop([\"updated_at\"], axis=\"columns\")\n",
    "\n",
    "# Dazu ist es oft praktisch, Spalten einheitlich oder kürzer zu benennen\n",
    "\n",
    "df = df.rename(columns = {\n",
    "    \"new_confirmed\": \"new_cases\", \n",
    "    \"confirmed\":\"cases\"\n",
    "})\n",
    "\n",
    "df.head(2)"
   ]
  },
  {
   "cell_type": "code",
   "execution_count": null,
   "metadata": {},
   "outputs": [],
   "source": [
    "# Das Datum ist bislang eine reguläre Spalte, ein vom DataFrame separat geführter Index zählt die Zeilen von 0-n durch.\n",
    "# Da es sich hier um Meldezeitpunkte handelt, ist das Datum der Index. Damit wird bspw. der Index automatisch als X-Achse in späteren Grafiken verwendet.\n",
    "\n",
    "df = df.set_index(\"date\")\n",
    "df.head(2)"
   ]
  },
  {
   "cell_type": "markdown",
   "metadata": {},
   "source": [
    "### 1.3. Daten sortieren und filtern"
   ]
  },
  {
   "cell_type": "code",
   "execution_count": null,
   "metadata": {},
   "outputs": [],
   "source": [
    "# Sortieren\n",
    "df = df.sort_values(\"date\")"
   ]
  },
  {
   "cell_type": "code",
   "execution_count": null,
   "metadata": {},
   "outputs": [],
   "source": [
    "df.head(5)"
   ]
  },
  {
   "cell_type": "markdown",
   "metadata": {},
   "source": [
    "#### Filter\n",
    "Der Zugriff auf eine Spalte ist mit ```df[\"feldname\"]``` möglich, wenn der Name keine Leer- oder Sonderzeichen enthält auch vereinfacht mit ```df.feldname```.  \n",
    "\n",
    "Mit ```df[filterkriterium]``` kann analog SELECT ... WHERE der Datensatz gefiltert werden."
   ]
  },
  {
   "cell_type": "code",
   "execution_count": null,
   "metadata": {},
   "outputs": [],
   "source": [
    "# Wir filtern nach Anzahl neuer Fälle und schreiben das Ergebnis in ein neues Dataframe\n",
    "\n",
    "peaks = df[df.new_cases > 30000]                                       # alle Tage an denen > 30k Neuinfektionen auftraten\n",
    "\n",
    "peaks = peaks.sort_values(\"new_cases\", axis=\"rows\", ascending=False)   # absteigend nach Anzahl der Neuinfektionen sortieren\n",
    "peaks"
   ]
  },
  {
   "cell_type": "markdown",
   "metadata": {},
   "source": [
    "### 1.4. DataFrames unterteilen\n",
    "Mit DataFrames kann man ähnlich Listen und Dictionaries arbeiten - der Zugriff funktioniert nach dem Schema\n",
    "> df.loc[Zeilenangabe, Spaltenangabe]  \n",
    "\n",
    "Die Zeilen-/Spaltenangaben sind dabei Strings mit Index/Spaltenbezeichnungen, Listen oder Ranges."
   ]
  },
  {
   "cell_type": "code",
   "execution_count": null,
   "metadata": {},
   "outputs": [],
   "source": [
    "print(\"Zugriff Index und Spaltennamen mit .loc\")\n",
    "df.loc[\"2020-08-01\",\"cases\"]"
   ]
  },
  {
   "cell_type": "code",
   "execution_count": null,
   "metadata": {},
   "outputs": [],
   "source": [
    "print(\"Ranges\")\n",
    "df.loc[\"2020-09-01\":\"2020-09-07\", \"deaths\":\"active\"]"
   ]
  },
  {
   "cell_type": "code",
   "execution_count": null,
   "metadata": {},
   "outputs": [],
   "source": [
    "print(\"Subsets\")      # Listen von Zeilen und/oder Spalten\n",
    "df.loc[[\"2020-02-01\",\"2020-03-01\"], \n",
    "             [\"deaths\", \"active\"]]"
   ]
  },
  {
   "cell_type": "markdown",
   "metadata": {},
   "source": [
    "### 1.5. Berechnungen durchführen"
   ]
  },
  {
   "cell_type": "code",
   "execution_count": null,
   "metadata": {},
   "outputs": [],
   "source": [
    "# Neue Spalte und Berechnungen\n",
    "\n",
    "df[\"death_rate\"] = df.new_deaths / df.active\n",
    "df.death_rate                                   # der Index \"date\" wird automatisch mit angezeigt, wenn wir die neue Spalte abrufen"
   ]
  },
  {
   "cell_type": "code",
   "execution_count": null,
   "metadata": {},
   "outputs": [],
   "source": [
    "# Deskriptive Statistiken können für das gesamte Dataframe oder einzelne Spalten berechnet werden\n",
    "\n",
    "# df.describe()\n",
    "df.new_cases.describe()"
   ]
  },
  {
   "cell_type": "code",
   "execution_count": null,
   "metadata": {},
   "outputs": [],
   "source": [
    "# Für jede Spalte können mit analoger Syntax die wesentlichen statistischen Maße berechnet werden.\n",
    "print(\"Median, Mean, Max, Min, 20% Quantil\")\n",
    "print(df.cases.median(), df.cases.mean(), df.cases.max(), df.cases.min(), df.cases.quantile(0.1))"
   ]
  },
  {
   "cell_type": "markdown",
   "metadata": {},
   "source": [
    "---\n",
    "## 2. Einführung in die Datenvisualisierung mit Matplotlib<a id=\"kapitel2\"/>"
   ]
  },
  {
   "cell_type": "markdown",
   "metadata": {},
   "source": [
    "### 2.1. Überblick\n",
    "Pandas haben eine plot() Funktion, die einfache Grafiken erzeugt."
   ]
  },
  {
   "cell_type": "code",
   "execution_count": null,
   "metadata": {},
   "outputs": [],
   "source": [
    "df.new_cases.plot()"
   ]
  },
  {
   "cell_type": "markdown",
   "metadata": {},
   "source": [
    "Mit Parametern kann das Aussehen der Diagramme konfiguriert werden. Die Dokumentation der ```plot```-Funktion findest du [hier](https://pandas.pydata.org/pandas-docs/version/0.23.4/generated/pandas.DataFrame.plot.html).\n",
    "\n",
    "Nachfolgend ein Beispiel:"
   ]
  },
  {
   "cell_type": "code",
   "execution_count": null,
   "metadata": {},
   "outputs": [],
   "source": [
    "df.new_cases.plot(kind=\"area\", figsize=(18,5), color=\"darkblue\", legend=True)             # figsize legt die Größe der Abbildung in Inches fest"
   ]
  },
  {
   "cell_type": "markdown",
   "metadata": {},
   "source": [
    "### 2.2. Wichtige Charttypen"
   ]
  },
  {
   "cell_type": "markdown",
   "metadata": {},
   "source": [
    "Über den Parameter \"kind\" können verschiedene Diagrammtypen erzeugt werden ([Dokumentation](https://pandas.pydata.org/pandas-docs/version/0.23.4/generated/pandas.DataFrame.plot.html))."
   ]
  },
  {
   "cell_type": "code",
   "execution_count": null,
   "metadata": {},
   "outputs": [],
   "source": [
    "# Histogramm der neuen Fälle\n",
    "\n",
    "df.new_cases.plot(kind=\"hist\", edgecolor=\"white\") "
   ]
  },
  {
   "cell_type": "code",
   "execution_count": null,
   "metadata": {},
   "outputs": [],
   "source": [
    "# Ein Scatterplot zeigt zwei Merkmale auf X- und Y-Achse, der Aufruf der plot() Funktion ist daher etwas anders\n",
    "df.plot(kind=\"scatter\", x=\"new_cases\", y=\"new_deaths\", color=\"blue\", title=\"Todesfälle vs. Neuinfektionen pro Tag\")"
   ]
  },
  {
   "cell_type": "markdown",
   "metadata": {},
   "source": [
    "### 2.3. Abbildung mehrerer Datenreihen\n",
    "Sind zwei Plotting-Befehle in einer Notebook-Zelle, werden die entsprechenden Plots in einem Diagramm dargstellt."
   ]
  },
  {
   "cell_type": "code",
   "execution_count": null,
   "metadata": {},
   "outputs": [],
   "source": [
    "# Vergleich der neuen Fälle 2020/2021 mit Lineplots\n",
    "\n",
    "df.loc[df.index >= \"2021-01-01\", \"new_cases\"].plot(kind=\"line\", figsize=(16,5), alpha=0.5, color=\"blue\", legend=True, label=\"Cases 2021\") \n",
    "df.loc[df.index < \"2021-01-01\", \"new_cases\"].plot(kind=\"line\", alpha=0.5, color=\"green\", legend=True, label=\"Cases 2020\") "
   ]
  },
  {
   "cell_type": "code",
   "execution_count": null,
   "metadata": {},
   "outputs": [],
   "source": [
    "# In manchen Fällen ist eine zweite Y-Achse erforderlich\n",
    "\n",
    "df.new_cases.plot(kind=\"area\", legend=True, figsize=(16,5))\n",
    "df.death_rate.plot(legend=True, secondary_y=True)              # secondary_y trägt diese Datenreihe auf einer zweiten Y-Achse rechts auf"
   ]
  },
  {
   "cell_type": "markdown",
   "metadata": {},
   "source": [
    "---\n",
    "## 3. Übung / Anwendungsbeispiel Kreditvergabe <a id=\"kapitel3\"/>\n",
    "\n",
    "Wir betrachten im Folgenden einen Datensatz mit Privatkreditvorgängen einer deutschen Bank.  \n",
    "Hierbei durchlaufen wir grundsätzlich dieselbe Prozedur.\n",
    "\n",
    "Der Datensatz kommt vom Datebankserver und umfasst folgende Merkmalen:\n",
    "   >  *Age* (numeric)  \n",
    "   >  *Sex* (text: male, female)  \n",
    "   >  *Job* (numeric: 0 - unskilled and non-resident, 1 - unskilled and resident, 2 - skilled, 3 - highly skilled)  \n",
    "   >  *Housing* (text: own, rent, or free)  \n",
    "   >  *Saving accounts* (text - little, moderate, quite rich, rich)  \n",
    "   >  *Checking account* (text - little, moderate, quite rich, rich)   \n",
    "   >  *Credit amount* (numeric, in EUR)  \n",
    "   >  *Duration* (numeric, in month)  \n",
    "   >  *Purpose* (text: car, furniture/equipment, radio/TV, domestic appliances, repairs, education, business, vacation/others  \n",
    "   >  *Risk* (Value target - Good or Bad Risk)  "
   ]
  },
  {
   "cell_type": "markdown",
   "metadata": {},
   "source": [
    "### 4.1. Daten einlesen und aufbereiten"
   ]
  },
  {
   "cell_type": "markdown",
   "metadata": {},
   "source": [
    "Falls die SQLite-Datenbank noch nicht entpackt ist, dies nun tun:"
   ]
  },
  {
   "cell_type": "code",
   "execution_count": null,
   "metadata": {},
   "outputs": [],
   "source": [
    "![ ! -f data/smi-data.db ] && unzip -o -d data data/smi-data.zip"
   ]
  },
  {
   "cell_type": "code",
   "execution_count": null,
   "metadata": {},
   "outputs": [],
   "source": [
    "# Verbindung zum Datenbankserver herstellen\n",
    "\n",
    "%load_ext sql\n",
    "%sql sqlite:///data/smi-data.db\n",
    "\n",
    "# SQL-Abfrage durchführen und Ergebnis in Variable result speichern        \n",
    "        \n",
    "result = %sql SELECT * FROM credit_ger\n",
    "\n",
    "# Aus Result ein DataFrame machen und in Variable df speichern\n",
    "\n",
    "df = result.DataFrame()\n",
    "df = df.set_index([\"id\"])\n",
    "# Spaltenbenennungen vereinfachen\n",
    "df = df.rename({\n",
    "    \"Age\": \"age\",\n",
    "    \"Sex\": \"sex\",\n",
    "    \"Job\": \"job\",\n",
    "    \"Housing\": \"housing\",\n",
    "    \"Saving_accounts\": \"savings\", \n",
    "    \"Checking_account\": \"cash\",\n",
    "    \"Credit_amount\": \"amount\",\n",
    "    \"Duration\": \"duration\",\n",
    "    \"Purpose\": \"purpose\",\n",
    "    \"Risk\": \"risk\"\n",
    "}, axis=\"columns\")"
   ]
  },
  {
   "cell_type": "markdown",
   "metadata": {},
   "source": [
    "Sieh dir nun mit ```df.head()``` einige Datensätze für einen ersten Eindruck an!"
   ]
  },
  {
   "cell_type": "code",
   "execution_count": null,
   "metadata": {},
   "outputs": [],
   "source": []
  },
  {
   "cell_type": "markdown",
   "metadata": {},
   "source": [
    "### 4.2. Merkmale untersuchen und visualisieren"
   ]
  },
  {
   "cell_type": "markdown",
   "metadata": {},
   "source": [
    "Erzeuge deskriptive Statistiken zu den Merkmalen age, duration und amount! Was lässt sich daraus über Kredite und Kreditnehmer im Datensatz sagen?"
   ]
  },
  {
   "cell_type": "code",
   "execution_count": null,
   "metadata": {},
   "outputs": [],
   "source": []
  },
  {
   "cell_type": "markdown",
   "metadata": {},
   "source": [
    "Untersuche mit Histogrammen die VMerkmale Alter (age), Kreditlaufzeit (duration) und Kreditsumme (amount) um einen ersten Eindruck zu erhalten.\n",
    "\n",
    "Was ist die typische Kreditsumme, wie lange laufen Kredite meist und wie alt sind die Kreditnehmer?"
   ]
  },
  {
   "cell_type": "code",
   "execution_count": null,
   "metadata": {},
   "outputs": [],
   "source": []
  },
  {
   "cell_type": "markdown",
   "metadata": {},
   "source": [
    "Sieh dir nun in einem Histogramm die Kreditsummenverteilung von zurückgezahlen und ausgefallenen Krediten an (risk==\"good\" vs. risk==\"bad\")! Was ist festzustellen?"
   ]
  },
  {
   "cell_type": "code",
   "execution_count": null,
   "metadata": {},
   "outputs": [],
   "source": []
  },
  {
   "cell_type": "markdown",
   "metadata": {},
   "source": [
    "Die Funktion ```.value_counts()``` zählt textuelle Merkmalsausprägungen. Untersuche hiermit, welches die häufigsten Kreditzwecke (purpose) sind und erzeuge dazu ein Balkendiagramm (kind=\"bar\" oder für horizontale Balken kind=\"barh\")!"
   ]
  },
  {
   "cell_type": "code",
   "execution_count": null,
   "metadata": {},
   "outputs": [],
   "source": []
  },
  {
   "cell_type": "markdown",
   "metadata": {},
   "source": [
    "Erweitere dein voriges Balkendiagramm, indem du die Anzahlen der ausgefallenen Kredite je Zweck (purpose) in Rot darüberlegst."
   ]
  },
  {
   "cell_type": "code",
   "execution_count": null,
   "metadata": {},
   "outputs": [],
   "source": []
  },
  {
   "cell_type": "markdown",
   "metadata": {},
   "source": [
    "### 4.3. Zusammenhänge untersuchen und visualisieren"
   ]
  },
  {
   "cell_type": "markdown",
   "metadata": {},
   "source": [
    "Untersuche mit Scatterplots, ob sich zwischen amount, duration und age Zusammenhänge zeigen lassen! Was fällt auf?"
   ]
  },
  {
   "cell_type": "code",
   "execution_count": null,
   "metadata": {},
   "outputs": [],
   "source": []
  }
 ],
 "metadata": {
  "kernelspec": {
   "display_name": "Python 3",
   "language": "python",
   "name": "python3"
  },
  "language_info": {
   "codemirror_mode": {
    "name": "ipython",
    "version": 3
   },
   "file_extension": ".py",
   "mimetype": "text/x-python",
   "name": "python",
   "nbconvert_exporter": "python",
   "pygments_lexer": "ipython3",
   "version": "3.9.1"
  }
 },
 "nbformat": 4,
 "nbformat_minor": 4
}

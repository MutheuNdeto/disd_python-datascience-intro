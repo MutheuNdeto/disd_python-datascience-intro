{
 "cells": [
  {
   "cell_type": "markdown",
   "metadata": {},
   "source": [
    "<div>\n",
    "    <img style=\"float:right;\" src=\"images/smi-logo.png\"/>\n",
    "    <div style=\"float:left;color:#58288C;\"><h1>Datenanalyse und Datenmanagement</h1></div>\n",
    "</div>"
   ]
  },
  {
   "cell_type": "markdown",
   "metadata": {},
   "source": [
    "---\n",
    "# Notebook III: Data Exploration\n",
    "In diesem Notebook geht es um die Verwendung von Python zur Erkundung eines eingelesenen Datenbestands.  \n",
    "Hierzu werden einfache statistische Techniken und Visualisierungsformen eingesetzt.\n",
    "\n",
    "## Inhaltsverzeichnis\n",
    "\n",
    "[1. Daten einlesen und aufbereiten](#kapitel1)  \n",
    "[2. Merkmale untersuchen und visualisieren](#kapitel2)  \n",
    "[3. Zusammenhänge untersuchen und visualisieren](#kapitel3)  \n",
    "[4. Anwendungsbeispiel Minecraft Kernbohrung](#kapitel4)  \n",
    "[5. Anwendungsbeispiel Kreditvergabe](#kapitel5)  \n",
    "\n",
    "---"
   ]
  },
  {
   "cell_type": "markdown",
   "metadata": {},
   "source": [
    "## 1. Daten einlesen und aufbereiten <a id=\"kapitel1\"/>"
   ]
  },
  {
   "cell_type": "markdown",
   "metadata": {},
   "source": [
    "### 1.1. DataFrames und grobe Datenvalidierung\n",
    "Pandas sind das zentrale Werkzeug zum einlesen und manipulieren von Daten in Python. Für unsere Zwecke ist die Datenstruktur des ```DataFrames``` am wichtigsten:\n",
    "\n",
    "> **DataFrame** is a 2-dimensional labeled data structure with columns of potentially different types.  \n",
    "> You can think of it like a spreadsheet or SQL table [...]. It is generally the most commonly used pandas object.  \n",
    "> [(Quelle)](https://pandas.pydata.org/pandas-docs/stable/user_guide/dsintro.html)\n",
    "\n",
    "Dataframes haben demnach Zeilen (\"Rows\") und Spalten (\"Columns\") können zudem einen Index haben - ein datensatzidentifizierendes Merkmal, ähnlich dem Primärschlüssel in der Datenbank.  \n",
    "<img src=\"images/dataframe.png\"/>  \n",
    "DataFrames organisieren die Daten im Arbeitsspeicher, die mit SQL oder über APIs aus Datenquellen eingelesen werden. Die Dokumentation zu DataFrames findest du [hier](https://pandas.pydata.org/pandas-docs/stable/reference/frame.html). "
   ]
  },
  {
   "cell_type": "markdown",
   "metadata": {},
   "source": [
    "Nutzen wir die Daten der COVID19-API aus der letzten Übung als Beispiel: "
   ]
  },
  {
   "cell_type": "code",
   "execution_count": null,
   "metadata": {},
   "outputs": [],
   "source": [
    "# Notebook extensions und Python Packages laden\n",
    "%load_ext sql\n",
    "\n",
    "import pandas as pd\n",
    "import requests\n",
    "import matplotlib.pyplot as plt\n",
    "import seaborn as sns\n",
    "\n",
    "# Visualisierung-Stil für Diagramme mit Seaview setzen\n",
    "sns.set(font_scale = 1.1,               # Schriften etwas größer als normal\n",
    "       palette     = \"pastel\",          # siehe zum Styling: http://seaborn.pydata.org/tutorial/color_palettes.html\n",
    "       style       = \"whitegrid\") \n",
    "\n",
    "# Jupyter-Feature: Wir wollen Diagramme direkt im Notebook sehen, nicht als Datei speichern o.ä.\n",
    "%matplotlib inline"
   ]
  },
  {
   "cell_type": "code",
   "execution_count": null,
   "metadata": {},
   "outputs": [],
   "source": [
    "# API abfragen\n",
    "response = requests.get(\"https://corona-api.com/timeline\")\n",
    "df = pd.json_normalize(response.json(), record_path=\"data\")   # Im DataFrame df liegen nun die API-Daten"
   ]
  },
  {
   "cell_type": "markdown",
   "metadata": {},
   "source": [
    "Nun sind die abgefragten Daten im DataFrame ```df```. Wir überprüfen zunächst oberflächlich die Fehlerfreiheit:"
   ]
  },
  {
   "cell_type": "code",
   "execution_count": null,
   "metadata": {},
   "outputs": [],
   "source": [
    "df.head(5)   # die ersten fünf Zeilen anzeigen"
   ]
  },
  {
   "cell_type": "code",
   "execution_count": null,
   "metadata": {},
   "outputs": [],
   "source": [
    "df.tail(5)   # die letzten fünf Zeilen anzeigen"
   ]
  },
  {
   "cell_type": "code",
   "execution_count": null,
   "metadata": {},
   "outputs": [],
   "source": [
    "df.sample(5) # Zufällige fünf Zeilen anzeigen"
   ]
  },
  {
   "cell_type": "code",
   "execution_count": null,
   "metadata": {},
   "outputs": [],
   "source": [
    "df.count()   # Anzahl der Werte je Spalte prüfen - gibt es Lücken?"
   ]
  },
  {
   "cell_type": "markdown",
   "metadata": {},
   "source": [
    "### 1.2. Spalten organisieren und Datentypen festlegen"
   ]
  },
  {
   "cell_type": "markdown",
   "metadata": {},
   "source": [
    "> Wichtig: Bei allen Bearbeitungen des DataFrames wird eine Kopie mit den Änderungen erzeugt. Das ursprüngliche DataFrame bleibt unverändert.  \n",
    "> Soll eine Änderung vorgenommen werden, kann der Ursprungsvariablen das geänderte DataFrame direkt zugeordnet werden.  \n",
    "> _Beispiel: df = df.some_function()_"
   ]
  },
  {
   "cell_type": "code",
   "execution_count": null,
   "metadata": {},
   "outputs": [],
   "source": [
    "# Bekommen wir aus der API auch unnötige Zeilen/Spalten, verwerfen wir diese zunächst\n",
    "# (bei Datenbanken würden wir nur die benötigten Felder mit SQL abfragen)\n",
    "\n",
    "# Zunächst entfernen wir den unvollständigen Datensatz, der mit \"is_in_progress\" gekennzeichnet ist\n",
    "\n",
    "df = df[df.is_in_progress != 1]\n",
    "\n",
    "# Die Funktion \"drop\" kann sowohl Zeilen als auch Spalten entfernen.\n",
    "# Für Spalten ist eine Liste der Spaltennamen anzugeben, sowie der Verweis, dass es sich um Spalten handelt (axis=\"columns\")\n",
    "\n",
    "df = df.drop([\"updated_at\", \"recovered\", \"new_recovered\", \"is_in_progress\"], axis=\"columns\")\n",
    "\n",
    "# Dazu ist es oft praktisch, Spalten einheitlich oder kürzer zu benennen\n",
    "\n",
    "df = df.rename(columns = {\n",
    "    \"new_confirmed\": \"new_cases\", \n",
    "    \"confirmed\":\"cases\"\n",
    "})\n",
    "\n",
    "df.head(2)"
   ]
  },
  {
   "cell_type": "code",
   "execution_count": null,
   "metadata": {},
   "outputs": [],
   "source": [
    "# Damit Datums- und Zeitangaben etwa bei der Sortierung korrekt behandelt werden können, ist im DataFrame \n",
    "# der Datentyp korrekt zu setzen.\n",
    "\n",
    "df.date = df.date.astype(\"datetime64\")   # astype versucht den Inhalt des Strings als Datum zu interpretieren"
   ]
  },
  {
   "cell_type": "code",
   "execution_count": null,
   "metadata": {},
   "outputs": [],
   "source": [
    "# Das Datum ist bislang eine reguläre Spalte, ein vom DataFrame separat geführter Index zählt die Zeilen von 0-n durch.\n",
    "# Da es sich hier um Meldezeitpunkte handelt, ist das Datum der Index. Damit wird bspw. der Index automatisch als X-Achse in späteren Grafiken verwendet.\n",
    "\n",
    "df = df.set_index(\"date\")\n",
    "df.head(2)"
   ]
  },
  {
   "cell_type": "markdown",
   "metadata": {},
   "source": [
    "### 1.3. Daten sortieren und filtern"
   ]
  },
  {
   "cell_type": "code",
   "execution_count": null,
   "metadata": {},
   "outputs": [],
   "source": [
    "# Sortieren\n",
    "df = df.sort_values(\"date\", axis=\"rows\", ascending=True)"
   ]
  },
  {
   "cell_type": "code",
   "execution_count": null,
   "metadata": {},
   "outputs": [],
   "source": [
    "df.head(5)"
   ]
  },
  {
   "cell_type": "markdown",
   "metadata": {},
   "source": [
    "#### Spaltenzugriff und Felder\n",
    "Der Zugriff auf eine Spalte ist mit ```df[\"feldname\"]``` möglich, wenn der Name keine Leer- oder Sonderzeichen enthält auch vereinfacht mit ```df.feldname```."
   ]
  },
  {
   "cell_type": "code",
   "execution_count": null,
   "metadata": {},
   "outputs": [],
   "source": [
    "# Um die Filterung zu verstehen sehen wir uns folgendes an:\n",
    "\n",
    "df.new_cases # gibt die Spalte zurück"
   ]
  },
  {
   "cell_type": "code",
   "execution_count": null,
   "metadata": {},
   "outputs": [],
   "source": [
    "df.new_cases > 300000 # gibt eine Spalte zurück, in denen jeweils das Ergebnis der Vergleichsoperation steht (True/False)"
   ]
  },
  {
   "cell_type": "markdown",
   "metadata": {},
   "source": [
    "Um nun zu filtern, übergeben wir diesen True/False Spaltenvektor an das DataFrame, um die gewünschten Zeilen zu selektieren:"
   ]
  },
  {
   "cell_type": "code",
   "execution_count": null,
   "metadata": {},
   "outputs": [],
   "source": [
    "peaks = df[df.new_cases > 300000]                                      # alle Tage an denen > 300k Neuinfektionen auftraten\n",
    "\n",
    "peaks = peaks.sort_values(\"new_cases\", axis=\"rows\", ascending=False)   # absteigend nach Anzahl der Neuinfektionen sortieren\n",
    "peaks"
   ]
  },
  {
   "cell_type": "markdown",
   "metadata": {},
   "source": [
    "### 1.4. DataFrame partitionieren\n",
    "Mit DataFrames kann man ähnlich Listen und Dictionaries arbeiten:"
   ]
  },
  {
   "cell_type": "code",
   "execution_count": null,
   "metadata": {},
   "outputs": [],
   "source": [
    "print(\"Zugriff über Index\")\n",
    "print(df.iloc[0,1])\n",
    "\n",
    "print(\"Zugriff über Indexausprägung und Spaltennamen\")\n",
    "print(df.loc[\"2020-01-21\",\"cases\"])"
   ]
  },
  {
   "cell_type": "code",
   "execution_count": null,
   "metadata": {},
   "outputs": [],
   "source": [
    "print(\"Ranges\")\n",
    "print(df.loc[\"2020-02-01\":\"2020-02-14\", \"deaths\":\"active\"])"
   ]
  },
  {
   "cell_type": "code",
   "execution_count": null,
   "metadata": {},
   "outputs": [],
   "source": [
    "print(\"Subsets\")\n",
    "print(df.loc[\"2020-02-01\", [\"deaths\", \"active\"]])"
   ]
  },
  {
   "cell_type": "markdown",
   "metadata": {},
   "source": [
    "### 1.5. Berechnungen durchführen"
   ]
  },
  {
   "cell_type": "code",
   "execution_count": null,
   "metadata": {},
   "outputs": [],
   "source": [
    "# Neue Spalte und Berechnungen\n",
    "\n",
    "df[\"death_rate\"] = df.new_deaths / df.active\n",
    "df.death_rate                                   # der Index \"date\" wird automatisch mit angezeigt, wenn wir die neue Spalte abrufen"
   ]
  },
  {
   "cell_type": "code",
   "execution_count": null,
   "metadata": {},
   "outputs": [],
   "source": [
    "# Konditionale Zuweisungen\n",
    "df[\"bad_day\"] = 0                                  # Spalte anlegen, Wert ist überall 0\n",
    "df.loc[df.new_cases > 300000, \"bad_day\"] = 1       # Werte auf 1 setzen, wenn new_cases > 300.000\n",
    "\n",
    "print(\"An {} von {} Tagen sind mehr als 300.000 neue Fälle aufgetreten.\".format(df.bad_day.sum(), df.bad_day.count()))"
   ]
  },
  {
   "cell_type": "markdown",
   "metadata": {},
   "source": [
    "---\n",
    "## 2. Merkmale untersuchen und visualisieren <a id=\"kapitel2\"/>"
   ]
  },
  {
   "cell_type": "markdown",
   "metadata": {},
   "source": [
    "### 2.1. Deskriptive Statistiken"
   ]
  },
  {
   "cell_type": "code",
   "execution_count": null,
   "metadata": {},
   "outputs": [],
   "source": [
    "# Deskriptive Statistiken können für das gesamte Dataframe oder einzelne Spalten berechnet werden\n",
    "\n",
    "# df.describe()\n",
    "df.new_cases.describe()"
   ]
  },
  {
   "cell_type": "code",
   "execution_count": null,
   "metadata": {},
   "outputs": [],
   "source": [
    "# Für jede Spalte können mit analoger Syntax die wesentlichen statistischen Maße berechnet werden.\n",
    "print(\"Median, Mean, Max, Min\")\n",
    "print(df.cases.median(), df.cases.mean(), df.cases.max(), df.cases.min())"
   ]
  },
  {
   "cell_type": "markdown",
   "metadata": {},
   "source": [
    "---\n",
    "### <span style=\"color:#FF5D02;\">Quick Task: Wieviele neue COVID-Fälle wurden an den schlimmsten und besten Tagen gemeldet?</span>"
   ]
  },
  {
   "cell_type": "code",
   "execution_count": null,
   "metadata": {},
   "outputs": [],
   "source": []
  },
  {
   "cell_type": "markdown",
   "metadata": {},
   "source": [
    "---"
   ]
  },
  {
   "cell_type": "code",
   "execution_count": null,
   "metadata": {},
   "outputs": [],
   "source": [
    "# Quantile\n",
    "\n",
    "q20 = df.new_cases.quantile(0.2)\n",
    "print(\"An 20% der Tage gab es weniger als {} Neuinfektionen.\".format(q20))"
   ]
  },
  {
   "cell_type": "markdown",
   "metadata": {},
   "source": [
    "### 2.2. Visualisierung mit Matplotlib"
   ]
  },
  {
   "cell_type": "markdown",
   "metadata": {},
   "source": [
    "Pandas haben eine plot() Funktion, die einfache Grafiken erzeugt. Die Dokumentation der ```plot```-Funktion findest du [hier](https://pandas.pydata.org/pandas-docs/version/0.23.4/generated/pandas.DataFrame.plot.html)."
   ]
  },
  {
   "cell_type": "code",
   "execution_count": null,
   "metadata": {},
   "outputs": [],
   "source": [
    "df.death_rate.plot()"
   ]
  },
  {
   "cell_type": "code",
   "execution_count": null,
   "metadata": {},
   "outputs": [],
   "source": [
    "df.new_cases.plot()"
   ]
  },
  {
   "cell_type": "markdown",
   "metadata": {},
   "source": [
    "Hier sehen wir eine Anomalie: Im August scheint etwas nicht zu stimmen... Dies ist genauer zu untersuchen:"
   ]
  },
  {
   "cell_type": "code",
   "execution_count": null,
   "metadata": {},
   "outputs": [],
   "source": [
    "# Auffälligkeit im August untersuchen...\n",
    "df_aug = df[\"2020-08-01\":\"2020-08-30\"]\n",
    "df_aug.new_cases.plot(kind=\"box\")"
   ]
  },
  {
   "cell_type": "code",
   "execution_count": null,
   "metadata": {},
   "outputs": [],
   "source": [
    "# Es gibt scheinbar zwei Ausreißer...\n",
    "df_aug[(df_aug.new_cases < 10) | (df_aug.new_cases > 400000)]"
   ]
  },
  {
   "cell_type": "code",
   "execution_count": null,
   "metadata": {},
   "outputs": [],
   "source": [
    "df[\"2020-08-1\":\"2020-08-30\"].new_cases.plot()"
   ]
  },
  {
   "cell_type": "code",
   "execution_count": null,
   "metadata": {},
   "outputs": [],
   "source": [
    "# Offenbar sind fälschlicherweise am 18.8. die Daten vom 17. und 18. gemeldet... \n",
    "# Wir entfernen der Einfachheit halber beide Tage aus dem Datensatz\n",
    "df = df[df.index!=\"2020-08-17\"]\n",
    "df = df[df.index!=\"2020-08-18\"]"
   ]
  },
  {
   "cell_type": "markdown",
   "metadata": {},
   "source": [
    "---\n",
    "### <span style=\"color:#FF5D02;\">Quick Task: Erzeuge zur Kontrolle das Linechart der Neuinfektionen erneut!</span>\n",
    "Was fällt dir an der Kurve auf? Wie könnte man das beheben?"
   ]
  },
  {
   "cell_type": "code",
   "execution_count": null,
   "metadata": {},
   "outputs": [],
   "source": []
  },
  {
   "cell_type": "markdown",
   "metadata": {},
   "source": [
    "---"
   ]
  },
  {
   "cell_type": "code",
   "execution_count": null,
   "metadata": {},
   "outputs": [],
   "source": [
    "# Neue Cases der letzten 14 Tage\n",
    "\n",
    "df[-15:-1].new_cases.plot(kind=\"bar\", title=\"Neuinfektionen der letzten 14 Tage\")  "
   ]
  },
  {
   "cell_type": "code",
   "execution_count": null,
   "metadata": {},
   "outputs": [],
   "source": [
    "# Histogramm der neuen Fälle\n",
    "\n",
    "df.new_cases.plot(kind=\"hist\") "
   ]
  },
  {
   "cell_type": "code",
   "execution_count": null,
   "metadata": {},
   "outputs": [],
   "source": [
    "# Vergleich der neuen Fälle vor/nach Juli mit Histogrammen\n",
    "\n",
    "df.loc[df.index < \"2020-07-01\", \"new_cases\"].plot(kind=\"hist\", alpha=0.5) \n",
    "df.loc[df.index >= \"2020-07-01\", \"new_cases\"].plot(kind=\"hist\", alpha=0.5) "
   ]
  },
  {
   "cell_type": "markdown",
   "metadata": {},
   "source": [
    "---\n",
    "## 3. Zusammenhänge untersuchen und visualisieren <a id=\"kapitel3\"/>\n",
    "\n",
    "Im ersten Beispieldatensatz sind vermutlich wenige Zusammenhänge zu interessant, allenfalls zwischen new_deaths und new_cases. \n",
    "\n",
    "Wir verwenden das umfassendere Visualisierungspaket Seaborn, um komplexe Grafiken mit einfachen Befehlen zu erzeugen."
   ]
  },
  {
   "cell_type": "code",
   "execution_count": null,
   "metadata": {},
   "outputs": [],
   "source": [
    "# Korrelationsmatrix\n",
    "df.corr()"
   ]
  },
  {
   "cell_type": "code",
   "execution_count": null,
   "metadata": {},
   "outputs": [],
   "source": [
    "# Advanced Styling mit Package Seaborn, Beispiele: https://seaborn.pydata.org/tutorial/distributions.html\n",
    "import seaborn as sns\n",
    "\n",
    "sns.heatmap(df.corr(), cmap=\"coolwarm\")"
   ]
  },
  {
   "cell_type": "code",
   "execution_count": null,
   "metadata": {},
   "outputs": [],
   "source": [
    "sns.pairplot(df.loc[:,[\"new_cases\",\"new_deaths\", \"active\"]])"
   ]
  },
  {
   "cell_type": "markdown",
   "metadata": {},
   "source": [
    "---\n",
    "## 4. Anwendungsbeispiel Minecraft Kernbohrung <a id=\"kapitel4\"/>\n",
    "\n",
    "Zunächst lesen wir die CSV-Daten ein und ergänzen mit den gelernten Werkzeugen die Blocknamen zu den Ids um."
   ]
  },
  {
   "cell_type": "code",
   "execution_count": null,
   "metadata": {},
   "outputs": [],
   "source": [
    "df_kern = pd.read_csv(\"kernbohrung.csv\")\n",
    "df_kern.head(5)"
   ]
  },
  {
   "cell_type": "markdown",
   "metadata": {},
   "source": [
    "### 4.1. Datenaufbereitung\n",
    "Im ersten Schritt ergänzen wir zu den Block-Ids die Blocknamen."
   ]
  },
  {
   "cell_type": "code",
   "execution_count": null,
   "metadata": {},
   "outputs": [],
   "source": [
    "# In einem Dictionary sind die häufigsten Block-Ids den Blocknamen zugeordnet\n",
    "block_names = {\n",
    "    0: \"Air\",\n",
    "    1: \"Stone\",\n",
    "    2: \"Grass\",\n",
    "    3: \"Dirt\",\n",
    "    4: \"Cobblestone\",\n",
    "    5: \"Wood Planks\",\n",
    "    6: \"Sapling\",\n",
    "    7: \"Bedrock\",\n",
    "    8: \"Water\",\n",
    "    9: \"Water\",\n",
    "    10: \"Lava\",\n",
    "    11: \"Lava\",\n",
    "    12: \"Sand\",\n",
    "    13: \"Gravel\",\n",
    "    14: \"Gold Ore\",\n",
    "    15: \"Iron Ore\",\n",
    "    16: \"Coal Ore\",\n",
    "    17: \"Wood\",\n",
    "    18: \"Leaves\",\n",
    "    21: \"Lapislazuli Ore\",\n",
    "    24: \"Sandstone\"\n",
    "}\n",
    "df_kern[\"blockname\"] = df_kern.blocktyp.replace(block_names)  # Suchen/Ersetzen anhand des Dictionary\n",
    "df_kern.sample(5)"
   ]
  },
  {
   "cell_type": "markdown",
   "metadata": {},
   "source": [
    "Nun segmentieren wir die Kernbohrung nach Höhe zwei Mal: Einmal in drei und einmal in 10 gleich große Schichten (33%-Quantile, Perzentile).  \n",
    "\n",
    "Pandas bieten hierfür ```qcut```, die anhand eines Merkmals Quantilintervalle berechnet und diese je Zeile zurückgibt:"
   ]
  },
  {
   "cell_type": "code",
   "execution_count": null,
   "metadata": {},
   "outputs": [],
   "source": [
    "df_kern[\"layer\"] = pd.qcut(df_kern.y, 3, labels = [\"low\", \"mid\", \"high\"])\n",
    "df_kern[\"perzentil\"] = pd.qcut(df_kern.y, 10, labels = range(1,11))\n",
    "df_kern.sample(5)"
   ]
  },
  {
   "cell_type": "markdown",
   "metadata": {},
   "source": [
    "### 4.2. Datenvisualisierung\n",
    "Sehen wir uns zunächst die Anzahl der Blocktypen gesamt und in den drei wesentlichen Schichten an:"
   ]
  },
  {
   "cell_type": "code",
   "execution_count": null,
   "metadata": {},
   "outputs": [],
   "source": [
    "df_kern.blockname.value_counts().plot(kind=\"barh\")"
   ]
  },
  {
   "cell_type": "markdown",
   "metadata": {},
   "source": [
    "\n",
    "Sehen wir uns zunächst die Anzahl der Blocktypen gesamt und in den drei wesentlichen Schichten an:"
   ]
  },
  {
   "cell_type": "code",
   "execution_count": null,
   "metadata": {},
   "outputs": [],
   "source": [
    "fig, ax = plt.subplots(1,3,figsize=(18,5))\n",
    "ax[0].set_title(\"Low\")\n",
    "df_kern[df_kern.layer==\"low\"].blockname.value_counts().plot(kind=\"bar\", ax=ax[0])\n",
    "ax[1].set_title(\"Med\")\n",
    "df_kern[df_kern.layer==\"mid\"].blockname.value_counts().plot(kind=\"bar\", ax=ax[1])\n",
    "ax[2].set_title(\"High\")\n",
    "df_kern[df_kern.layer==\"high\"].blockname.value_counts().plot(kind=\"bar\", ax=ax[2])\n",
    "plt.show()"
   ]
  },
  {
   "cell_type": "markdown",
   "metadata": {},
   "source": [
    "### 4.3. Datenvisualisierung aggregierter Daten\n",
    "Um in einem Beispiel alles bisher gelernte zusammen zu nehmen, betrachten wir nun die Verteilung des Blöcke \"Stone\", \"Water\", \"Air\", \"Gold Ore\" (\"swag\") über die Perzentile hinweg:"
   ]
  },
  {
   "cell_type": "code",
   "execution_count": null,
   "metadata": {},
   "outputs": [],
   "source": [
    "# Stone und alle anderen Blocktypen zu Stone/Other zusammenfassen\n",
    "df_swag = df_kern.copy()\n",
    "df_swag.loc[ ~ df_kern.blockname.isin([\"Gold Ore\", \"Water\",\"Air\"]), \"blockname\"] = \"Stone/Other\"\n",
    "df_swag = df_swag.loc[:,[\"perzentil\",\"blockname\",\"blocktyp\"]]\n",
    "dist = df_swag.groupby([\"perzentil\",\"blockname\"]).agg(\"count\").fillna(0).unstack()\n",
    "dist.columns = dist.columns.get_level_values(1)"
   ]
  },
  {
   "cell_type": "code",
   "execution_count": null,
   "metadata": {},
   "outputs": [],
   "source": [
    "# Spalten sortieren\n",
    "dist = dist.loc[:,[\"Stone/Other\",\"Gold Ore\",\"Water\",\"Air\"]]\n",
    "\n",
    "# Diagramm erzeugen\n",
    "dist.plot(kind=\"barh\", stacked=True, xticks=range(0,12),\n",
    "            alpha=0.7, color=[\"0.1\", \"#E2B007\", \"#3444C8\",\"0.8\"])\n",
    "plt.legend(title=\"Legende\", bbox_to_anchor=(1.05, 1), loc=\"upper left\")\n",
    "plt.show()"
   ]
  },
  {
   "cell_type": "markdown",
   "metadata": {},
   "source": [
    "---\n",
    "## 5. Anwendungsbeispiel Kreditvergabe <a id=\"kapitel4\"/>\n",
    "\n",
    "Wir betrachten im Folgenden einen Datensatz mit Privatkreditvorgängen einer deutschen Bank.  \n",
    "Hierbei durchlaufen wir dieselbe Prozedur, bauen aber die Grafiken etwas eleganter auf.\n",
    "\n",
    "Der Datensatz kommt vom Datebankserver und umfasst folgende Merkmalen:\n",
    "   >  *Age* (numeric)  \n",
    "   >  *Sex* (text: male, female)  \n",
    "   >  *Job* (numeric: 0 - unskilled and non-resident, 1 - unskilled and resident, 2 - skilled, 3 - highly skilled)  \n",
    "   >  *Housing* (text: own, rent, or free)  \n",
    "   >  *Saving accounts* (text - little, moderate, quite rich, rich)  \n",
    "   >  *Checking account* (text - little, moderate, quite rich, rich)   \n",
    "   >  *Credit amount* (numeric, in EUR)  \n",
    "   >  *Duration* (numeric, in month)  \n",
    "   >  *Purpose* (text: car, furniture/equipment, radio/TV, domestic appliances, repairs, education, business, vacation/others  \n",
    "   >  *Risk* (Value target - Good or Bad Risk)  "
   ]
  },
  {
   "cell_type": "markdown",
   "metadata": {},
   "source": [
    "### 5.1. Daten einlesen und aufbereiten"
   ]
  },
  {
   "cell_type": "code",
   "execution_count": null,
   "metadata": {},
   "outputs": [],
   "source": [
    "# Verbindung zum Datenbankserver herstellen\n",
    "\n",
    "%load_ext sql\n",
    "%sql sqlite:///data/smi-data.db\n",
    "\n",
    "# SQL-Abfrage durchführen und Ergebnis in Variable result speichern        \n",
    "        \n",
    "result = %sql SELECT * FROM credit_ger\n",
    "\n",
    "# Aus Result ein DataFrame machen und in Variable df speichern\n",
    "\n",
    "df = result.DataFrame()\n",
    "df = df.set_index([\"id\"])\n",
    "df.head(5)"
   ]
  },
  {
   "cell_type": "code",
   "execution_count": null,
   "metadata": {},
   "outputs": [],
   "source": [
    "# Spaltenbenennungen vereinfachen\n",
    "df = df.rename({\n",
    "    \"Age\": \"age\",\n",
    "    \"Sex\": \"sex\",\n",
    "    \"Job\": \"job\",\n",
    "    \"Housing\": \"housing\",\n",
    "    \"Saving_accounts\": \"savings\", \n",
    "    \"Checking_account\": \"cash\",\n",
    "    \"Credit_amount\": \"amount\",\n",
    "    \"Duration\": \"duration\",\n",
    "    \"Purpose\": \"purpose\",\n",
    "    \"Risk\": \"risk\"\n",
    "}, axis=\"columns\")"
   ]
  },
  {
   "cell_type": "markdown",
   "metadata": {},
   "source": [
    "### 5.2. Merkmale untersuchen und visualisieren"
   ]
  },
  {
   "cell_type": "code",
   "execution_count": null,
   "metadata": {},
   "outputs": [],
   "source": [
    "# Deskriptive Statistik der wichtigsten Merkmale\n",
    "\n",
    "df[['age', 'duration', \"amount\"]].describe()"
   ]
  },
  {
   "cell_type": "markdown",
   "metadata": {},
   "source": [
    "#### Untersuchung Kreditausfälle und Alter"
   ]
  },
  {
   "cell_type": "code",
   "execution_count": null,
   "metadata": {},
   "outputs": [],
   "source": [
    "# Globale Kreditausfallquote\n",
    "\n",
    "# Berechnung mit DataFrame-Filtern\n",
    "\n",
    "credit_default_rate = df[df.risk==\"good\"].risk.count() / df.risk.count()\n",
    "print (credit_default_rate)"
   ]
  },
  {
   "cell_type": "code",
   "execution_count": null,
   "metadata": {},
   "outputs": [],
   "source": [
    "fig, ax = plt.subplots(1, 3, figsize=(16,6))\n",
    "fig.suptitle(\"Kreditausfälle und Alter\", fontsize=14)\n",
    "\n",
    "ax[0].set_title(\"Kreditverlauf\")\n",
    "sns.histplot(df.risk, ax=ax[0])\n",
    "\n",
    "ax[1].set_title(\"Altersverteilung\")\n",
    "sns.histplot(df.age, ax=ax[1])\n",
    "\n",
    "ax[2].set_title(\"Altersverteilung nach Kreditausfall\")\n",
    "sns.histplot(x=df.age, hue=df.risk, ax=ax[2], palette=\"RdYlGn_r\", bins=10)\n",
    "\n",
    "plt.show()"
   ]
  },
  {
   "cell_type": "code",
   "execution_count": null,
   "metadata": {},
   "outputs": [],
   "source": [
    "fig, ax = plt.subplots(2,3,figsize=(20,10))\n",
    "\n",
    "# Verteilungen von Amount, Duration und Age im Histogramm zeigen\n",
    "\n",
    "plt.suptitle(\"Verteilungen\", fontsize=14)\n",
    "sns.histplot(df.amount, bins=40, ax=ax[0,0]);\n",
    "sns.histplot(df.duration, bins=40, ax=ax[0,1], color=\"salmon\");\n",
    "sns.histplot(df.age, bins=40, ax=ax[0,2], color=\"darkviolet\");\n",
    "\n",
    "# Ergänzend Boxplots\n",
    "\n",
    "sns.boxplot(x=df.amount, ax=ax[1,0]);\n",
    "sns.boxplot(x=df.duration, ax=ax[1,1], color=\"salmon\");\n",
    "sns.boxplot(x=df.age, ax=ax[1,2], color=\"darkviolet\");\n",
    "\n",
    "plt.show() "
   ]
  },
  {
   "cell_type": "markdown",
   "metadata": {},
   "source": [
    "#### Auffälligkeiten\n",
    "- Kredite typischerweise 1400-4000 EUR und 1-2 Jahre\n",
    "- Kredite mit vielen Ausreißerun nach oben (>7500)\n",
    "- Kreditnehmer Ende 20 bis Anfang 40 "
   ]
  },
  {
   "cell_type": "markdown",
   "metadata": {},
   "source": [
    "### 5.3. Zusammenhänge untersuchen und visualisieren"
   ]
  },
  {
   "cell_type": "markdown",
   "metadata": {},
   "source": [
    "In diesem Abschnitt sehen wir uns an, ob einfache Zusammenhänge zwischen Merkmalen zu erkennen sind.\n",
    "\n",
    "### 5.3.1. Kreuztabellen für nominale Merkmale\n",
    "\n",
    "Zur Exploration nominale Merkmalzusammenhänge (sex, cash, savings, housing, purpose, risk) können wir mit einfachen Kreuztabellen arbeiten. Ein Beispiel:"
   ]
  },
  {
   "cell_type": "code",
   "execution_count": null,
   "metadata": {},
   "outputs": [],
   "source": [
    "pd.crosstab(df.cash, df.savings)"
   ]
  },
  {
   "cell_type": "code",
   "execution_count": null,
   "metadata": {},
   "outputs": [],
   "source": [
    "pd.crosstab(df.cash, df.savings, normalize=\"columns\")  # Spaltenweise %-Werte, also: Cash-Verteilung über Savings-Kassen"
   ]
  },
  {
   "cell_type": "code",
   "execution_count": null,
   "metadata": {},
   "outputs": [],
   "source": [
    "sns.heatmap(pd.crosstab(df.cash, df.savings, normalize=\"columns\"), annot=True, cmap=\"YlGnBu\")"
   ]
  },
  {
   "cell_type": "markdown",
   "metadata": {},
   "source": [
    "Was fällt auf? Wer hat am meisten, wer am wenigsten Barvermögen?"
   ]
  },
  {
   "cell_type": "markdown",
   "metadata": {},
   "source": [
    "### 5.3.2. Betrachtung vieler Merkmale mit PairPlots "
   ]
  },
  {
   "cell_type": "code",
   "execution_count": null,
   "metadata": {},
   "outputs": [],
   "source": [
    "# Um die ganze Breite nominal/kardinaler Merkmale zu erschlagen, kann das Seaborn PairGrid helfen:\n",
    "\n",
    "g = sns.PairGrid(df, vars=[\"sex\", \"cash\", \"savings\", \"housing\", \"purpose\", \"risk\"], hue=\"risk\")\n",
    "g.map_diag(sns.histplot, multiple=\"stack\")  # Diagrammtyp auf der Diagonalen der Pair-Matrix\n",
    "g.map_offdiag(sns.histplot)       # Diagrammtyp für Matrixfelder außerhalb der Diagonalen\n",
    "g.add_legend(title='Merkmal', frameon=True)"
   ]
  },
  {
   "cell_type": "markdown",
   "metadata": {},
   "source": [
    "### 5.3.3. Pairplots für metrische Merkmale"
   ]
  },
  {
   "cell_type": "markdown",
   "metadata": {},
   "source": [
    "Damit die Darstellung noch übersichtlich bleibt, Teilen wir die Merkmale in zwei Mengen, innerhalb derer sich Zusammenhänge vermuten lassen:"
   ]
  },
  {
   "cell_type": "code",
   "execution_count": null,
   "metadata": {},
   "outputs": [],
   "source": [
    "metrische_merkmale = [\"risk\",\"amount\", \"duration\", \"age\"]\n",
    "sns.pairplot(df.loc[:,metrische_merkmale], hue=\"risk\")\n",
    "plt.show()"
   ]
  },
  {
   "cell_type": "markdown",
   "metadata": {},
   "source": [
    "#### Auffälligkeiten\n",
    "- Amount vs. Duration: Größere Kredite werden in überwiegender Zahl für längere Laufzeiten vergeben.\n",
    "- Amount vs. Duration: Größere Kredite mit Laufzeit < 2 Jahren fallen sämtlich aus\n",
    "- Duration vs. Duration: Kredite ab 50 Monaten fallen zu 50% aus"
   ]
  },
  {
   "cell_type": "markdown",
   "metadata": {},
   "source": [
    "---\n",
    "### <span style=\"color:#FF5D02;\">Quick Task: Erzeuge das Diagramm duration vs. amount separat um es genauer zu betrachten!</span>\n",
    "Tip: Verwende die Funktion ```sns.scatterplot()``` ([Dokumentation](https://seaborn.pydata.org/generated/seaborn.scatterplot.html)). Fällt dir etwas auf?"
   ]
  },
  {
   "cell_type": "code",
   "execution_count": null,
   "metadata": {},
   "outputs": [],
   "source": []
  },
  {
   "cell_type": "markdown",
   "metadata": {},
   "source": [
    "---"
   ]
  },
  {
   "cell_type": "markdown",
   "metadata": {},
   "source": [
    "Das Merkmale zur Untersichung ist der Kreditzweck (\"purpose\")."
   ]
  },
  {
   "cell_type": "code",
   "execution_count": null,
   "metadata": {},
   "outputs": [],
   "source": [
    "# Zweck des Kredits vs. Rückzahlungshäufigkeit\n",
    "pd.crosstab(df.purpose, df.risk, normalize=\"index\")        # normalize: keine absolute Häufigkeit sondern zeilenweise (index) relative Häufigkeit angeben"
   ]
  },
  {
   "cell_type": "code",
   "execution_count": null,
   "metadata": {},
   "outputs": [],
   "source": [
    "# Rückzahlungsquoten scheinen bei 60-70% zu liegen\n",
    "# Genauere Untersuchung durch Visualisierung\n",
    "fig, ax = plt.subplots(1,2,figsize=(15,8))\n",
    "plt.suptitle('Zweck des Kredits')\n",
    "\n",
    "sns.countplot(y=df.purpose, hue=df.risk, ax=ax[0])\n",
    "sns.boxplot(y=df.purpose, x=df.amount, hue=df.risk, ax=ax[1])\n",
    "plt.tight_layout()\n",
    "plt.show()"
   ]
  },
  {
   "cell_type": "markdown",
   "metadata": {},
   "source": [
    "#### Auffälligkeiten\n",
    "- Hoher Zusammenhang zwischen Ausfallrisko und Kreditzweck\n",
    "- Übermäßig teure Reisekredite (>11k) fallen alle aus\n",
    "- Höhere Kredite fallen eher aus"
   ]
  },
  {
   "cell_type": "code",
   "execution_count": null,
   "metadata": {},
   "outputs": [],
   "source": [
    "# Zweck des Kredits vs. Wohnsituation und Qualifikation\n",
    "\n",
    "fig, ax = plt.subplots(1,1,figsize=(18,8))\n",
    "plt.suptitle('Housing und Qualifikation')\n",
    "\n",
    "sns.violinplot(x=df.housing, y=df.job, hue=df.risk, split=True);"
   ]
  },
  {
   "cell_type": "markdown",
   "metadata": {},
   "source": [
    "#### Auffälligkeiten\n",
    "- Geringe Qualifikation, kein Wohneigentum oder Mietverhältnis ist eine problematische Kombination\n",
    "- Bei Wohneigentum generell höhere Rückzahlungshäufigkeit, insbl. mit Berufsausbildung (\"skilled\", job = 2)\n",
    "- In höchster Qualifikationsstufe keine Wechselwirkung mit Wohnsituation erkennbar"
   ]
  },
  {
   "cell_type": "markdown",
   "metadata": {},
   "source": [
    "---\n",
    "### <span style=\"color:#FF5D02;\">Aufgabe: Exploration weiterer Merkmale</span>\n",
    "Untersuche die Merkmale ```sex```, ```savings``` und ```cash``` einzeln und im Zusammenhang mit der Kreditrückzahlungsquote!  \n",
    "\n",
    "Führe die Untersuchung sowohl tabellarisch als auch grafisch durch."
   ]
  },
  {
   "cell_type": "code",
   "execution_count": null,
   "metadata": {},
   "outputs": [],
   "source": []
  }
 ],
 "metadata": {
  "kernelspec": {
   "display_name": "Python 3",
   "language": "python",
   "name": "python3"
  },
  "language_info": {
   "codemirror_mode": {
    "name": "ipython",
    "version": 3
   },
   "file_extension": ".py",
   "mimetype": "text/x-python",
   "name": "python",
   "nbconvert_exporter": "python",
   "pygments_lexer": "ipython3",
   "version": "3.7.4"
  }
 },
 "nbformat": 4,
 "nbformat_minor": 4
}

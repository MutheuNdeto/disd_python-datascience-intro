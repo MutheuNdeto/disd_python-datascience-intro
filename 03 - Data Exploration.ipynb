{
 "cells": [
  {
   "cell_type": "markdown",
   "metadata": {},
   "source": [
    "<div>\n",
    "    <img style=\"float:right;\" src=\"images/smi-logo.png\"/>\n",
    "    <div style=\"float:left;color:#58288C;\"><h1>Datenanalyse und Datenmanagement</h1></div>\n",
    "</div>"
   ]
  },
  {
   "cell_type": "markdown",
   "metadata": {},
   "source": [
    "---\n",
    "# Notebook III: Data Exploration\n",
    "In diesem Notebook geht es um die Verwendung von Python zur Erkundung eines eingelesenen Datenbestands.  \n",
    "Hierzu werden einfache statistische Techniken und Visualisierungsformen eingesetzt.\n",
    "\n",
    "## Inhaltsverzeichnis\n",
    "\n",
    "[1. Daten einlesen und aufbereiten](#kapitel1)  \n",
    "[2. Merkmale untersuchen und visualisieren](#kapitel2)  \n",
    "[3. Zusammenhänge untersuchen und visualisieren](#kapitel3)  \n",
    "[4. Anwendungsbeispiel Minecraft Kernbohrung](#kapitel4)  \n",
    "[5. Anwendungsbeispiel Kreditvergabe](#kapitel5)  \n",
    "\n",
    "---"
   ]
  },
  {
   "cell_type": "markdown",
   "metadata": {},
   "source": [
    "## 1. Daten einlesen und aufbereiten <a id=\"kapitel1\"/>"
   ]
  },
  {
   "cell_type": "markdown",
   "metadata": {},
   "source": [
    "### 1.1. DataFrames und grobe Datenvalidierung\n",
    "Pandas sind das zentrale Werkzeug zum einlesen und manipulieren von Daten in Python. Für unsere Zwecke ist die Datenstruktur des ```DataFrames``` am wichtigsten:\n",
    "\n",
    "> **DataFrame** is a 2-dimensional labeled data structure with columns of potentially different types.  \n",
    "> You can think of it like a spreadsheet or SQL table [...]. It is generally the most commonly used pandas object.  \n",
    "> [(Quelle)](https://pandas.pydata.org/pandas-docs/stable/user_guide/dsintro.html)\n",
    "\n",
    "Dataframes haben demnach Zeilen (\"Rows\") und Spalten (\"Columns\") können zudem einen Index haben - ein datensatzidentifizierendes Merkmal, ähnlich dem Primärschlüssel in der Datenbank.  \n",
    "<img src=\"images/dataframe.png\"/>  \n",
    "DataFrames organisieren die Daten im Arbeitsspeicher, die mit SQL oder über APIs aus Datenquellen eingelesen werden. Die Dokumentation zu DataFrames findest du [hier](https://pandas.pydata.org/pandas-docs/stable/reference/frame.html). "
   ]
  },
  {
   "cell_type": "markdown",
   "metadata": {},
   "source": [
    "Nutzen wir die Daten der COVID19-API aus der letzten Übung als Beispiel: "
   ]
  },
  {
   "cell_type": "code",
   "execution_count": 124,
   "metadata": {},
   "outputs": [
    {
     "name": "stdout",
     "output_type": "stream",
     "text": [
      "The sql extension is already loaded. To reload it, use:\n",
      "  %reload_ext sql\n"
     ]
    }
   ],
   "source": [
    "# Notebook extensions und Python Packages laden\n",
    "%load_ext sql\n",
    "\n",
    "import pandas as pd\n",
    "import requests\n",
    "import matplotlib.pyplot as plt\n",
    "import seaborn as sns\n",
    "\n",
    "# Visualisierung-Stil für Diagramme mit Seaview setzen\n",
    "sns.set(font_scale = 1.1,               # Schriften etwas größer als normal\n",
    "       palette     = \"pastel\",          # siehe zum Styling: http://seaborn.pydata.org/tutorial/color_palettes.html\n",
    "       style       = \"whitegrid\") \n",
    "\n",
    "# Jupyter-Feature: Wir wollen Diagramme direkt im Notebook sehen, nicht als Datei speichern o.ä.\n",
    "%matplotlib inline"
   ]
  },
  {
   "cell_type": "code",
   "execution_count": 125,
   "metadata": {},
   "outputs": [],
   "source": [
    "# API abfragen\n",
    "response = requests.get(\"https://corona-api.com/timeline\")\n",
    "df = pd.json_normalize(response.json(), record_path=\"data\")   # Im DataFrame df liegen nun die API-Daten"
   ]
  },
  {
   "cell_type": "markdown",
   "metadata": {},
   "source": [
    "Nun sind die abgefragten Daten im DataFrame ```df```. Wir überprüfen zunächst oberflächlich die Fehlerfreiheit:"
   ]
  },
  {
   "cell_type": "code",
   "execution_count": 126,
   "metadata": {},
   "outputs": [
    {
     "data": {
      "text/html": [
       "<div>\n",
       "<style scoped>\n",
       "    .dataframe tbody tr th:only-of-type {\n",
       "        vertical-align: middle;\n",
       "    }\n",
       "\n",
       "    .dataframe tbody tr th {\n",
       "        vertical-align: top;\n",
       "    }\n",
       "\n",
       "    .dataframe thead th {\n",
       "        text-align: right;\n",
       "    }\n",
       "</style>\n",
       "<table border=\"1\" class=\"dataframe\">\n",
       "  <thead>\n",
       "    <tr style=\"text-align: right;\">\n",
       "      <th></th>\n",
       "      <th>updated_at</th>\n",
       "      <th>date</th>\n",
       "      <th>deaths</th>\n",
       "      <th>confirmed</th>\n",
       "      <th>recovered</th>\n",
       "      <th>active</th>\n",
       "      <th>new_confirmed</th>\n",
       "      <th>new_recovered</th>\n",
       "      <th>new_deaths</th>\n",
       "      <th>is_in_progress</th>\n",
       "    </tr>\n",
       "  </thead>\n",
       "  <tbody>\n",
       "    <tr>\n",
       "      <th>0</th>\n",
       "      <td>2020-09-29T11:21:07.873Z</td>\n",
       "      <td>2020-09-29</td>\n",
       "      <td>1006432</td>\n",
       "      <td>33459764</td>\n",
       "      <td>24569706</td>\n",
       "      <td>7883626</td>\n",
       "      <td>770000</td>\n",
       "      <td>1986193</td>\n",
       "      <td>14399</td>\n",
       "      <td>True</td>\n",
       "    </tr>\n",
       "    <tr>\n",
       "      <th>1</th>\n",
       "      <td>2020-09-26T02:23:45.000Z</td>\n",
       "      <td>2020-09-26</td>\n",
       "      <td>992033</td>\n",
       "      <td>32689764</td>\n",
       "      <td>22583513</td>\n",
       "      <td>9114218</td>\n",
       "      <td>273530</td>\n",
       "      <td>243830</td>\n",
       "      <td>5213</td>\n",
       "      <td>NaN</td>\n",
       "    </tr>\n",
       "    <tr>\n",
       "      <th>2</th>\n",
       "      <td>2020-09-25T02:23:42.000Z</td>\n",
       "      <td>2020-09-25</td>\n",
       "      <td>986820</td>\n",
       "      <td>32416234</td>\n",
       "      <td>22339683</td>\n",
       "      <td>9089731</td>\n",
       "      <td>334519</td>\n",
       "      <td>227134</td>\n",
       "      <td>5944</td>\n",
       "      <td>NaN</td>\n",
       "    </tr>\n",
       "    <tr>\n",
       "      <th>3</th>\n",
       "      <td>2020-09-24T02:23:21.000Z</td>\n",
       "      <td>2020-09-24</td>\n",
       "      <td>980876</td>\n",
       "      <td>32081715</td>\n",
       "      <td>22112549</td>\n",
       "      <td>8988290</td>\n",
       "      <td>360194</td>\n",
       "      <td>260437</td>\n",
       "      <td>6680</td>\n",
       "      <td>NaN</td>\n",
       "    </tr>\n",
       "    <tr>\n",
       "      <th>4</th>\n",
       "      <td>2020-09-23T02:23:38.000Z</td>\n",
       "      <td>2020-09-23</td>\n",
       "      <td>974196</td>\n",
       "      <td>31721521</td>\n",
       "      <td>21852630</td>\n",
       "      <td>8894695</td>\n",
       "      <td>261377</td>\n",
       "      <td>265055</td>\n",
       "      <td>5506</td>\n",
       "      <td>NaN</td>\n",
       "    </tr>\n",
       "  </tbody>\n",
       "</table>\n",
       "</div>"
      ],
      "text/plain": [
       "                 updated_at        date   deaths  confirmed  recovered  \\\n",
       "0  2020-09-29T11:21:07.873Z  2020-09-29  1006432   33459764   24569706   \n",
       "1  2020-09-26T02:23:45.000Z  2020-09-26   992033   32689764   22583513   \n",
       "2  2020-09-25T02:23:42.000Z  2020-09-25   986820   32416234   22339683   \n",
       "3  2020-09-24T02:23:21.000Z  2020-09-24   980876   32081715   22112549   \n",
       "4  2020-09-23T02:23:38.000Z  2020-09-23   974196   31721521   21852630   \n",
       "\n",
       "    active  new_confirmed  new_recovered  new_deaths is_in_progress  \n",
       "0  7883626         770000        1986193       14399           True  \n",
       "1  9114218         273530         243830        5213            NaN  \n",
       "2  9089731         334519         227134        5944            NaN  \n",
       "3  8988290         360194         260437        6680            NaN  \n",
       "4  8894695         261377         265055        5506            NaN  "
      ]
     },
     "execution_count": 126,
     "metadata": {},
     "output_type": "execute_result"
    }
   ],
   "source": [
    "df.head(5)   # die ersten fünf Zeilen anzeigen"
   ]
  },
  {
   "cell_type": "code",
   "execution_count": 127,
   "metadata": {},
   "outputs": [
    {
     "data": {
      "text/html": [
       "<div>\n",
       "<style scoped>\n",
       "    .dataframe tbody tr th:only-of-type {\n",
       "        vertical-align: middle;\n",
       "    }\n",
       "\n",
       "    .dataframe tbody tr th {\n",
       "        vertical-align: top;\n",
       "    }\n",
       "\n",
       "    .dataframe thead th {\n",
       "        text-align: right;\n",
       "    }\n",
       "</style>\n",
       "<table border=\"1\" class=\"dataframe\">\n",
       "  <thead>\n",
       "    <tr style=\"text-align: right;\">\n",
       "      <th></th>\n",
       "      <th>updated_at</th>\n",
       "      <th>date</th>\n",
       "      <th>deaths</th>\n",
       "      <th>confirmed</th>\n",
       "      <th>recovered</th>\n",
       "      <th>active</th>\n",
       "      <th>new_confirmed</th>\n",
       "      <th>new_recovered</th>\n",
       "      <th>new_deaths</th>\n",
       "      <th>is_in_progress</th>\n",
       "    </tr>\n",
       "  </thead>\n",
       "  <tbody>\n",
       "    <tr>\n",
       "      <th>246</th>\n",
       "      <td>2020-01-26T15:00:00.000Z</td>\n",
       "      <td>2020-01-25</td>\n",
       "      <td>98</td>\n",
       "      <td>3556</td>\n",
       "      <td>91</td>\n",
       "      <td>3367</td>\n",
       "      <td>680</td>\n",
       "      <td>13</td>\n",
       "      <td>14</td>\n",
       "      <td>NaN</td>\n",
       "    </tr>\n",
       "    <tr>\n",
       "      <th>247</th>\n",
       "      <td>2020-01-25T16:00:00.000Z</td>\n",
       "      <td>2020-01-24</td>\n",
       "      <td>68</td>\n",
       "      <td>2379</td>\n",
       "      <td>75</td>\n",
       "      <td>2236</td>\n",
       "      <td>497</td>\n",
       "      <td>3</td>\n",
       "      <td>16</td>\n",
       "      <td>NaN</td>\n",
       "    </tr>\n",
       "    <tr>\n",
       "      <th>248</th>\n",
       "      <td>2020-01-24T16:00:00.000Z</td>\n",
       "      <td>2020-01-23</td>\n",
       "      <td>44</td>\n",
       "      <td>1594</td>\n",
       "      <td>66</td>\n",
       "      <td>1484</td>\n",
       "      <td>288</td>\n",
       "      <td>6</td>\n",
       "      <td>8</td>\n",
       "      <td>NaN</td>\n",
       "    </tr>\n",
       "    <tr>\n",
       "      <th>249</th>\n",
       "      <td>2020-01-23T16:00:00.000Z</td>\n",
       "      <td>2020-01-22</td>\n",
       "      <td>35</td>\n",
       "      <td>1208</td>\n",
       "      <td>58</td>\n",
       "      <td>1115</td>\n",
       "      <td>99</td>\n",
       "      <td>2</td>\n",
       "      <td>1</td>\n",
       "      <td>NaN</td>\n",
       "    </tr>\n",
       "    <tr>\n",
       "      <th>250</th>\n",
       "      <td>2020-01-22T16:00:00.000Z</td>\n",
       "      <td>2020-01-21</td>\n",
       "      <td>17</td>\n",
       "      <td>555</td>\n",
       "      <td>28</td>\n",
       "      <td>510</td>\n",
       "      <td>555</td>\n",
       "      <td>28</td>\n",
       "      <td>17</td>\n",
       "      <td>NaN</td>\n",
       "    </tr>\n",
       "  </tbody>\n",
       "</table>\n",
       "</div>"
      ],
      "text/plain": [
       "                   updated_at        date  deaths  confirmed  recovered  \\\n",
       "246  2020-01-26T15:00:00.000Z  2020-01-25      98       3556         91   \n",
       "247  2020-01-25T16:00:00.000Z  2020-01-24      68       2379         75   \n",
       "248  2020-01-24T16:00:00.000Z  2020-01-23      44       1594         66   \n",
       "249  2020-01-23T16:00:00.000Z  2020-01-22      35       1208         58   \n",
       "250  2020-01-22T16:00:00.000Z  2020-01-21      17        555         28   \n",
       "\n",
       "     active  new_confirmed  new_recovered  new_deaths is_in_progress  \n",
       "246    3367            680             13          14            NaN  \n",
       "247    2236            497              3          16            NaN  \n",
       "248    1484            288              6           8            NaN  \n",
       "249    1115             99              2           1            NaN  \n",
       "250     510            555             28          17            NaN  "
      ]
     },
     "execution_count": 127,
     "metadata": {},
     "output_type": "execute_result"
    }
   ],
   "source": [
    "df.tail(5)   # die letzten fünf Zeilen anzeigen"
   ]
  },
  {
   "cell_type": "code",
   "execution_count": 128,
   "metadata": {},
   "outputs": [
    {
     "data": {
      "text/html": [
       "<div>\n",
       "<style scoped>\n",
       "    .dataframe tbody tr th:only-of-type {\n",
       "        vertical-align: middle;\n",
       "    }\n",
       "\n",
       "    .dataframe tbody tr th {\n",
       "        vertical-align: top;\n",
       "    }\n",
       "\n",
       "    .dataframe thead th {\n",
       "        text-align: right;\n",
       "    }\n",
       "</style>\n",
       "<table border=\"1\" class=\"dataframe\">\n",
       "  <thead>\n",
       "    <tr style=\"text-align: right;\">\n",
       "      <th></th>\n",
       "      <th>updated_at</th>\n",
       "      <th>date</th>\n",
       "      <th>deaths</th>\n",
       "      <th>confirmed</th>\n",
       "      <th>recovered</th>\n",
       "      <th>active</th>\n",
       "      <th>new_confirmed</th>\n",
       "      <th>new_recovered</th>\n",
       "      <th>new_deaths</th>\n",
       "      <th>is_in_progress</th>\n",
       "    </tr>\n",
       "  </thead>\n",
       "  <tbody>\n",
       "    <tr>\n",
       "      <th>8</th>\n",
       "      <td>2020-09-19T02:22:56.000Z</td>\n",
       "      <td>2020-09-19</td>\n",
       "      <td>955029</td>\n",
       "      <td>30634480</td>\n",
       "      <td>20888116</td>\n",
       "      <td>8791335</td>\n",
       "      <td>280709</td>\n",
       "      <td>238908</td>\n",
       "      <td>5337</td>\n",
       "      <td>NaN</td>\n",
       "    </tr>\n",
       "    <tr>\n",
       "      <th>19</th>\n",
       "      <td>2020-09-08T02:28:48.000Z</td>\n",
       "      <td>2020-09-08</td>\n",
       "      <td>896678</td>\n",
       "      <td>27528168</td>\n",
       "      <td>18496713</td>\n",
       "      <td>8134777</td>\n",
       "      <td>237436</td>\n",
       "      <td>198748</td>\n",
       "      <td>4930</td>\n",
       "      <td>NaN</td>\n",
       "    </tr>\n",
       "    <tr>\n",
       "      <th>7</th>\n",
       "      <td>2020-09-20T02:23:18.000Z</td>\n",
       "      <td>2020-09-20</td>\n",
       "      <td>958706</td>\n",
       "      <td>30880116</td>\n",
       "      <td>21125060</td>\n",
       "      <td>8796350</td>\n",
       "      <td>245636</td>\n",
       "      <td>236944</td>\n",
       "      <td>3677</td>\n",
       "      <td>NaN</td>\n",
       "    </tr>\n",
       "    <tr>\n",
       "      <th>227</th>\n",
       "      <td>2020-02-13T17:53:02.000Z</td>\n",
       "      <td>2020-02-13</td>\n",
       "      <td>1370</td>\n",
       "      <td>60098</td>\n",
       "      <td>6275</td>\n",
       "      <td>52453</td>\n",
       "      <td>15148</td>\n",
       "      <td>1145</td>\n",
       "      <td>253</td>\n",
       "      <td>NaN</td>\n",
       "    </tr>\n",
       "    <tr>\n",
       "      <th>207</th>\n",
       "      <td>2020-03-04T20:13:07.000Z</td>\n",
       "      <td>2020-03-04</td>\n",
       "      <td>3245</td>\n",
       "      <td>94071</td>\n",
       "      <td>51010</td>\n",
       "      <td>39816</td>\n",
       "      <td>2277</td>\n",
       "      <td>2942</td>\n",
       "      <td>94</td>\n",
       "      <td>NaN</td>\n",
       "    </tr>\n",
       "  </tbody>\n",
       "</table>\n",
       "</div>"
      ],
      "text/plain": [
       "                   updated_at        date  deaths  confirmed  recovered  \\\n",
       "8    2020-09-19T02:22:56.000Z  2020-09-19  955029   30634480   20888116   \n",
       "19   2020-09-08T02:28:48.000Z  2020-09-08  896678   27528168   18496713   \n",
       "7    2020-09-20T02:23:18.000Z  2020-09-20  958706   30880116   21125060   \n",
       "227  2020-02-13T17:53:02.000Z  2020-02-13    1370      60098       6275   \n",
       "207  2020-03-04T20:13:07.000Z  2020-03-04    3245      94071      51010   \n",
       "\n",
       "      active  new_confirmed  new_recovered  new_deaths is_in_progress  \n",
       "8    8791335         280709         238908        5337            NaN  \n",
       "19   8134777         237436         198748        4930            NaN  \n",
       "7    8796350         245636         236944        3677            NaN  \n",
       "227    52453          15148           1145         253            NaN  \n",
       "207    39816           2277           2942          94            NaN  "
      ]
     },
     "execution_count": 128,
     "metadata": {},
     "output_type": "execute_result"
    }
   ],
   "source": [
    "df.sample(5) # Zufällige fünf Zeilen anzeigen"
   ]
  },
  {
   "cell_type": "code",
   "execution_count": 129,
   "metadata": {},
   "outputs": [
    {
     "data": {
      "text/plain": [
       "updated_at        251\n",
       "date              251\n",
       "deaths            251\n",
       "confirmed         251\n",
       "recovered         251\n",
       "active            251\n",
       "new_confirmed     251\n",
       "new_recovered     251\n",
       "new_deaths        251\n",
       "is_in_progress      1\n",
       "dtype: int64"
      ]
     },
     "execution_count": 129,
     "metadata": {},
     "output_type": "execute_result"
    }
   ],
   "source": [
    "df.count()   # Anzahl der Werte je Spalte prüfen - gibt es Lücken?"
   ]
  },
  {
   "cell_type": "markdown",
   "metadata": {},
   "source": [
    "### 1.2. Spalten organisieren und Datentypen festlegen"
   ]
  },
  {
   "cell_type": "markdown",
   "metadata": {},
   "source": [
    "> Wichtig: Bei allen Bearbeitungen des DataFrames wird eine Kopie mit den Änderungen erzeugt. Das ursprüngliche DataFrame bleibt unverändert.  \n",
    "> Soll eine Änderung vorgenommen werden, kann der Ursprungsvariablen das geänderte DataFrame direkt zugeordnet werden.  \n",
    "> _Beispiel: df = df.some_function()_"
   ]
  },
  {
   "cell_type": "code",
   "execution_count": 130,
   "metadata": {},
   "outputs": [
    {
     "data": {
      "text/html": [
       "<div>\n",
       "<style scoped>\n",
       "    .dataframe tbody tr th:only-of-type {\n",
       "        vertical-align: middle;\n",
       "    }\n",
       "\n",
       "    .dataframe tbody tr th {\n",
       "        vertical-align: top;\n",
       "    }\n",
       "\n",
       "    .dataframe thead th {\n",
       "        text-align: right;\n",
       "    }\n",
       "</style>\n",
       "<table border=\"1\" class=\"dataframe\">\n",
       "  <thead>\n",
       "    <tr style=\"text-align: right;\">\n",
       "      <th></th>\n",
       "      <th>date</th>\n",
       "      <th>deaths</th>\n",
       "      <th>cases</th>\n",
       "      <th>active</th>\n",
       "      <th>new_cases</th>\n",
       "      <th>new_deaths</th>\n",
       "    </tr>\n",
       "  </thead>\n",
       "  <tbody>\n",
       "    <tr>\n",
       "      <th>1</th>\n",
       "      <td>2020-09-26</td>\n",
       "      <td>992033</td>\n",
       "      <td>32689764</td>\n",
       "      <td>9114218</td>\n",
       "      <td>273530</td>\n",
       "      <td>5213</td>\n",
       "    </tr>\n",
       "    <tr>\n",
       "      <th>2</th>\n",
       "      <td>2020-09-25</td>\n",
       "      <td>986820</td>\n",
       "      <td>32416234</td>\n",
       "      <td>9089731</td>\n",
       "      <td>334519</td>\n",
       "      <td>5944</td>\n",
       "    </tr>\n",
       "  </tbody>\n",
       "</table>\n",
       "</div>"
      ],
      "text/plain": [
       "         date  deaths     cases   active  new_cases  new_deaths\n",
       "1  2020-09-26  992033  32689764  9114218     273530        5213\n",
       "2  2020-09-25  986820  32416234  9089731     334519        5944"
      ]
     },
     "execution_count": 130,
     "metadata": {},
     "output_type": "execute_result"
    }
   ],
   "source": [
    "# Bekommen wir aus der API auch unnötige Zeilen/Spalten, verwerfen wir diese zunächst\n",
    "# (bei Datenbanken würden wir nur die benötigten Felder mit SQL abfragen)\n",
    "\n",
    "# Zunächst entfernen wir den unvollständigen Datensatz, der mit \"is_in_progress\" gekennzeichnet ist\n",
    "\n",
    "df = df[df.is_in_progress != 1]\n",
    "\n",
    "# Die Funktion \"drop\" kann sowohl Zeilen als auch Spalten entfernen.\n",
    "# Für Spalten ist eine Liste der Spaltennamen anzugeben, sowie der Verweis, dass es sich um Spalten handelt (axis=\"columns\")\n",
    "\n",
    "df = df.drop([\"updated_at\", \"recovered\", \"new_recovered\", \"is_in_progress\"], axis=\"columns\")\n",
    "\n",
    "# Dazu ist es oft praktisch, Spalten einheitlich oder kürzer zu benennen\n",
    "\n",
    "df = df.rename(columns = {\n",
    "    \"new_confirmed\": \"new_cases\", \n",
    "    \"confirmed\":\"cases\"\n",
    "})\n",
    "\n",
    "df.head(2)"
   ]
  },
  {
   "cell_type": "code",
   "execution_count": 131,
   "metadata": {},
   "outputs": [],
   "source": [
    "# Damit Datums- und Zeitangaben etwa bei der Sortierung korrekt behandelt werden können, ist im DataFrame \n",
    "# der Datentyp korrekt zu setzen.\n",
    "\n",
    "df.date = df.date.astype(\"datetime64\")   # astype versucht den Inhalt des Strings als Datum zu interpretieren"
   ]
  },
  {
   "cell_type": "code",
   "execution_count": 132,
   "metadata": {},
   "outputs": [
    {
     "data": {
      "text/html": [
       "<div>\n",
       "<style scoped>\n",
       "    .dataframe tbody tr th:only-of-type {\n",
       "        vertical-align: middle;\n",
       "    }\n",
       "\n",
       "    .dataframe tbody tr th {\n",
       "        vertical-align: top;\n",
       "    }\n",
       "\n",
       "    .dataframe thead th {\n",
       "        text-align: right;\n",
       "    }\n",
       "</style>\n",
       "<table border=\"1\" class=\"dataframe\">\n",
       "  <thead>\n",
       "    <tr style=\"text-align: right;\">\n",
       "      <th></th>\n",
       "      <th>deaths</th>\n",
       "      <th>cases</th>\n",
       "      <th>active</th>\n",
       "      <th>new_cases</th>\n",
       "      <th>new_deaths</th>\n",
       "    </tr>\n",
       "    <tr>\n",
       "      <th>date</th>\n",
       "      <th></th>\n",
       "      <th></th>\n",
       "      <th></th>\n",
       "      <th></th>\n",
       "      <th></th>\n",
       "    </tr>\n",
       "  </thead>\n",
       "  <tbody>\n",
       "    <tr>\n",
       "      <th>2020-09-26</th>\n",
       "      <td>992033</td>\n",
       "      <td>32689764</td>\n",
       "      <td>9114218</td>\n",
       "      <td>273530</td>\n",
       "      <td>5213</td>\n",
       "    </tr>\n",
       "    <tr>\n",
       "      <th>2020-09-25</th>\n",
       "      <td>986820</td>\n",
       "      <td>32416234</td>\n",
       "      <td>9089731</td>\n",
       "      <td>334519</td>\n",
       "      <td>5944</td>\n",
       "    </tr>\n",
       "  </tbody>\n",
       "</table>\n",
       "</div>"
      ],
      "text/plain": [
       "            deaths     cases   active  new_cases  new_deaths\n",
       "date                                                        \n",
       "2020-09-26  992033  32689764  9114218     273530        5213\n",
       "2020-09-25  986820  32416234  9089731     334519        5944"
      ]
     },
     "execution_count": 132,
     "metadata": {},
     "output_type": "execute_result"
    }
   ],
   "source": [
    "# Das Datum ist bislang eine reguläre Spalte, ein vom DataFrame separat geführter Index zählt die Zeilen von 0-n durch.\n",
    "# Da es sich hier um Meldezeitpunkte handelt, ist das Datum der Index. Damit wird bspw. der Index automatisch als X-Achse in späteren Grafiken verwendet.\n",
    "\n",
    "df = df.set_index(\"date\")\n",
    "df.head(2)"
   ]
  },
  {
   "cell_type": "markdown",
   "metadata": {},
   "source": [
    "### 1.3. Daten sortieren und filtern"
   ]
  },
  {
   "cell_type": "code",
   "execution_count": 133,
   "metadata": {},
   "outputs": [],
   "source": [
    "# Sortieren\n",
    "df = df.sort_values(\"date\", axis=\"rows\", ascending=True)"
   ]
  },
  {
   "cell_type": "code",
   "execution_count": 134,
   "metadata": {},
   "outputs": [
    {
     "data": {
      "text/html": [
       "<div>\n",
       "<style scoped>\n",
       "    .dataframe tbody tr th:only-of-type {\n",
       "        vertical-align: middle;\n",
       "    }\n",
       "\n",
       "    .dataframe tbody tr th {\n",
       "        vertical-align: top;\n",
       "    }\n",
       "\n",
       "    .dataframe thead th {\n",
       "        text-align: right;\n",
       "    }\n",
       "</style>\n",
       "<table border=\"1\" class=\"dataframe\">\n",
       "  <thead>\n",
       "    <tr style=\"text-align: right;\">\n",
       "      <th></th>\n",
       "      <th>deaths</th>\n",
       "      <th>cases</th>\n",
       "      <th>active</th>\n",
       "      <th>new_cases</th>\n",
       "      <th>new_deaths</th>\n",
       "    </tr>\n",
       "    <tr>\n",
       "      <th>date</th>\n",
       "      <th></th>\n",
       "      <th></th>\n",
       "      <th></th>\n",
       "      <th></th>\n",
       "      <th></th>\n",
       "    </tr>\n",
       "  </thead>\n",
       "  <tbody>\n",
       "    <tr>\n",
       "      <th>2020-01-21</th>\n",
       "      <td>17</td>\n",
       "      <td>555</td>\n",
       "      <td>510</td>\n",
       "      <td>555</td>\n",
       "      <td>17</td>\n",
       "    </tr>\n",
       "    <tr>\n",
       "      <th>2020-01-22</th>\n",
       "      <td>35</td>\n",
       "      <td>1208</td>\n",
       "      <td>1115</td>\n",
       "      <td>99</td>\n",
       "      <td>1</td>\n",
       "    </tr>\n",
       "    <tr>\n",
       "      <th>2020-01-23</th>\n",
       "      <td>44</td>\n",
       "      <td>1594</td>\n",
       "      <td>1484</td>\n",
       "      <td>288</td>\n",
       "      <td>8</td>\n",
       "    </tr>\n",
       "    <tr>\n",
       "      <th>2020-01-24</th>\n",
       "      <td>68</td>\n",
       "      <td>2379</td>\n",
       "      <td>2236</td>\n",
       "      <td>497</td>\n",
       "      <td>16</td>\n",
       "    </tr>\n",
       "    <tr>\n",
       "      <th>2020-01-25</th>\n",
       "      <td>98</td>\n",
       "      <td>3556</td>\n",
       "      <td>3367</td>\n",
       "      <td>680</td>\n",
       "      <td>14</td>\n",
       "    </tr>\n",
       "  </tbody>\n",
       "</table>\n",
       "</div>"
      ],
      "text/plain": [
       "            deaths  cases  active  new_cases  new_deaths\n",
       "date                                                    \n",
       "2020-01-21      17    555     510        555          17\n",
       "2020-01-22      35   1208    1115         99           1\n",
       "2020-01-23      44   1594    1484        288           8\n",
       "2020-01-24      68   2379    2236        497          16\n",
       "2020-01-25      98   3556    3367        680          14"
      ]
     },
     "execution_count": 134,
     "metadata": {},
     "output_type": "execute_result"
    }
   ],
   "source": [
    "df.head(5)"
   ]
  },
  {
   "cell_type": "markdown",
   "metadata": {},
   "source": [
    "#### Spaltenzugriff und Felder\n",
    "Der Zugriff auf eine Spalte ist mit ```df[\"feldname\"]``` möglich, wenn der Name keine Leer- oder Sonderzeichen enthält auch vereinfacht mit ```df.feldname```."
   ]
  },
  {
   "cell_type": "code",
   "execution_count": 135,
   "metadata": {},
   "outputs": [
    {
     "data": {
      "text/plain": [
       "date\n",
       "2020-01-21       555\n",
       "2020-01-22        99\n",
       "2020-01-23       288\n",
       "2020-01-24       497\n",
       "2020-01-25       680\n",
       "               ...  \n",
       "2020-09-22    270373\n",
       "2020-09-23    261377\n",
       "2020-09-24    360194\n",
       "2020-09-25    334519\n",
       "2020-09-26    273530\n",
       "Name: new_cases, Length: 250, dtype: int64"
      ]
     },
     "execution_count": 135,
     "metadata": {},
     "output_type": "execute_result"
    }
   ],
   "source": [
    "# Um die Filterung zu verstehen sehen wir uns folgendes an:\n",
    "\n",
    "df.new_cases # gibt die Spalte zurück"
   ]
  },
  {
   "cell_type": "code",
   "execution_count": 136,
   "metadata": {},
   "outputs": [
    {
     "data": {
      "text/plain": [
       "date\n",
       "2020-01-21    False\n",
       "2020-01-22    False\n",
       "2020-01-23    False\n",
       "2020-01-24    False\n",
       "2020-01-25    False\n",
       "              ...  \n",
       "2020-09-22    False\n",
       "2020-09-23    False\n",
       "2020-09-24     True\n",
       "2020-09-25     True\n",
       "2020-09-26    False\n",
       "Name: new_cases, Length: 250, dtype: bool"
      ]
     },
     "execution_count": 136,
     "metadata": {},
     "output_type": "execute_result"
    }
   ],
   "source": [
    "df.new_cases > 300000 # gibt eine Spalte zurück, in denen jeweils das Ergebnis der Vergleichsoperation steht (True/False)"
   ]
  },
  {
   "cell_type": "markdown",
   "metadata": {},
   "source": [
    "Um nun zu filtern, übergeben wir diesen True/False Spaltenvektor an das DataFrame, um die gewünschten Zeilen zu selektieren:"
   ]
  },
  {
   "cell_type": "code",
   "execution_count": 137,
   "metadata": {},
   "outputs": [
    {
     "data": {
      "text/html": [
       "<div>\n",
       "<style scoped>\n",
       "    .dataframe tbody tr th:only-of-type {\n",
       "        vertical-align: middle;\n",
       "    }\n",
       "\n",
       "    .dataframe tbody tr th {\n",
       "        vertical-align: top;\n",
       "    }\n",
       "\n",
       "    .dataframe thead th {\n",
       "        text-align: right;\n",
       "    }\n",
       "</style>\n",
       "<table border=\"1\" class=\"dataframe\">\n",
       "  <thead>\n",
       "    <tr style=\"text-align: right;\">\n",
       "      <th></th>\n",
       "      <th>deaths</th>\n",
       "      <th>cases</th>\n",
       "      <th>active</th>\n",
       "      <th>new_cases</th>\n",
       "      <th>new_deaths</th>\n",
       "    </tr>\n",
       "    <tr>\n",
       "      <th>date</th>\n",
       "      <th></th>\n",
       "      <th></th>\n",
       "      <th></th>\n",
       "      <th></th>\n",
       "      <th></th>\n",
       "    </tr>\n",
       "  </thead>\n",
       "  <tbody>\n",
       "    <tr>\n",
       "      <th>2020-08-17</th>\n",
       "      <td>1553894</td>\n",
       "      <td>43960620</td>\n",
       "      <td>14438087</td>\n",
       "      <td>464697</td>\n",
       "      <td>10998</td>\n",
       "    </tr>\n",
       "    <tr>\n",
       "      <th>2020-09-15</th>\n",
       "      <td>934081</td>\n",
       "      <td>29508652</td>\n",
       "      <td>8527667</td>\n",
       "      <td>365772</td>\n",
       "      <td>7593</td>\n",
       "    </tr>\n",
       "    <tr>\n",
       "      <th>2020-09-24</th>\n",
       "      <td>980876</td>\n",
       "      <td>32081715</td>\n",
       "      <td>8988290</td>\n",
       "      <td>360194</td>\n",
       "      <td>6680</td>\n",
       "    </tr>\n",
       "    <tr>\n",
       "      <th>2020-07-29</th>\n",
       "      <td>666714</td>\n",
       "      <td>17008953</td>\n",
       "      <td>6404121</td>\n",
       "      <td>337088</td>\n",
       "      <td>7384</td>\n",
       "    </tr>\n",
       "    <tr>\n",
       "      <th>2020-09-25</th>\n",
       "      <td>986820</td>\n",
       "      <td>32416234</td>\n",
       "      <td>9089731</td>\n",
       "      <td>334519</td>\n",
       "      <td>5944</td>\n",
       "    </tr>\n",
       "    <tr>\n",
       "      <th>2020-09-18</th>\n",
       "      <td>949692</td>\n",
       "      <td>30353771</td>\n",
       "      <td>8754871</td>\n",
       "      <td>326428</td>\n",
       "      <td>5613</td>\n",
       "    </tr>\n",
       "    <tr>\n",
       "      <th>2020-09-11</th>\n",
       "      <td>914635</td>\n",
       "      <td>28436331</td>\n",
       "      <td>8335748</td>\n",
       "      <td>318664</td>\n",
       "      <td>5871</td>\n",
       "    </tr>\n",
       "    <tr>\n",
       "      <th>2020-09-17</th>\n",
       "      <td>944079</td>\n",
       "      <td>30027343</td>\n",
       "      <td>8676994</td>\n",
       "      <td>313592</td>\n",
       "      <td>5398</td>\n",
       "    </tr>\n",
       "    <tr>\n",
       "      <th>2020-09-21</th>\n",
       "      <td>962825</td>\n",
       "      <td>31189771</td>\n",
       "      <td>8867665</td>\n",
       "      <td>309655</td>\n",
       "      <td>4119</td>\n",
       "    </tr>\n",
       "    <tr>\n",
       "      <th>2020-09-04</th>\n",
       "      <td>873689</td>\n",
       "      <td>26569765</td>\n",
       "      <td>8005045</td>\n",
       "      <td>303895</td>\n",
       "      <td>5633</td>\n",
       "    </tr>\n",
       "    <tr>\n",
       "      <th>2020-08-14</th>\n",
       "      <td>765214</td>\n",
       "      <td>21180945</td>\n",
       "      <td>7156072</td>\n",
       "      <td>302430</td>\n",
       "      <td>10118</td>\n",
       "    </tr>\n",
       "  </tbody>\n",
       "</table>\n",
       "</div>"
      ],
      "text/plain": [
       "             deaths     cases    active  new_cases  new_deaths\n",
       "date                                                          \n",
       "2020-08-17  1553894  43960620  14438087     464697       10998\n",
       "2020-09-15   934081  29508652   8527667     365772        7593\n",
       "2020-09-24   980876  32081715   8988290     360194        6680\n",
       "2020-07-29   666714  17008953   6404121     337088        7384\n",
       "2020-09-25   986820  32416234   9089731     334519        5944\n",
       "2020-09-18   949692  30353771   8754871     326428        5613\n",
       "2020-09-11   914635  28436331   8335748     318664        5871\n",
       "2020-09-17   944079  30027343   8676994     313592        5398\n",
       "2020-09-21   962825  31189771   8867665     309655        4119\n",
       "2020-09-04   873689  26569765   8005045     303895        5633\n",
       "2020-08-14   765214  21180945   7156072     302430       10118"
      ]
     },
     "execution_count": 137,
     "metadata": {},
     "output_type": "execute_result"
    }
   ],
   "source": [
    "peaks = df[df.new_cases > 300000]                                      # alle Tage an denen > 300k Neuinfektionen auftraten\n",
    "\n",
    "peaks = peaks.sort_values(\"new_cases\", axis=\"rows\", ascending=False)   # absteigend nach Anzahl der Neuinfektionen sortieren\n",
    "peaks"
   ]
  },
  {
   "cell_type": "markdown",
   "metadata": {},
   "source": [
    "### 1.4. DataFrame partitionieren\n",
    "Mit DataFrames kann man ähnlich Listen und Dictionaries arbeiten:"
   ]
  },
  {
   "cell_type": "code",
   "execution_count": 138,
   "metadata": {},
   "outputs": [
    {
     "name": "stdout",
     "output_type": "stream",
     "text": [
      "Zugriff über Index\n",
      "555\n",
      "Zugriff über Indexausprägung und Spaltennamen\n",
      "555\n"
     ]
    }
   ],
   "source": [
    "print(\"Zugriff über Index\")\n",
    "print(df.iloc[0,1])\n",
    "\n",
    "print(\"Zugriff über Indexausprägung und Spaltennamen\")\n",
    "print(df.loc[\"2020-01-21\",\"cases\"])"
   ]
  },
  {
   "cell_type": "code",
   "execution_count": 139,
   "metadata": {},
   "outputs": [
    {
     "name": "stdout",
     "output_type": "stream",
     "text": [
      "Ranges\n",
      "            deaths  cases  active\n",
      "date                             \n",
      "2020-02-01     259  12049   11507\n",
      "2020-02-02     362  16694   15867\n",
      "2020-02-03     425  19750   18710\n",
      "2020-02-04     491  23833   22491\n",
      "2020-02-05     563  27516   25838\n",
      "2020-02-06     633  30695   28580\n",
      "2020-02-07     719  34245   31522\n",
      "2020-02-08     805  36944   33527\n",
      "2020-02-09     905  39981   35845\n",
      "2020-02-10    1012  42500   37559\n",
      "2020-02-11    1112  44582   38791\n",
      "2020-02-12    1118  44908   38666\n",
      "2020-02-13    1370  60098   52453\n",
      "2020-02-14    1522  66473   56946\n"
     ]
    }
   ],
   "source": [
    "print(\"Ranges\")\n",
    "print(df.loc[\"2020-02-01\":\"2020-02-14\", \"deaths\":\"active\"])"
   ]
  },
  {
   "cell_type": "code",
   "execution_count": 140,
   "metadata": {},
   "outputs": [
    {
     "name": "stdout",
     "output_type": "stream",
     "text": [
      "Subsets\n",
      "deaths      259\n",
      "active    11507\n",
      "Name: 2020-02-01 00:00:00, dtype: int64\n"
     ]
    }
   ],
   "source": [
    "print(\"Subsets\")\n",
    "print(df.loc[\"2020-02-01\", [\"deaths\", \"active\"]])"
   ]
  },
  {
   "cell_type": "markdown",
   "metadata": {},
   "source": [
    "### 1.5. Berechnungen durchführen"
   ]
  },
  {
   "cell_type": "code",
   "execution_count": 141,
   "metadata": {},
   "outputs": [
    {
     "data": {
      "text/plain": [
       "date\n",
       "2020-01-21    0.033333\n",
       "2020-01-22    0.000897\n",
       "2020-01-23    0.005391\n",
       "2020-01-24    0.007156\n",
       "2020-01-25    0.004158\n",
       "                ...   \n",
       "2020-09-22    0.000659\n",
       "2020-09-23    0.000619\n",
       "2020-09-24    0.000743\n",
       "2020-09-25    0.000654\n",
       "2020-09-26    0.000572\n",
       "Name: death_rate, Length: 250, dtype: float64"
      ]
     },
     "execution_count": 141,
     "metadata": {},
     "output_type": "execute_result"
    }
   ],
   "source": [
    "# Neue Spalte und Berechnungen\n",
    "\n",
    "df[\"death_rate\"] = df.new_deaths / df.active\n",
    "df.death_rate                                   # der Index \"date\" wird automatisch mit angezeigt, wenn wir die neue Spalte abrufen"
   ]
  },
  {
   "cell_type": "code",
   "execution_count": 142,
   "metadata": {},
   "outputs": [
    {
     "name": "stdout",
     "output_type": "stream",
     "text": [
      "An 11 von 250 Tagen sind mehr als 300.000 neue Fälle aufgetreten.\n"
     ]
    }
   ],
   "source": [
    "# Konditionale Zuweisungen\n",
    "df[\"bad_day\"] = 0                                  # Spalte anlegen, Wert ist überall 0\n",
    "df.loc[df.new_cases > 300000, \"bad_day\"] = 1       # Werte auf 1 setzen, wenn new_cases > 300.000\n",
    "\n",
    "print(\"An {} von {} Tagen sind mehr als 300.000 neue Fälle aufgetreten.\".format(df.bad_day.sum(), df.bad_day.count()))"
   ]
  },
  {
   "cell_type": "markdown",
   "metadata": {},
   "source": [
    "---\n",
    "## 2. Merkmale untersuchen und visualisieren <a id=\"kapitel2\"/>"
   ]
  },
  {
   "cell_type": "markdown",
   "metadata": {},
   "source": [
    "### 2.1. Deskriptive Statistiken"
   ]
  },
  {
   "cell_type": "code",
   "execution_count": 143,
   "metadata": {},
   "outputs": [
    {
     "data": {
      "text/plain": [
       "count      250.000000\n",
       "mean      4001.236000\n",
       "std       2558.146019\n",
       "min          0.000000\n",
       "25%       1724.500000\n",
       "50%       4651.000000\n",
       "75%       5697.000000\n",
       "max      10998.000000\n",
       "Name: new_deaths, dtype: float64"
      ]
     },
     "execution_count": 143,
     "metadata": {},
     "output_type": "execute_result"
    }
   ],
   "source": [
    "# Deskriptive Statistiken können für das gesamte Dataframe oder einzelne Spalten berechnet werden\n",
    "\n",
    "# df.describe()\n",
    "df.new_deaths.describe()"
   ]
  },
  {
   "cell_type": "code",
   "execution_count": 144,
   "metadata": {},
   "outputs": [
    {
     "name": "stdout",
     "output_type": "stream",
     "text": [
      "Median, Mean, Max, Min\n",
      "5448956.0 9381686.36 43960620 555\n"
     ]
    }
   ],
   "source": [
    "# Für jede Spalte können mit analoger Syntax die wesentlichen statistischen Maße berechnet werden.\n",
    "print(\"Median, Mean, Max, Min\")\n",
    "print(df.cases.median(), df.cases.mean(), df.cases.max(), df.cases.min())"
   ]
  },
  {
   "cell_type": "markdown",
   "metadata": {},
   "source": [
    "---\n",
    "### <span style=\"color:#FF5D02;\">Quick Task: Wieviele neue COVID-Fälle wurden an den schlimmsten und besten Tagen gemeldet?</span>"
   ]
  },
  {
   "cell_type": "code",
   "execution_count": null,
   "metadata": {},
   "outputs": [],
   "source": []
  },
  {
   "cell_type": "markdown",
   "metadata": {},
   "source": [
    "---"
   ]
  },
  {
   "cell_type": "code",
   "execution_count": 145,
   "metadata": {},
   "outputs": [
    {
     "name": "stdout",
     "output_type": "stream",
     "text": [
      "An 20% der Tage gab es weniger als 6174.200000000007 Neuinfektionen.\n"
     ]
    }
   ],
   "source": [
    "# Quantile\n",
    "\n",
    "p20 = df.new_cases.quantile(0.2)\n",
    "print(\"An 20% der Tage gab es weniger als {} Neuinfektionen.\".format(p20))"
   ]
  },
  {
   "cell_type": "markdown",
   "metadata": {},
   "source": [
    "### 2.2. Visualisierung mit Matplotlib"
   ]
  },
  {
   "cell_type": "markdown",
   "metadata": {},
   "source": [
    "Pandas haben eine plot() Funktion, die einfache Grafiken erzeugt. Die Dokumentation der ```plot```-Funktion findest du [hier](https://pandas.pydata.org/pandas-docs/version/0.23.4/generated/pandas.DataFrame.plot.html)."
   ]
  },
  {
   "cell_type": "code",
   "execution_count": 146,
   "metadata": {},
   "outputs": [
    {
     "data": {
      "text/plain": [
       "<AxesSubplot:xlabel='date'>"
      ]
     },
     "execution_count": 146,
     "metadata": {},
     "output_type": "execute_result"
    },
    {
     "data": {
      "image/png": "[encoded data removed]",
      "text/plain": [
       "<Figure size 432x288 with 1 Axes>"
      ]
     },
     "metadata": {
      "needs_background": "light"
     },
     "output_type": "display_data"
    }
   ],
   "source": [
    "df.death_rate.plot()"
   ]
  },
  {
   "cell_type": "code",
   "execution_count": 147,
   "metadata": {},
   "outputs": [
    {
     "data": {
      "text/plain": [
       "<AxesSubplot:xlabel='date'>"
      ]
     },
     "execution_count": 147,
     "metadata": {},
     "output_type": "execute_result"
    },
    {
     "data": {
      "image/png": "[encoded data removed]",
      "text/plain": [
       "<Figure size 432x288 with 1 Axes>"
      ]
     },
     "metadata": {
      "needs_background": "light"
     },
     "output_type": "display_data"
    }
   ],
   "source": [
    "df.new_cases.plot()"
   ]
  },
  {
   "cell_type": "markdown",
   "metadata": {},
   "source": [
    "Hier sehen wir eine Anomalie: Im August scheint etwas nicht zu stimmen... Dies ist genauer zu untersuchen:"
   ]
  },
  {
   "cell_type": "code",
   "execution_count": 148,
   "metadata": {},
   "outputs": [
    {
     "data": {
      "text/plain": [
       "<AxesSubplot:>"
      ]
     },
     "execution_count": 148,
     "metadata": {},
     "output_type": "execute_result"
    },
    {
     "data": {
      "image/png": "[encoded data removed]",
      "text/plain": [
       "<Figure size 432x288 with 1 Axes>"
      ]
     },
     "metadata": {
      "needs_background": "light"
     },
     "output_type": "display_data"
    }
   ],
   "source": [
    "# Auffälligkeit im August untersuchen...\n",
    "df[df.index.month==8].new_cases.plot(kind=\"box\")"
   ]
  },
  {
   "cell_type": "code",
   "execution_count": 149,
   "metadata": {},
   "outputs": [
    {
     "data": {
      "text/html": [
       "<div>\n",
       "<style scoped>\n",
       "    .dataframe tbody tr th:only-of-type {\n",
       "        vertical-align: middle;\n",
       "    }\n",
       "\n",
       "    .dataframe tbody tr th {\n",
       "        vertical-align: top;\n",
       "    }\n",
       "\n",
       "    .dataframe thead th {\n",
       "        text-align: right;\n",
       "    }\n",
       "</style>\n",
       "<table border=\"1\" class=\"dataframe\">\n",
       "  <thead>\n",
       "    <tr style=\"text-align: right;\">\n",
       "      <th></th>\n",
       "      <th>deaths</th>\n",
       "      <th>cases</th>\n",
       "      <th>active</th>\n",
       "      <th>new_cases</th>\n",
       "      <th>new_deaths</th>\n",
       "      <th>death_rate</th>\n",
       "      <th>bad_day</th>\n",
       "    </tr>\n",
       "    <tr>\n",
       "      <th>date</th>\n",
       "      <th></th>\n",
       "      <th></th>\n",
       "      <th></th>\n",
       "      <th></th>\n",
       "      <th></th>\n",
       "      <th></th>\n",
       "      <th></th>\n",
       "    </tr>\n",
       "  </thead>\n",
       "  <tbody>\n",
       "    <tr>\n",
       "      <th>2020-02-01</th>\n",
       "      <td>259</td>\n",
       "      <td>12049</td>\n",
       "      <td>11507</td>\n",
       "      <td>1</td>\n",
       "      <td>0</td>\n",
       "      <td>0.000000</td>\n",
       "      <td>0</td>\n",
       "    </tr>\n",
       "    <tr>\n",
       "      <th>2020-08-17</th>\n",
       "      <td>1553894</td>\n",
       "      <td>43960620</td>\n",
       "      <td>14438087</td>\n",
       "      <td>464697</td>\n",
       "      <td>10998</td>\n",
       "      <td>0.000762</td>\n",
       "      <td>1</td>\n",
       "    </tr>\n",
       "    <tr>\n",
       "      <th>2020-08-18</th>\n",
       "      <td>780384</td>\n",
       "      <td>22107978</td>\n",
       "      <td>7229407</td>\n",
       "      <td>0</td>\n",
       "      <td>0</td>\n",
       "      <td>0.000000</td>\n",
       "      <td>0</td>\n",
       "    </tr>\n",
       "  </tbody>\n",
       "</table>\n",
       "</div>"
      ],
      "text/plain": [
       "             deaths     cases    active  new_cases  new_deaths  death_rate  \\\n",
       "date                                                                         \n",
       "2020-02-01      259     12049     11507          1           0    0.000000   \n",
       "2020-08-17  1553894  43960620  14438087     464697       10998    0.000762   \n",
       "2020-08-18   780384  22107978   7229407          0           0    0.000000   \n",
       "\n",
       "            bad_day  \n",
       "date                 \n",
       "2020-02-01        0  \n",
       "2020-08-17        1  \n",
       "2020-08-18        0  "
      ]
     },
     "execution_count": 149,
     "metadata": {},
     "output_type": "execute_result"
    }
   ],
   "source": [
    "# Es gibt scheinbar zwei Ausreißer...\n",
    "df[(df.new_cases < 10) | (df.new_cases > 400000)]"
   ]
  },
  {
   "cell_type": "code",
   "execution_count": 150,
   "metadata": {},
   "outputs": [
    {
     "data": {
      "text/html": [
       "<div>\n",
       "<style scoped>\n",
       "    .dataframe tbody tr th:only-of-type {\n",
       "        vertical-align: middle;\n",
       "    }\n",
       "\n",
       "    .dataframe tbody tr th {\n",
       "        vertical-align: top;\n",
       "    }\n",
       "\n",
       "    .dataframe thead th {\n",
       "        text-align: right;\n",
       "    }\n",
       "</style>\n",
       "<table border=\"1\" class=\"dataframe\">\n",
       "  <thead>\n",
       "    <tr style=\"text-align: right;\">\n",
       "      <th></th>\n",
       "      <th>deaths</th>\n",
       "      <th>cases</th>\n",
       "      <th>active</th>\n",
       "      <th>new_cases</th>\n",
       "      <th>new_deaths</th>\n",
       "      <th>death_rate</th>\n",
       "      <th>bad_day</th>\n",
       "    </tr>\n",
       "    <tr>\n",
       "      <th>date</th>\n",
       "      <th></th>\n",
       "      <th></th>\n",
       "      <th></th>\n",
       "      <th></th>\n",
       "      <th></th>\n",
       "      <th></th>\n",
       "      <th></th>\n",
       "    </tr>\n",
       "  </thead>\n",
       "  <tbody>\n",
       "  </tbody>\n",
       "</table>\n",
       "</div>"
      ],
      "text/plain": [
       "Empty DataFrame\n",
       "Columns: [deaths, cases, active, new_cases, new_deaths, death_rate, bad_day]\n",
       "Index: []"
      ]
     },
     "execution_count": 150,
     "metadata": {},
     "output_type": "execute_result"
    }
   ],
   "source": [
    "df[\"2020-08-20\":\"2020-08-15\"]"
   ]
  },
  {
   "cell_type": "code",
   "execution_count": 151,
   "metadata": {},
   "outputs": [],
   "source": [
    "# Offenbar sind fälschlicherweise am 18.8. die Daten vom 17. und 18. gemeldet... \n",
    "# Wir entfernen der Einfachheit halber beide Tage aus dem Datensatz\n",
    "df = df[df.index!=\"2020-08-17\"]\n",
    "df = df[df.index!=\"2020-08-18\"]"
   ]
  },
  {
   "cell_type": "markdown",
   "metadata": {},
   "source": [
    "---\n",
    "### <span style=\"color:#FF5D02;\">Quick Task: Erzeuge zur Kontrolle das Linechart der Neuinfektionen erneut!</span>\n",
    "Was fällt dir an der Kurve auf? Wie könnte man das beheben?"
   ]
  },
  {
   "cell_type": "code",
   "execution_count": null,
   "metadata": {},
   "outputs": [],
   "source": []
  },
  {
   "cell_type": "markdown",
   "metadata": {},
   "source": [
    "---"
   ]
  },
  {
   "cell_type": "code",
   "execution_count": 152,
   "metadata": {},
   "outputs": [
    {
     "data": {
      "text/plain": [
       "<AxesSubplot:title={'center':'Neuinfektionen der letzten 14 Tage'}, xlabel='date'>"
      ]
     },
     "execution_count": 152,
     "metadata": {},
     "output_type": "execute_result"
    },
    {
     "data": {
      "image/png": "[encoded data removed]",
      "text/plain": [
       "<Figure size 432x288 with 1 Axes>"
      ]
     },
     "metadata": {
      "needs_background": "light"
     },
     "output_type": "display_data"
    }
   ],
   "source": [
    "# Neue Cases der letzten 14 Tage\n",
    "\n",
    "df[-15:-1].new_cases.plot(kind=\"bar\", title=\"Neuinfektionen der letzten 14 Tage\")  "
   ]
  },
  {
   "cell_type": "code",
   "execution_count": 153,
   "metadata": {},
   "outputs": [
    {
     "data": {
      "text/plain": [
       "<AxesSubplot:ylabel='Frequency'>"
      ]
     },
     "execution_count": 153,
     "metadata": {},
     "output_type": "execute_result"
    },
    {
     "data": {
      "image/png": "[encoded data removed]",
      "text/plain": [
       "<Figure size 432x288 with 1 Axes>"
      ]
     },
     "metadata": {
      "needs_background": "light"
     },
     "output_type": "display_data"
    }
   ],
   "source": [
    "# Histogramm der neuen Fälle\n",
    "\n",
    "df.new_cases.plot(kind=\"hist\") "
   ]
  },
  {
   "cell_type": "code",
   "execution_count": 154,
   "metadata": {},
   "outputs": [
    {
     "data": {
      "text/plain": [
       "<AxesSubplot:ylabel='Frequency'>"
      ]
     },
     "execution_count": 154,
     "metadata": {},
     "output_type": "execute_result"
    },
    {
     "data": {
      "image/png": "[encoded data removed]",
      "text/plain": [
       "<Figure size 432x288 with 1 Axes>"
      ]
     },
     "metadata": {
      "needs_background": "light"
     },
     "output_type": "display_data"
    }
   ],
   "source": [
    "# Vergleich der neuen Fälle vor/nach Juli mit Histogrammen\n",
    "\n",
    "df.loc[df.index < \"2020-07-01\", \"new_cases\"].plot(kind=\"hist\", alpha=0.5) \n",
    "df.loc[df.index >= \"2020-07-01\", \"new_cases\"].plot(kind=\"hist\", alpha=0.5) "
   ]
  },
  {
   "cell_type": "markdown",
   "metadata": {},
   "source": [
    "---\n",
    "## 3. Zusammenhänge untersuchen und visualisieren <a id=\"kapitel3\"/>\n",
    "\n",
    "Im ersten Beispieldatensatz sind vermutlich wenige Zusammenhänge zu interessant, allenfalls zwischen new_deaths und new_cases. \n",
    "\n",
    "Wir verwenden das umfassendere Visualisierungspaket Seaborn, um komplexe Grafiken mit einfachen Befehlen zu erzeugen."
   ]
  },
  {
   "cell_type": "code",
   "execution_count": 155,
   "metadata": {},
   "outputs": [
    {
     "data": {
      "text/html": [
       "<div>\n",
       "<style scoped>\n",
       "    .dataframe tbody tr th:only-of-type {\n",
       "        vertical-align: middle;\n",
       "    }\n",
       "\n",
       "    .dataframe tbody tr th {\n",
       "        vertical-align: top;\n",
       "    }\n",
       "\n",
       "    .dataframe thead th {\n",
       "        text-align: right;\n",
       "    }\n",
       "</style>\n",
       "<table border=\"1\" class=\"dataframe\">\n",
       "  <thead>\n",
       "    <tr style=\"text-align: right;\">\n",
       "      <th></th>\n",
       "      <th>deaths</th>\n",
       "      <th>cases</th>\n",
       "      <th>active</th>\n",
       "      <th>new_cases</th>\n",
       "      <th>new_deaths</th>\n",
       "      <th>death_rate</th>\n",
       "      <th>bad_day</th>\n",
       "    </tr>\n",
       "  </thead>\n",
       "  <tbody>\n",
       "    <tr>\n",
       "      <th>deaths</th>\n",
       "      <td>1.000000</td>\n",
       "      <td>0.973346</td>\n",
       "      <td>0.998333</td>\n",
       "      <td>0.958066</td>\n",
       "      <td>0.616237</td>\n",
       "      <td>-0.537731</td>\n",
       "      <td>0.334048</td>\n",
       "    </tr>\n",
       "    <tr>\n",
       "      <th>cases</th>\n",
       "      <td>0.973346</td>\n",
       "      <td>1.000000</td>\n",
       "      <td>0.978216</td>\n",
       "      <td>0.924108</td>\n",
       "      <td>0.521991</td>\n",
       "      <td>-0.478088</td>\n",
       "      <td>0.389913</td>\n",
       "    </tr>\n",
       "    <tr>\n",
       "      <th>active</th>\n",
       "      <td>0.998333</td>\n",
       "      <td>0.978216</td>\n",
       "      <td>1.000000</td>\n",
       "      <td>0.964296</td>\n",
       "      <td>0.620609</td>\n",
       "      <td>-0.524397</td>\n",
       "      <td>0.337513</td>\n",
       "    </tr>\n",
       "    <tr>\n",
       "      <th>new_cases</th>\n",
       "      <td>0.958066</td>\n",
       "      <td>0.924108</td>\n",
       "      <td>0.964296</td>\n",
       "      <td>1.000000</td>\n",
       "      <td>0.711858</td>\n",
       "      <td>-0.468685</td>\n",
       "      <td>0.392827</td>\n",
       "    </tr>\n",
       "    <tr>\n",
       "      <th>new_deaths</th>\n",
       "      <td>0.616237</td>\n",
       "      <td>0.521991</td>\n",
       "      <td>0.620609</td>\n",
       "      <td>0.711858</td>\n",
       "      <td>1.000000</td>\n",
       "      <td>-0.213254</td>\n",
       "      <td>0.199634</td>\n",
       "    </tr>\n",
       "    <tr>\n",
       "      <th>death_rate</th>\n",
       "      <td>-0.537731</td>\n",
       "      <td>-0.478088</td>\n",
       "      <td>-0.524397</td>\n",
       "      <td>-0.468685</td>\n",
       "      <td>-0.213254</td>\n",
       "      <td>1.000000</td>\n",
       "      <td>-0.119221</td>\n",
       "    </tr>\n",
       "    <tr>\n",
       "      <th>bad_day</th>\n",
       "      <td>0.334048</td>\n",
       "      <td>0.389913</td>\n",
       "      <td>0.337513</td>\n",
       "      <td>0.392827</td>\n",
       "      <td>0.199634</td>\n",
       "      <td>-0.119221</td>\n",
       "      <td>1.000000</td>\n",
       "    </tr>\n",
       "  </tbody>\n",
       "</table>\n",
       "</div>"
      ],
      "text/plain": [
       "              deaths     cases    active  new_cases  new_deaths  death_rate  \\\n",
       "deaths      1.000000  0.973346  0.998333   0.958066    0.616237   -0.537731   \n",
       "cases       0.973346  1.000000  0.978216   0.924108    0.521991   -0.478088   \n",
       "active      0.998333  0.978216  1.000000   0.964296    0.620609   -0.524397   \n",
       "new_cases   0.958066  0.924108  0.964296   1.000000    0.711858   -0.468685   \n",
       "new_deaths  0.616237  0.521991  0.620609   0.711858    1.000000   -0.213254   \n",
       "death_rate -0.537731 -0.478088 -0.524397  -0.468685   -0.213254    1.000000   \n",
       "bad_day     0.334048  0.389913  0.337513   0.392827    0.199634   -0.119221   \n",
       "\n",
       "             bad_day  \n",
       "deaths      0.334048  \n",
       "cases       0.389913  \n",
       "active      0.337513  \n",
       "new_cases   0.392827  \n",
       "new_deaths  0.199634  \n",
       "death_rate -0.119221  \n",
       "bad_day     1.000000  "
      ]
     },
     "execution_count": 155,
     "metadata": {},
     "output_type": "execute_result"
    }
   ],
   "source": [
    "# Korrelationsmatrix\n",
    "df.corr()"
   ]
  },
  {
   "cell_type": "code",
   "execution_count": 156,
   "metadata": {},
   "outputs": [
    {
     "data": {
      "text/plain": [
       "<AxesSubplot:>"
      ]
     },
     "execution_count": 156,
     "metadata": {},
     "output_type": "execute_result"
    },
    {
     "data": {
      "image/png": "[encoded data removed]",
      "text/plain": [
       "<Figure size 432x288 with 2 Axes>"
      ]
     },
     "metadata": {
      "needs_background": "light"
     },
     "output_type": "display_data"
    }
   ],
   "source": [
    "# Advanced Styling mit Package Seaborn, Beispiele: https://seaborn.pydata.org/tutorial/distributions.html\n",
    "import seaborn as sns\n",
    "\n",
    "sns.heatmap(df.corr(), cmap=\"coolwarm\")"
   ]
  },
  {
   "cell_type": "code",
   "execution_count": 157,
   "metadata": {},
   "outputs": [
    {
     "data": {
      "text/plain": [
       "<seaborn.axisgrid.PairGrid at 0x7ffcbfb44b10>"
      ]
     },
     "execution_count": 157,
     "metadata": {},
     "output_type": "execute_result"
    },
    {
     "data": {
      "image/png": "[encoded data removed]",
      "text/plain": [
       "<Figure size 540x540 with 12 Axes>"
      ]
     },
     "metadata": {
      "needs_background": "light"
     },
     "output_type": "display_data"
    }
   ],
   "source": [
    "sns.pairplot(df.loc[:,[\"new_cases\",\"new_deaths\", \"active\"]])"
   ]
  },
  {
   "cell_type": "markdown",
   "metadata": {},
   "source": [
    "---\n",
    "## 4. Anwendungsbeispiel Minecraft Kernbohrung <a id=\"kapitel4\"/>\n",
    "\n",
    "Zunächst lesen wir die CSV-Daten ein und ergänzen mit den gelernten Werkzeugen die Blocknamen zu den Ids um."
   ]
  },
  {
   "cell_type": "code",
   "execution_count": 158,
   "metadata": {},
   "outputs": [
    {
     "data": {
      "text/html": [
       "<div>\n",
       "<style scoped>\n",
       "    .dataframe tbody tr th:only-of-type {\n",
       "        vertical-align: middle;\n",
       "    }\n",
       "\n",
       "    .dataframe tbody tr th {\n",
       "        vertical-align: top;\n",
       "    }\n",
       "\n",
       "    .dataframe thead th {\n",
       "        text-align: right;\n",
       "    }\n",
       "</style>\n",
       "<table border=\"1\" class=\"dataframe\">\n",
       "  <thead>\n",
       "    <tr style=\"text-align: right;\">\n",
       "      <th></th>\n",
       "      <th>y</th>\n",
       "      <th>blocktyp</th>\n",
       "    </tr>\n",
       "  </thead>\n",
       "  <tbody>\n",
       "    <tr>\n",
       "      <th>0</th>\n",
       "      <td>0</td>\n",
       "      <td>7</td>\n",
       "    </tr>\n",
       "    <tr>\n",
       "      <th>1</th>\n",
       "      <td>1</td>\n",
       "      <td>7</td>\n",
       "    </tr>\n",
       "    <tr>\n",
       "      <th>2</th>\n",
       "      <td>2</td>\n",
       "      <td>1</td>\n",
       "    </tr>\n",
       "    <tr>\n",
       "      <th>3</th>\n",
       "      <td>3</td>\n",
       "      <td>1</td>\n",
       "    </tr>\n",
       "    <tr>\n",
       "      <th>4</th>\n",
       "      <td>4</td>\n",
       "      <td>1</td>\n",
       "    </tr>\n",
       "  </tbody>\n",
       "</table>\n",
       "</div>"
      ],
      "text/plain": [
       "   y  blocktyp\n",
       "0  0         7\n",
       "1  1         7\n",
       "2  2         1\n",
       "3  3         1\n",
       "4  4         1"
      ]
     },
     "execution_count": 158,
     "metadata": {},
     "output_type": "execute_result"
    }
   ],
   "source": [
    "df_kern = pd.read_csv(\"kernbohrung.csv\")\n",
    "df_kern.head(5)"
   ]
  },
  {
   "cell_type": "markdown",
   "metadata": {},
   "source": [
    "### 4.1. Datenaufbereitung\n",
    "Im ersten Schritt ergänzen wir zu den Block-Ids die Blocknamen."
   ]
  },
  {
   "cell_type": "code",
   "execution_count": 159,
   "metadata": {},
   "outputs": [
    {
     "data": {
      "text/html": [
       "<div>\n",
       "<style scoped>\n",
       "    .dataframe tbody tr th:only-of-type {\n",
       "        vertical-align: middle;\n",
       "    }\n",
       "\n",
       "    .dataframe tbody tr th {\n",
       "        vertical-align: top;\n",
       "    }\n",
       "\n",
       "    .dataframe thead th {\n",
       "        text-align: right;\n",
       "    }\n",
       "</style>\n",
       "<table border=\"1\" class=\"dataframe\">\n",
       "  <thead>\n",
       "    <tr style=\"text-align: right;\">\n",
       "      <th></th>\n",
       "      <th>y</th>\n",
       "      <th>blocktyp</th>\n",
       "      <th>blockname</th>\n",
       "    </tr>\n",
       "  </thead>\n",
       "  <tbody>\n",
       "    <tr>\n",
       "      <th>1</th>\n",
       "      <td>1</td>\n",
       "      <td>7</td>\n",
       "      <td>Bedrock</td>\n",
       "    </tr>\n",
       "    <tr>\n",
       "      <th>20</th>\n",
       "      <td>20</td>\n",
       "      <td>1</td>\n",
       "      <td>Stone</td>\n",
       "    </tr>\n",
       "    <tr>\n",
       "      <th>37</th>\n",
       "      <td>37</td>\n",
       "      <td>1</td>\n",
       "      <td>Stone</td>\n",
       "    </tr>\n",
       "    <tr>\n",
       "      <th>84</th>\n",
       "      <td>84</td>\n",
       "      <td>0</td>\n",
       "      <td>Air</td>\n",
       "    </tr>\n",
       "    <tr>\n",
       "      <th>42</th>\n",
       "      <td>42</td>\n",
       "      <td>1</td>\n",
       "      <td>Stone</td>\n",
       "    </tr>\n",
       "  </tbody>\n",
       "</table>\n",
       "</div>"
      ],
      "text/plain": [
       "     y  blocktyp blockname\n",
       "1    1         7   Bedrock\n",
       "20  20         1     Stone\n",
       "37  37         1     Stone\n",
       "84  84         0       Air\n",
       "42  42         1     Stone"
      ]
     },
     "execution_count": 159,
     "metadata": {},
     "output_type": "execute_result"
    }
   ],
   "source": [
    "# In einem Dictionary sind die häufigsten Block-Ids den Blocknamen zugeordnet\n",
    "block_names = {\n",
    "    0: \"Air\",\n",
    "    1: \"Stone\",\n",
    "    2: \"Grass\",\n",
    "    3: \"Dirt\",\n",
    "    4: \"Cobblestone\",\n",
    "    5: \"Wood Planks\",\n",
    "    6: \"Sapling\",\n",
    "    7: \"Bedrock\",\n",
    "    8: \"Water\",\n",
    "    9: \"Water\",\n",
    "    10: \"Lava\",\n",
    "    11: \"Lava\",\n",
    "    12: \"Sand\",\n",
    "    13: \"Gravel\",\n",
    "    14: \"Gold Ore\",\n",
    "    15: \"Iron Ore\",\n",
    "    16: \"Coal Ore\",\n",
    "    17: \"Wood\",\n",
    "    18: \"Leaves\",\n",
    "    21: \"Lapislazuli Ore\",\n",
    "    24: \"Sandstone\"\n",
    "}\n",
    "df_kern[\"blockname\"] = df_kern.blocktyp.replace(block_names)  # Suchen/Ersetzen anhand des Dictionary\n",
    "df_kern.sample(5)"
   ]
  },
  {
   "cell_type": "markdown",
   "metadata": {},
   "source": [
    "Nun segmentieren wir die Kernbohrung nach Höhe sowohl in drei und 20 gleich große Schichten (33%-Quantile, Perzentile).  \n",
    "\n",
    "Pandas bieten hierfür ```qcut```, die anhand eines Merkmals Quantilintervalle berechnet und diese je Zeile zurückgibt:"
   ]
  },
  {
   "cell_type": "code",
   "execution_count": null,
   "metadata": {},
   "outputs": [],
   "source": [
    "df_kern[\"layer\"] = pd.qcut(df_kern.y, 3, labels = [\"low\", \"mid\", \"high\"])\n",
    "df_kern[\"perzentil\"] = pd.qcut(df_kern.y, 10, labels = range(1,11))\n",
    "df_kern.sample(5)"
   ]
  },
  {
   "cell_type": "markdown",
   "metadata": {},
   "source": [
    "### 4.2. Datenvisualisierung\n",
    "Sehen wir uns zunächst die Anzahl der Blocktypen gesamt und in den drei wesentlichen Schichten an:"
   ]
  },
  {
   "cell_type": "code",
   "execution_count": null,
   "metadata": {},
   "outputs": [],
   "source": [
    "df_kern.blockname.value_counts().plot(kind=\"barh\")"
   ]
  },
  {
   "cell_type": "markdown",
   "metadata": {},
   "source": [
    "\n",
    "Sehen wir uns zunächst die Anzahl der Blocktypen gesamt und in den drei wesentlichen Schichten an:"
   ]
  },
  {
   "cell_type": "code",
   "execution_count": null,
   "metadata": {},
   "outputs": [],
   "source": [
    "fig, ax = plt.subplots(1,3,figsize=(18,5))\n",
    "ax[0].set_title(\"Low\")\n",
    "df_kern[df_kern.layer==\"low\"].blockname.value_counts().plot(kind=\"bar\", ax=ax[0])\n",
    "ax[1].set_title(\"Med\")\n",
    "df_kern[df_kern.layer==\"mid\"].blockname.value_counts().plot(kind=\"bar\", ax=ax[1])\n",
    "ax[2].set_title(\"High\")\n",
    "df_kern[df_kern.layer==\"high\"].blockname.value_counts().plot(kind=\"bar\", ax=ax[2])\n",
    "plt.show()"
   ]
  },
  {
   "cell_type": "markdown",
   "metadata": {},
   "source": [
    "### 4.3. Datenvisualisierung aggregierter Daten\n",
    "Um in einem Beispiel alles bisher gelernte zusammen zu nehmen, betrachten wir nun die Verteilung des Blöcke \"Stone\", \"Water\", \"Air\", \"Gold Ore\" (\"swag\") über die Perzentile hinweg:"
   ]
  },
  {
   "cell_type": "code",
   "execution_count": null,
   "metadata": {},
   "outputs": [],
   "source": [
    "# Stone und alle anderen Blocktypen zu Stone/Other zusammenfassen\n",
    "df_swag = df_kern.copy()\n",
    "df_swag.loc[ ~ df_kern.blockname.isin([\"Gold Ore\", \"Water\",\"Air\"]), \"blockname\"] = \"Stone/Other\"\n",
    "df_swag = df_swag.loc[:,[\"perzentil\",\"blockname\",\"blocktyp\"]]\n",
    "dist = df_swag.groupby([\"perzentil\",\"blockname\"]).agg(\"count\").fillna(0).unstack()\n",
    "dist.columns = dist.columns.get_level_values(1)"
   ]
  },
  {
   "cell_type": "code",
   "execution_count": null,
   "metadata": {},
   "outputs": [],
   "source": [
    "# Spalten sortieren\n",
    "dist = dist.loc[:,[\"Stone/Other\",\"Gold Ore\",\"Water\",\"Air\"]]\n",
    "\n",
    "# Diagramm erzeugen\n",
    "dist.plot(kind=\"barh\", stacked=True, xticks=range(0,12),\n",
    "            xlabel=\"Höhenperzentil\", ylabel=\"Anzahl Blöcke\",\n",
    "            alpha=0.7, color=[\"0.1\", \"#E2B007\", \"#3444C8\",\"0.8\"])\n",
    "plt.legend(title='Legende', bbox_to_anchor=(1.05, 1), loc='upper left')\n",
    "plt.show()"
   ]
  },
  {
   "cell_type": "markdown",
   "metadata": {},
   "source": [
    "---\n",
    "## 5. Anwendungsbeispiel Kreditvergabe <a id=\"kapitel4\"/>\n",
    "\n",
    "Wir betrachten im Folgenden einen Datensatz mit Privatkreditvorgängen einer deutschen Bank.  \n",
    "Hierbei durchlaufen wir dieselbe Prozedur, bauen aber die Grafiken etwas eleganter auf.\n",
    "\n",
    "Der Datensatz kommt vom Datebankserver und umfasst folgende Merkmalen:\n",
    "   >  *Age* (numeric)  \n",
    "   >  *Sex* (text: male, female)  \n",
    "   >  *Job* (numeric: 0 - unskilled and non-resident, 1 - unskilled and resident, 2 - skilled, 3 - highly skilled)  \n",
    "   >  *Housing* (text: own, rent, or free)  \n",
    "   >  *Saving accounts* (text - little, moderate, quite rich, rich)  \n",
    "   >  *Checking account* (text - little, moderate, quite rich, rich)   \n",
    "   >  *Credit amount* (numeric, in EUR)  \n",
    "   >  *Duration* (numeric, in month)  \n",
    "   >  *Purpose* (text: car, furniture/equipment, radio/TV, domestic appliances, repairs, education, business, vacation/others  \n",
    "   >  *Risk* (Value target - Good or Bad Risk)  "
   ]
  },
  {
   "cell_type": "markdown",
   "metadata": {},
   "source": [
    "### 5.1. Daten einlesen und aufbereiten"
   ]
  },
  {
   "cell_type": "code",
   "execution_count": 228,
   "metadata": {},
   "outputs": [
    {
     "name": "stdout",
     "output_type": "stream",
     "text": [
      "The sql extension is already loaded. To reload it, use:\n",
      "  %reload_ext sql\n",
      " * sqlite:///data/smi-data.db\n",
      "Done.\n"
     ]
    },
    {
     "data": {
      "text/html": [
       "<div>\n",
       "<style scoped>\n",
       "    .dataframe tbody tr th:only-of-type {\n",
       "        vertical-align: middle;\n",
       "    }\n",
       "\n",
       "    .dataframe tbody tr th {\n",
       "        vertical-align: top;\n",
       "    }\n",
       "\n",
       "    .dataframe thead th {\n",
       "        text-align: right;\n",
       "    }\n",
       "</style>\n",
       "<table border=\"1\" class=\"dataframe\">\n",
       "  <thead>\n",
       "    <tr style=\"text-align: right;\">\n",
       "      <th></th>\n",
       "      <th>index</th>\n",
       "      <th>Age</th>\n",
       "      <th>Sex</th>\n",
       "      <th>Job</th>\n",
       "      <th>Housing</th>\n",
       "      <th>Saving accounts</th>\n",
       "      <th>Checking account</th>\n",
       "      <th>Credit amount</th>\n",
       "      <th>Duration</th>\n",
       "      <th>Purpose</th>\n",
       "      <th>Risk</th>\n",
       "    </tr>\n",
       "    <tr>\n",
       "      <th>id</th>\n",
       "      <th></th>\n",
       "      <th></th>\n",
       "      <th></th>\n",
       "      <th></th>\n",
       "      <th></th>\n",
       "      <th></th>\n",
       "      <th></th>\n",
       "      <th></th>\n",
       "      <th></th>\n",
       "      <th></th>\n",
       "      <th></th>\n",
       "    </tr>\n",
       "  </thead>\n",
       "  <tbody>\n",
       "    <tr>\n",
       "      <th>0</th>\n",
       "      <td>0</td>\n",
       "      <td>67</td>\n",
       "      <td>male</td>\n",
       "      <td>2</td>\n",
       "      <td>own</td>\n",
       "      <td>NA</td>\n",
       "      <td>little</td>\n",
       "      <td>1169</td>\n",
       "      <td>6</td>\n",
       "      <td>radio/TV</td>\n",
       "      <td>good</td>\n",
       "    </tr>\n",
       "    <tr>\n",
       "      <th>1</th>\n",
       "      <td>1</td>\n",
       "      <td>22</td>\n",
       "      <td>female</td>\n",
       "      <td>2</td>\n",
       "      <td>own</td>\n",
       "      <td>little</td>\n",
       "      <td>moderate</td>\n",
       "      <td>5951</td>\n",
       "      <td>48</td>\n",
       "      <td>radio/TV</td>\n",
       "      <td>bad</td>\n",
       "    </tr>\n",
       "    <tr>\n",
       "      <th>2</th>\n",
       "      <td>2</td>\n",
       "      <td>49</td>\n",
       "      <td>male</td>\n",
       "      <td>1</td>\n",
       "      <td>own</td>\n",
       "      <td>little</td>\n",
       "      <td>NA</td>\n",
       "      <td>2096</td>\n",
       "      <td>12</td>\n",
       "      <td>education</td>\n",
       "      <td>good</td>\n",
       "    </tr>\n",
       "    <tr>\n",
       "      <th>3</th>\n",
       "      <td>3</td>\n",
       "      <td>45</td>\n",
       "      <td>male</td>\n",
       "      <td>2</td>\n",
       "      <td>free</td>\n",
       "      <td>little</td>\n",
       "      <td>little</td>\n",
       "      <td>7882</td>\n",
       "      <td>42</td>\n",
       "      <td>furniture/equipment</td>\n",
       "      <td>good</td>\n",
       "    </tr>\n",
       "    <tr>\n",
       "      <th>4</th>\n",
       "      <td>4</td>\n",
       "      <td>53</td>\n",
       "      <td>male</td>\n",
       "      <td>2</td>\n",
       "      <td>free</td>\n",
       "      <td>little</td>\n",
       "      <td>little</td>\n",
       "      <td>4870</td>\n",
       "      <td>24</td>\n",
       "      <td>car</td>\n",
       "      <td>bad</td>\n",
       "    </tr>\n",
       "  </tbody>\n",
       "</table>\n",
       "</div>"
      ],
      "text/plain": [
       "    index  Age     Sex  Job Housing Saving accounts Checking account  \\\n",
       "id                                                                     \n",
       "0       0   67    male    2     own              NA           little   \n",
       "1       1   22  female    2     own          little         moderate   \n",
       "2       2   49    male    1     own          little               NA   \n",
       "3       3   45    male    2    free          little           little   \n",
       "4       4   53    male    2    free          little           little   \n",
       "\n",
       "    Credit amount  Duration              Purpose  Risk  \n",
       "id                                                      \n",
       "0            1169         6             radio/TV  good  \n",
       "1            5951        48             radio/TV   bad  \n",
       "2            2096        12            education  good  \n",
       "3            7882        42  furniture/equipment  good  \n",
       "4            4870        24                  car   bad  "
      ]
     },
     "execution_count": 228,
     "metadata": {},
     "output_type": "execute_result"
    }
   ],
   "source": [
    "# Verbindung zum Datenbankserver herstellen\n",
    "\n",
    "%load_ext sql\n",
    "%sql sqlite:///data/smi-data.db\n",
    "\n",
    "# SQL-Abfrage durchführen und Ergebnis in Variable result speichern        \n",
    "        \n",
    "result = %sql SELECT * FROM credit_ger\n",
    "\n",
    "# Aus Result ein DataFrame machen und in Variable df speichern\n",
    "\n",
    "df = result.DataFrame()\n",
    "df = df.set_index([\"id\"])\n",
    "df.head(5)"
   ]
  },
  {
   "cell_type": "code",
   "execution_count": 229,
   "metadata": {},
   "outputs": [],
   "source": [
    "# Spaltenbenennungen vereinfachen\n",
    "df = df.rename({\n",
    "    \"Age\": \"age\",\n",
    "    \"Sex\": \"sex\",\n",
    "    \"Job\": \"job\",\n",
    "    \"Housing\": \"housing\",\n",
    "    \"Saving accounts\": \"savings\", \n",
    "    \"Checking account\": \"cash\",\n",
    "    \"Credit amount\": \"amount\",\n",
    "    \"Duration\": \"duration\",\n",
    "    \"Purpose\": \"purpose\",\n",
    "    \"Risk\": \"risk\"\n",
    "}, axis=\"columns\")"
   ]
  },
  {
   "cell_type": "markdown",
   "metadata": {},
   "source": [
    "### 5.2. Merkmale untersuchen und visualisieren"
   ]
  },
  {
   "cell_type": "code",
   "execution_count": 230,
   "metadata": {},
   "outputs": [
    {
     "data": {
      "text/html": [
       "<div>\n",
       "<style scoped>\n",
       "    .dataframe tbody tr th:only-of-type {\n",
       "        vertical-align: middle;\n",
       "    }\n",
       "\n",
       "    .dataframe tbody tr th {\n",
       "        vertical-align: top;\n",
       "    }\n",
       "\n",
       "    .dataframe thead th {\n",
       "        text-align: right;\n",
       "    }\n",
       "</style>\n",
       "<table border=\"1\" class=\"dataframe\">\n",
       "  <thead>\n",
       "    <tr style=\"text-align: right;\">\n",
       "      <th></th>\n",
       "      <th>age</th>\n",
       "      <th>duration</th>\n",
       "      <th>amount</th>\n",
       "    </tr>\n",
       "  </thead>\n",
       "  <tbody>\n",
       "    <tr>\n",
       "      <th>count</th>\n",
       "      <td>1000.000000</td>\n",
       "      <td>1000.000000</td>\n",
       "      <td>1000.000000</td>\n",
       "    </tr>\n",
       "    <tr>\n",
       "      <th>mean</th>\n",
       "      <td>35.546000</td>\n",
       "      <td>20.903000</td>\n",
       "      <td>3271.258000</td>\n",
       "    </tr>\n",
       "    <tr>\n",
       "      <th>std</th>\n",
       "      <td>11.375469</td>\n",
       "      <td>12.058814</td>\n",
       "      <td>2822.736876</td>\n",
       "    </tr>\n",
       "    <tr>\n",
       "      <th>min</th>\n",
       "      <td>19.000000</td>\n",
       "      <td>4.000000</td>\n",
       "      <td>250.000000</td>\n",
       "    </tr>\n",
       "    <tr>\n",
       "      <th>25%</th>\n",
       "      <td>27.000000</td>\n",
       "      <td>12.000000</td>\n",
       "      <td>1365.500000</td>\n",
       "    </tr>\n",
       "    <tr>\n",
       "      <th>50%</th>\n",
       "      <td>33.000000</td>\n",
       "      <td>18.000000</td>\n",
       "      <td>2319.500000</td>\n",
       "    </tr>\n",
       "    <tr>\n",
       "      <th>75%</th>\n",
       "      <td>42.000000</td>\n",
       "      <td>24.000000</td>\n",
       "      <td>3972.250000</td>\n",
       "    </tr>\n",
       "    <tr>\n",
       "      <th>max</th>\n",
       "      <td>75.000000</td>\n",
       "      <td>72.000000</td>\n",
       "      <td>18424.000000</td>\n",
       "    </tr>\n",
       "  </tbody>\n",
       "</table>\n",
       "</div>"
      ],
      "text/plain": [
       "               age     duration        amount\n",
       "count  1000.000000  1000.000000   1000.000000\n",
       "mean     35.546000    20.903000   3271.258000\n",
       "std      11.375469    12.058814   2822.736876\n",
       "min      19.000000     4.000000    250.000000\n",
       "25%      27.000000    12.000000   1365.500000\n",
       "50%      33.000000    18.000000   2319.500000\n",
       "75%      42.000000    24.000000   3972.250000\n",
       "max      75.000000    72.000000  18424.000000"
      ]
     },
     "execution_count": 230,
     "metadata": {},
     "output_type": "execute_result"
    }
   ],
   "source": [
    "# Deskriptive Statistik der wichtigsten Merkmale\n",
    "\n",
    "df[['age', 'duration', 'amount']].describe()"
   ]
  },
  {
   "cell_type": "markdown",
   "metadata": {},
   "source": [
    "#### Untersuchung Kreditausfälle und Alter"
   ]
  },
  {
   "cell_type": "code",
   "execution_count": 231,
   "metadata": {},
   "outputs": [
    {
     "name": "stdout",
     "output_type": "stream",
     "text": [
      "0.7\n"
     ]
    }
   ],
   "source": [
    "# Globale Kreditausfallquote\n",
    "\n",
    "# Berechnung mit DataFrame-Filtern\n",
    "\n",
    "credit_default_rate = df[df.risk==\"good\"].risk.count() / df.risk.count()\n",
    "print (credit_default_rate)"
   ]
  },
  {
   "cell_type": "code",
   "execution_count": 232,
   "metadata": {},
   "outputs": [
    {
     "data": {
      "image/png": "[encoded data removed]",
      "text/plain": [
       "<Figure size 1152x432 with 3 Axes>"
      ]
     },
     "metadata": {
      "needs_background": "light"
     },
     "output_type": "display_data"
    }
   ],
   "source": [
    "fig, ax = plt.subplots(1, 3, figsize=(16,6))\n",
    "fig.suptitle(\"Kreditausfälle und Alter\", fontsize=14)\n",
    "\n",
    "ax[0].set_title(\"Kreditausfälle\")\n",
    "sns.histplot(df.risk, ax=ax[0])\n",
    "\n",
    "ax[1].set_title(\"Altersverteilung\")\n",
    "sns.histplot(df.age, ax=ax[1])\n",
    "\n",
    "ax[2].set_title(\"Altersverteilung nach Kreditauswall\")\n",
    "sns.histplot(x=df.age, hue=df.risk, ax=ax[2], palette=\"RdYlGn_r\", bins=20)\n",
    "\n",
    "plt.show()"
   ]
  },
  {
   "cell_type": "code",
   "execution_count": 233,
   "metadata": {},
   "outputs": [
    {
     "data": {
      "image/png": "[encoded data removed]",
      "text/plain": [
       "<Figure size 1440x720 with 6 Axes>"
      ]
     },
     "metadata": {
      "needs_background": "light"
     },
     "output_type": "display_data"
    }
   ],
   "source": [
    "fig, ax = plt.subplots(2,3,figsize=(20,10))\n",
    "plt.suptitle(\"Verteilungen\", fontsize=14)\n",
    "sns.histplot(df.amount, bins=40, ax=ax[0,0]);\n",
    "sns.histplot(df.duration, bins=40, ax=ax[0,1], color=\"salmon\");\n",
    "sns.histplot(df.age, bins=40, ax=ax[0,2], color=\"darkviolet\");\n",
    "\n",
    "sns.boxplot(x=df.amount, ax=ax[1,0]);\n",
    "sns.boxplot(x=df.duration, ax=ax[1,1], color=\"salmon\");\n",
    "sns.boxplot(x=df.age, ax=ax[1,2], color=\"darkviolet\");\n",
    "\n",
    "plt.show() "
   ]
  },
  {
   "cell_type": "markdown",
   "metadata": {},
   "source": [
    "#### Auffälligkeiten\n",
    "- Kredite typischerweise 1400-4000 EUR und 1-2 Jahre\n",
    "- Kredite mit vielen Ausreißerun nach oben (>7500)\n",
    "- Kreditnehmer Ende 20 bis Anfang 40 "
   ]
  },
  {
   "cell_type": "markdown",
   "metadata": {},
   "source": [
    "### 5.3. Zusammenhänge untersuchen und visualisieren"
   ]
  },
  {
   "cell_type": "markdown",
   "metadata": {},
   "source": [
    "In diesem Abschnitt sehen wir uns an, ob einfache Zusammenhänge zwischen Merkmalen zu erkennen sind.\n",
    "\n",
    "### 5.3.1. Kreuztabellen für nominale/kardinale Merkmale\n",
    "\n",
    "Zur Exploration nominale Merkmalzusammenhänge (sex, cash, savings, housing, purpose, risk) können wir mit einfachen Kreuztabellen arbeiten. Ein Beispiel:"
   ]
  },
  {
   "cell_type": "code",
   "execution_count": 234,
   "metadata": {},
   "outputs": [
    {
     "data": {
      "text/html": [
       "<div>\n",
       "<style scoped>\n",
       "    .dataframe tbody tr th:only-of-type {\n",
       "        vertical-align: middle;\n",
       "    }\n",
       "\n",
       "    .dataframe tbody tr th {\n",
       "        vertical-align: top;\n",
       "    }\n",
       "\n",
       "    .dataframe thead th {\n",
       "        text-align: right;\n",
       "    }\n",
       "</style>\n",
       "<table border=\"1\" class=\"dataframe\">\n",
       "  <thead>\n",
       "    <tr style=\"text-align: right;\">\n",
       "      <th>savings</th>\n",
       "      <th>NA</th>\n",
       "      <th>little</th>\n",
       "      <th>moderate</th>\n",
       "      <th>quite rich</th>\n",
       "      <th>rich</th>\n",
       "    </tr>\n",
       "    <tr>\n",
       "      <th>cash</th>\n",
       "      <th></th>\n",
       "      <th></th>\n",
       "      <th></th>\n",
       "      <th></th>\n",
       "      <th></th>\n",
       "    </tr>\n",
       "  </thead>\n",
       "  <tbody>\n",
       "    <tr>\n",
       "      <th>NA</th>\n",
       "      <td>99</td>\n",
       "      <td>191</td>\n",
       "      <td>39</td>\n",
       "      <td>40</td>\n",
       "      <td>25</td>\n",
       "    </tr>\n",
       "    <tr>\n",
       "      <th>little</th>\n",
       "      <td>29</td>\n",
       "      <td>219</td>\n",
       "      <td>12</td>\n",
       "      <td>8</td>\n",
       "      <td>6</td>\n",
       "    </tr>\n",
       "    <tr>\n",
       "      <th>moderate</th>\n",
       "      <td>45</td>\n",
       "      <td>152</td>\n",
       "      <td>47</td>\n",
       "      <td>11</td>\n",
       "      <td>14</td>\n",
       "    </tr>\n",
       "    <tr>\n",
       "      <th>rich</th>\n",
       "      <td>10</td>\n",
       "      <td>41</td>\n",
       "      <td>5</td>\n",
       "      <td>4</td>\n",
       "      <td>3</td>\n",
       "    </tr>\n",
       "  </tbody>\n",
       "</table>\n",
       "</div>"
      ],
      "text/plain": [
       "savings   NA  little  moderate  quite rich  rich\n",
       "cash                                            \n",
       "NA        99     191        39          40    25\n",
       "little    29     219        12           8     6\n",
       "moderate  45     152        47          11    14\n",
       "rich      10      41         5           4     3"
      ]
     },
     "execution_count": 234,
     "metadata": {},
     "output_type": "execute_result"
    }
   ],
   "source": [
    "pd.crosstab(df.cash, df.savings)"
   ]
  },
  {
   "cell_type": "code",
   "execution_count": 235,
   "metadata": {},
   "outputs": [
    {
     "data": {
      "text/html": [
       "<div>\n",
       "<style scoped>\n",
       "    .dataframe tbody tr th:only-of-type {\n",
       "        vertical-align: middle;\n",
       "    }\n",
       "\n",
       "    .dataframe tbody tr th {\n",
       "        vertical-align: top;\n",
       "    }\n",
       "\n",
       "    .dataframe thead th {\n",
       "        text-align: right;\n",
       "    }\n",
       "</style>\n",
       "<table border=\"1\" class=\"dataframe\">\n",
       "  <thead>\n",
       "    <tr style=\"text-align: right;\">\n",
       "      <th>savings</th>\n",
       "      <th>NA</th>\n",
       "      <th>little</th>\n",
       "      <th>moderate</th>\n",
       "      <th>quite rich</th>\n",
       "      <th>rich</th>\n",
       "    </tr>\n",
       "    <tr>\n",
       "      <th>cash</th>\n",
       "      <th></th>\n",
       "      <th></th>\n",
       "      <th></th>\n",
       "      <th></th>\n",
       "      <th></th>\n",
       "    </tr>\n",
       "  </thead>\n",
       "  <tbody>\n",
       "    <tr>\n",
       "      <th>NA</th>\n",
       "      <td>0.540984</td>\n",
       "      <td>0.316750</td>\n",
       "      <td>0.378641</td>\n",
       "      <td>0.634921</td>\n",
       "      <td>0.520833</td>\n",
       "    </tr>\n",
       "    <tr>\n",
       "      <th>little</th>\n",
       "      <td>0.158470</td>\n",
       "      <td>0.363184</td>\n",
       "      <td>0.116505</td>\n",
       "      <td>0.126984</td>\n",
       "      <td>0.125000</td>\n",
       "    </tr>\n",
       "    <tr>\n",
       "      <th>moderate</th>\n",
       "      <td>0.245902</td>\n",
       "      <td>0.252073</td>\n",
       "      <td>0.456311</td>\n",
       "      <td>0.174603</td>\n",
       "      <td>0.291667</td>\n",
       "    </tr>\n",
       "    <tr>\n",
       "      <th>rich</th>\n",
       "      <td>0.054645</td>\n",
       "      <td>0.067993</td>\n",
       "      <td>0.048544</td>\n",
       "      <td>0.063492</td>\n",
       "      <td>0.062500</td>\n",
       "    </tr>\n",
       "  </tbody>\n",
       "</table>\n",
       "</div>"
      ],
      "text/plain": [
       "savings         NA    little  moderate  quite rich      rich\n",
       "cash                                                        \n",
       "NA        0.540984  0.316750  0.378641    0.634921  0.520833\n",
       "little    0.158470  0.363184  0.116505    0.126984  0.125000\n",
       "moderate  0.245902  0.252073  0.456311    0.174603  0.291667\n",
       "rich      0.054645  0.067993  0.048544    0.063492  0.062500"
      ]
     },
     "execution_count": 235,
     "metadata": {},
     "output_type": "execute_result"
    }
   ],
   "source": [
    "pd.crosstab(df.cash, df.savings, normalize=\"columns\")  # Spaltenweise %-Werte, also: Cash-Verteilung über Savings-Kassen"
   ]
  },
  {
   "cell_type": "code",
   "execution_count": 236,
   "metadata": {},
   "outputs": [
    {
     "data": {
      "text/plain": [
       "<AxesSubplot:xlabel='savings', ylabel='cash'>"
      ]
     },
     "execution_count": 236,
     "metadata": {},
     "output_type": "execute_result"
    },
    {
     "data": {
      "image/png": "[encoded data removed]",
      "text/plain": [
       "<Figure size 432x288 with 2 Axes>"
      ]
     },
     "metadata": {
      "needs_background": "light"
     },
     "output_type": "display_data"
    }
   ],
   "source": [
    "sns.heatmap(pd.crosstab(df.cash, df.savings, normalize=\"columns\"), annot=True, cmap=\"YlGnBu\")"
   ]
  },
  {
   "cell_type": "markdown",
   "metadata": {},
   "source": [
    "Was fällt auf? Wer hat am meisten, wer am wenigsten Barvermögen?"
   ]
  },
  {
   "cell_type": "markdown",
   "metadata": {},
   "source": [
    "### 5.3.2. Betrachtung vieler Merkmale mit PairPlots "
   ]
  },
  {
   "cell_type": "code",
   "execution_count": 252,
   "metadata": {},
   "outputs": [
    {
     "data": {
      "text/plain": [
       "<seaborn.axisgrid.PairGrid at 0x7ffcae871bd0>"
      ]
     },
     "execution_count": 252,
     "metadata": {},
     "output_type": "execute_result"
    },
    {
     "data": {
      "image/png": "[encoded data removed]",
      "text/plain": [
       "<Figure size 1150.56x1080 with 42 Axes>"
      ]
     },
     "metadata": {
      "needs_background": "light"
     },
     "output_type": "display_data"
    }
   ],
   "source": [
    "# Um die ganze Breite nominal/kardinaler Merkmale zu erschlagen, kann das Seaborn PairGrid helfen:\n",
    "\n",
    "g = sns.PairGrid(df, vars=[\"sex\", \"cash\", \"savings\", \"housing\", \"purpose\", \"risk\"], hue=\"risk\")\n",
    "g.map_diag(sns.histplot, multiple=\"stack\")  # Diagrammtyp auf der Diagonalen der Pair-Matrix\n",
    "g.map_offdiag(sns.histplot)       # Diagrammtyp für Matrixfelder außerhalb der Diagonalen\n",
    "g.add_legend(title='Merkmal', frameon=True)"
   ]
  },
  {
   "cell_type": "markdown",
   "metadata": {},
   "source": [
    "### 5.3.3. Pairplots für metrische Merkmale"
   ]
  },
  {
   "cell_type": "markdown",
   "metadata": {},
   "source": [
    "Damit die Darstellung noch übersichtlich bleibt, Teilen wir die Merkmale in zwei Mengen, innerhalb derer sich Zusammenhänge vermuten lassen:"
   ]
  },
  {
   "cell_type": "code",
   "execution_count": 267,
   "metadata": {},
   "outputs": [
    {
     "data": {
      "image/png": "[encoded data removed]",
      "text/plain": [
       "<Figure size 610.56x540 with 12 Axes>"
      ]
     },
     "metadata": {
      "needs_background": "light"
     },
     "output_type": "display_data"
    }
   ],
   "source": [
    "metrische_merkmale = [\"risk\",\"amount\", \"duration\", \"age\"]\n",
    "sns.pairplot(df.loc[:,metrische_merkmale], hue=\"risk\")\n",
    "plt.show()"
   ]
  },
  {
   "cell_type": "markdown",
   "metadata": {},
   "source": [
    "#### Auffälligkeiten\n",
    "- Amount vs. Duration: Größere Kredite werden in überwiegender Zahl für längere Laufzeiten vergeben.\n",
    "- Amount vs. Duration: Größere Kredite mit Laufzeit < 2 Jahren fallen sämtlich aus\n",
    "- Duration vs. Duration: Kredite ab 50 Monaten fallen zu 50% aus"
   ]
  },
  {
   "cell_type": "markdown",
   "metadata": {},
   "source": [
    "---\n",
    "### <span style=\"color:#FF5D02;\">Quick Task: Erzeuge das Diagramm duration vs. amount separat um es genauer zu betrachten!</span>\n",
    "Tip: Verwende die Funktion ```sns.scatterplot()``` ([Dokumentation](https://seaborn.pydata.org/generated/seaborn.scatterplot.html)). Fällt dir etwas auf?"
   ]
  },
  {
   "cell_type": "code",
   "execution_count": null,
   "metadata": {},
   "outputs": [],
   "source": []
  },
  {
   "cell_type": "markdown",
   "metadata": {},
   "source": [
    "---"
   ]
  },
  {
   "cell_type": "markdown",
   "metadata": {},
   "source": [
    "Das Merkmale zur Untersichung ist der Kreditzweck (\"purpose\")."
   ]
  },
  {
   "cell_type": "code",
   "execution_count": null,
   "metadata": {},
   "outputs": [],
   "source": [
    "# Zweck des Kredits vs. Rückzahlungshäufigkeit\n",
    "pd.crosstab(df.purpose, df.risk, normalize=\"index\")        # normalize: keine absolute Häufigkeit sondern zeilenweise (index) relative Häufigkeit angeben"
   ]
  },
  {
   "cell_type": "code",
   "execution_count": null,
   "metadata": {},
   "outputs": [],
   "source": [
    "# Rückzahlungsquoten scheinen bei 60-70% zu liegen\n",
    "# Genauere Untersuchung durch Visualisierung\n",
    "fig, ax = plt.subplots(1,2,figsize=(18,8))\n",
    "plt.suptitle('Zweck des Kredits')\n",
    "\n",
    "sns.countplot(y=df.purpose, hue=df.risk, ax=ax[0], palette=\"RdYlGn_r\")\n",
    "sns.boxplot(y=df.purpose, x=df.amount, hue=df.risk, ax=ax[1], palette=\"RdYlGn_r\")\n",
    "\n",
    "plt.show()"
   ]
  },
  {
   "cell_type": "markdown",
   "metadata": {},
   "source": [
    "#### Auffälligkeiten\n",
    "- Hoher Zusammenhang zwischen Ausfallrisko und Kreditzweck\n",
    "- Übermäßig teure Reisekredite (>11k) fallen alle aus\n",
    "- Höhere Kredite fallen eher aus"
   ]
  },
  {
   "cell_type": "code",
   "execution_count": null,
   "metadata": {},
   "outputs": [],
   "source": [
    "# Zweck des Kredits vs. Wohnsituation und Qualifikation\n",
    "\n",
    "fig, ax = plt.subplots(1,1,figsize=(18,8))\n",
    "plt.suptitle('Housing und Qualifikation')\n",
    "\n",
    "sns.violinplot(x=df.housing, y=df.job, hue=df.risk, palette=\"RdYlGn_r\");"
   ]
  },
  {
   "cell_type": "markdown",
   "metadata": {},
   "source": [
    "#### Auffälligkeiten\n",
    "- Geringe Qualifikation, kein Wohneigentum oder Mietverhältnis ist eine problematische Kombination\n",
    "- Bei Wohneigentum generell höhere Rückzahlungshäufigkeit, insbl. mit Berufsausbildung (\"skilled\", job = 2)\n",
    "- In höchster Qualifikationsstufe keine Wechselwirkung mit Wohnsituation erkennbar"
   ]
  },
  {
   "cell_type": "markdown",
   "metadata": {},
   "source": [
    "---\n",
    "### <span style=\"color:#FF5D02;\">Aufgabe: Exploration weiterer Merkmale</span>\n",
    "Untersuche die Merkmale ```sex```, ```savings``` und ```cash``` einzeln und im Zusammenhang mit der Kreditrückzahlungsquote!  \n",
    "\n",
    "Führe die Untersuchung sowohl tabellarisch als auch grafisch durch."
   ]
  },
  {
   "cell_type": "code",
   "execution_count": null,
   "metadata": {},
   "outputs": [],
   "source": []
  }
 ],
 "metadata": {
  "kernelspec": {
   "display_name": "Python 3",
   "language": "python",
   "name": "python3"
  },
  "language_info": {
   "codemirror_mode": {
    "name": "ipython",
    "version": 3
   },
   "file_extension": ".py",
   "mimetype": "text/x-python",
   "name": "python",
   "nbconvert_exporter": "python",
   "pygments_lexer": "ipython3",
   "version": "3.7.4"
  }
 },
 "nbformat": 4,
 "nbformat_minor": 4
}

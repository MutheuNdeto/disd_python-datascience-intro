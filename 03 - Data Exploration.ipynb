{
 "cells": [
  {
   "cell_type": "markdown",
   "metadata": {},
   "source": [
    "<div>\n",
    "    <img style=\"float:right;\" src=\"images/smi-logo.png\"/>\n",
    "    <div style=\"float:left;color:#58288C;\"><h1>Datenanalyse und Datenmanagement</h1></div>\n",
    "</div>"
   ]
  },
  {
   "cell_type": "markdown",
   "metadata": {},
   "source": [
    "---\n",
    "# Notebook III: Data Exploration\n",
    "In diesem Notebook geht es um die Verwendung von Python zur Erkundung eines eingelesenen Datenbestands.  \n",
    "Hierzu werden einfache statistische Techniken und Visualisierungsformen eingesetzt.\n",
    "\n",
    "## Inhaltsverzeichnis\n",
    "\n",
    "[1. Daten einlesen und aufbereiten](#kapitel1)  \n",
    "[2. Merkmale untersuchen und visualisieren](#kapitel2)  \n",
    "[3. Zusammenhänge untersuchen und visualisieren](#kapitel3)  \n",
    "[4. Anwendungsbeispiel Kreditvergabe](#kapitel4)  \n",
    "\n",
    "---"
   ]
  },
  {
   "cell_type": "markdown",
   "metadata": {},
   "source": [
    "## 1. Daten einlesen und aufbereiten <a id=\"kapitel1\"/>"
   ]
  },
  {
   "cell_type": "markdown",
   "metadata": {},
   "source": [
    "### 1.1. DataFrames und grobe Datenvalidierung\n",
    "Pandas sind das zentrale Werkzeug zum einlesen und manipulieren von Daten in Python. Für unsere Zwecke ist die Datenstruktur des ```DataFrames``` am wichtigsten:\n",
    "\n",
    "> **DataFrame** is a 2-dimensional labeled data structure with columns of potentially different types.  \n",
    "> You can think of it like a spreadsheet or SQL table [...]. It is generally the most commonly used pandas object.  \n",
    "> [(Quelle)](https://pandas.pydata.org/pandas-docs/stable/user_guide/dsintro.html)\n",
    "\n",
    "Dataframes haben demnach Zeilen (\"Rows\") und Spalten (\"Columns\") können zudem einen Index haben - ein datensatzidentifizierendes Merkmal, ähnlich dem Primärschlüssel in der Datenbank.  \n",
    "<img src=\"images/dataframe.png\"/>  \n",
    "DataFrames organisieren die Daten im Arbeitsspeicher, die mit SQL oder über APIs aus Datenquellen eingelesen werden. Die Dokumentation zu DataFrames findest du [hier](https://pandas.pydata.org/pandas-docs/stable/reference/frame.html). \n",
    "\n",
    "Nutzen wir die Daten der COVID19-API aus der letzten Übung als Beispiel: "
   ]
  },
  {
   "cell_type": "code",
   "execution_count": null,
   "metadata": {},
   "outputs": [],
   "source": [
    "# Notebook extensions und Python Packages laden\n",
    "%load_ext sql\n",
    "\n",
    "import pandas as pd\n",
    "import requests"
   ]
  },
  {
   "cell_type": "code",
   "execution_count": null,
   "metadata": {},
   "outputs": [],
   "source": [
    "# API abfragen\n",
    "response = requests.get(\"https://corona-api.com/timeline\")\n",
    "df = pd.json_normalize(response.json(), record_path=\"data\")   # Im DataFrame df liegen nun die API-Daten"
   ]
  },
  {
   "cell_type": "markdown",
   "metadata": {},
   "source": [
    "Nun sind die abgefragten Daten im DataFrame ```df```. Wir überprüfen zunächst oberflächlich die Fehlerfreiheit:"
   ]
  },
  {
   "cell_type": "code",
   "execution_count": null,
   "metadata": {},
   "outputs": [],
   "source": [
    "df.head(5)   # die ersten fünf Zeilen anzeigen"
   ]
  },
  {
   "cell_type": "code",
   "execution_count": null,
   "metadata": {},
   "outputs": [],
   "source": [
    "df.tail(5)   # die letzten drei Zeilen anzeigen"
   ]
  },
  {
   "cell_type": "code",
   "execution_count": null,
   "metadata": {},
   "outputs": [],
   "source": [
    "df.count()   # Anzahl der Werte je Spalte prüfen - gibt es Lücken?"
   ]
  },
  {
   "cell_type": "markdown",
   "metadata": {},
   "source": [
    "### 1.2. Spalten organisieren und Datentypen festlegen"
   ]
  },
  {
   "cell_type": "markdown",
   "metadata": {},
   "source": [
    "> Wichtig: Bei allen Bearbeitungen des DataFrames wird eine Kopie mit den Änderungen erzeugt. Das ursprüngliche DataFrame bleibt unverändert.  \n",
    "> Soll eine Änderung vorgenommen werden, kann der Ursprungsvariablen das geänderte DataFrame direkt zugeordnet werden.  \n",
    "> _Beispiel: df = df.some_function()_"
   ]
  },
  {
   "cell_type": "code",
   "execution_count": null,
   "metadata": {},
   "outputs": [],
   "source": [
    "# Bekommen wir aus der API auch unnötige Spalten, verwerfen wir diese zunächst\n",
    "# (bei Datenbanken würden wir nur die benötigten Felder mit SQL abfragen)\n",
    "\n",
    "# Die Funktion \"drop\" kann sowohl Zeilen als auch Spalten entfernen.\n",
    "# Für Spalten ist eine Liste der Spaltennamen anzugeben, sowie der Verweis, dass es sich um Spalten handelt (axis=\"columns\")\n",
    "\n",
    "df = df.drop([\"updated_at\", \"recovered\", \"new_recovered\"], axis=\"columns\")\n",
    "\n",
    "# Dazu ist es oft praktisch, Spalten einheitlich oder kürzer zu benennen\n",
    "\n",
    "df = df.rename(columns = {\n",
    "    \"new_confirmed\": \"new_cases\", \n",
    "    \"confirmed\":\"cases\"\n",
    "})\n",
    "\n",
    "df.head(2)"
   ]
  },
  {
   "cell_type": "code",
   "execution_count": null,
   "metadata": {},
   "outputs": [],
   "source": [
    "# Damit Datums- und Zeitangaben etwa bei der Sortierung korrekt behandelt werden können, ist im DataFrame der Datentyp noch korrekt zu setzen.\n",
    "df.date = df.date.astype(\"datetime64\")   # astype versucht den Inhalt des Strings \n",
    "\n",
    "# Nun kann das DataFrame das Datum interpretieren und wir können auf Tag/Monat/Jahr separat zugreifen\n",
    "print(df.loc[0,\"date\"].year)\n",
    "print(df.loc[0,\"date\"].month)\n",
    "print(df.loc[0,\"date\"].day)"
   ]
  },
  {
   "cell_type": "code",
   "execution_count": null,
   "metadata": {},
   "outputs": [],
   "source": [
    "# Das Datum ist bislang eine reguläre Spalte, ein vom DataFrame separat geführter Index zählt die Zeilen von 0-n durch.\n",
    "# Da es sich hier um Meldezeitpunkte handelt, ist das Datum der Index. Damit wird bspw. der Index automatisch als X-Achse in späteren Grafiken verwendet.\n",
    "\n",
    "df = df.set_index(\"date\")\n",
    "df.head(2)"
   ]
  },
  {
   "cell_type": "markdown",
   "metadata": {},
   "source": [
    "### 1.3. Daten sortieren und filtern"
   ]
  },
  {
   "cell_type": "code",
   "execution_count": null,
   "metadata": {},
   "outputs": [],
   "source": [
    "# Sortieren\n",
    "df = df.sort_values(\"date\", axis=\"rows\", ascending=True)"
   ]
  },
  {
   "cell_type": "code",
   "execution_count": null,
   "metadata": {},
   "outputs": [],
   "source": [
    "df.head(5)"
   ]
  },
  {
   "cell_type": "markdown",
   "metadata": {},
   "source": [
    "#### Spaltenzugriff und Felder\n",
    "Der Zugriff auf eine Spalte ist mit ```df[\"feldname\"]``` möglich, wenn der Name keine Leer- oder Sonderzeichen enthält auch vereinfacht mit ```df.feldname```."
   ]
  },
  {
   "cell_type": "code",
   "execution_count": null,
   "metadata": {},
   "outputs": [],
   "source": [
    "# Um die Filterung zu verstehen sehen wir uns folgendes an:\n",
    "\n",
    "df.new_cases # gibt die Spalte zurück"
   ]
  },
  {
   "cell_type": "code",
   "execution_count": null,
   "metadata": {},
   "outputs": [],
   "source": [
    "df.new_cases > 300000 # gibt eine Spalte zurück, in denen jeweils das Ergebnis der Vergleichsoperation steht (True/False)"
   ]
  },
  {
   "cell_type": "markdown",
   "metadata": {},
   "source": [
    "Um nun zu filtern, übergeben wir diesen True/False Spaltenvektor an das DataFrame, um die gewünschten Zeilen zu selektieren:"
   ]
  },
  {
   "cell_type": "code",
   "execution_count": null,
   "metadata": {},
   "outputs": [],
   "source": [
    "peaks = df[df.new_cases > 300000]                                      # alle Tage an denen > 300k Neuinfektionen auftraten\n",
    "\n",
    "peaks = peaks.sort_values(\"new_cases\", axis=\"rows\", ascending=False)   # absteigend nach Anzahl der Neuinfektionen sortieren\n",
    "peaks"
   ]
  },
  {
   "cell_type": "markdown",
   "metadata": {},
   "source": [
    "### 1.4. Berechnungen durchführen"
   ]
  },
  {
   "cell_type": "code",
   "execution_count": null,
   "metadata": {},
   "outputs": [],
   "source": [
    "# Neue Spalte und Berechnungen\n",
    "\n",
    "df[\"death_rate\"] = df.new_deaths / df.active\n",
    "df.death_rate                                   # der Index \"date\" wird automatisch mit angezeigt, wenn wir die neue Spalte abrufen"
   ]
  },
  {
   "cell_type": "code",
   "execution_count": null,
   "metadata": {},
   "outputs": [],
   "source": [
    "# Konditionale Zuweisungen\n",
    "df[\"bad_day\"] = 0                                  # Spalte anlegen, Wert ist überall 0\n",
    "df.loc[df.new_cases > 300000, \"bad_day\"] = 1       # Werte auf 1 setzen, wenn new_cases > 300.000\n",
    "\n",
    "print(\"An {} von {} Tagen sind mehr als 300.000 neue Fälle aufgetreten.\".format(df.bad_day.sum(), df.bad_day.count()))"
   ]
  },
  {
   "cell_type": "markdown",
   "metadata": {},
   "source": [
    "### 1.5. DataFrame partitionieren"
   ]
  },
  {
   "cell_type": "code",
   "execution_count": null,
   "metadata": {},
   "outputs": [],
   "source": [
    "# Mit DataFrames kann man ähnlich Listen und Dictionaries arbeiten\n",
    "\n",
    "print(\"Zugriff über Index\")\n",
    "print(df.iloc[0,1])\n",
    "print(\"Zugriff über Indexausprägung und Spaltennamen\")\n",
    "print(df.loc[\"2020-01-21\",\"cases\"])"
   ]
  },
  {
   "cell_type": "code",
   "execution_count": null,
   "metadata": {},
   "outputs": [],
   "source": [
    "print(\"Ranges\")\n",
    "print(df.loc[\"2020-02-01\":\"2020-02-14\", \"deaths\":\"active\"])"
   ]
  },
  {
   "cell_type": "code",
   "execution_count": null,
   "metadata": {},
   "outputs": [],
   "source": [
    "print(\"Subsets\")\n",
    "print(df.loc[\"2020-02-01\", [\"deaths\", \"active\"]])"
   ]
  },
  {
   "cell_type": "markdown",
   "metadata": {},
   "source": [
    "---\n",
    "## 2. Merkmale untersuchen und visualisieren <a id=\"kapitel2\"/>"
   ]
  },
  {
   "cell_type": "markdown",
   "metadata": {},
   "source": [
    "### 2.1. Deskriptive Statistiken"
   ]
  },
  {
   "cell_type": "code",
   "execution_count": null,
   "metadata": {},
   "outputs": [],
   "source": [
    "# Deskriptive Statistiken können für das gesamte Dataframe oder einzelne Spalten berechnet werden\n",
    "\n",
    "# df.describe()\n",
    "df.new_cases.describe()"
   ]
  },
  {
   "cell_type": "code",
   "execution_count": null,
   "metadata": {},
   "outputs": [],
   "source": [
    "# Für jede Spalte können mit analoger Syntax die wesentlichen statistischen Maße berechnet werden.\n",
    "print(\"Median, Mean, Max, Min\")\n",
    "print(df.cases.median(), df.cases.mean(), df.cases.max(), df.cases.min())"
   ]
  },
  {
   "cell_type": "code",
   "execution_count": null,
   "metadata": {},
   "outputs": [],
   "source": [
    "# Quantile\n",
    "\n",
    "p20 = df.new_cases.quantile(0.2)\n",
    "print(\"An 20% der Tage gab es weniger als {} Neuinfektionen.\".format(p20))"
   ]
  },
  {
   "cell_type": "markdown",
   "metadata": {},
   "source": [
    "### 2.2. Visualisierung mit Matplotlib"
   ]
  },
  {
   "cell_type": "markdown",
   "metadata": {},
   "source": [
    "Pandas haben eine plot() Funktion, die einfache Grafiken erzeugt. Die Dokumentation der ```plot```-Funktion findest du [hier](https://pandas.pydata.org/pandas-docs/version/0.23.4/generated/pandas.DataFrame.plot.html)."
   ]
  },
  {
   "cell_type": "code",
   "execution_count": null,
   "metadata": {},
   "outputs": [],
   "source": [
    "# Create plots\n",
    "\n",
    "# Jupyter-Feature: Wir wollen das Diagramm direkt im Notebook sehen, nicht als Datei speichern o.ä.\n",
    "%matplotlib inline\n",
    "\n",
    "df.death_rate.plot()"
   ]
  },
  {
   "cell_type": "code",
   "execution_count": null,
   "metadata": {},
   "outputs": [],
   "source": [
    "# Boxplots und ausreißer bereinigen über Filter\n",
    "\n",
    "df.new_cases.plot()"
   ]
  },
  {
   "cell_type": "code",
   "execution_count": null,
   "metadata": {},
   "outputs": [],
   "source": [
    "df[df.index.month==8].new_cases.plot(kind=\"box\")"
   ]
  },
  {
   "cell_type": "code",
   "execution_count": null,
   "metadata": {},
   "outputs": [],
   "source": [
    "df[(df.new_cases==0) | (df.new_cases > 400000)].head(5)"
   ]
  },
  {
   "cell_type": "code",
   "execution_count": null,
   "metadata": {},
   "outputs": [],
   "source": [
    "df = df[df.index!=\"2020-08-17\"]\n",
    "df = df[df.index!=\"2020-08-18\"]"
   ]
  },
  {
   "cell_type": "code",
   "execution_count": null,
   "metadata": {},
   "outputs": [],
   "source": [
    "# Neue Cases der letzten 14 Tage\n",
    "\n",
    "df[-15:-1].new_cases.plot(kind=\"bar\", title=\"Neuinfektionen der letzten 14 Tage\")  "
   ]
  },
  {
   "cell_type": "code",
   "execution_count": null,
   "metadata": {},
   "outputs": [],
   "source": [
    "# Histogramm der neuen Fälle\n",
    "\n",
    "df.new_cases.plot(kind=\"hist\") "
   ]
  },
  {
   "cell_type": "code",
   "execution_count": null,
   "metadata": {},
   "outputs": [],
   "source": [
    "# Vergleich der neuen Fälle vor/nach Juli mit Histogrammen\n",
    "\n",
    "df.loc[df.index < \"2020-07-01\", \"new_cases\"].plot(kind=\"hist\", alpha=0.5) \n",
    "df.loc[df.index >= \"2020-07-01\", \"new_cases\"].plot(kind=\"hist\", alpha=0.5) "
   ]
  },
  {
   "cell_type": "markdown",
   "metadata": {},
   "source": [
    "---\n",
    "## 3. Zusammenhänge untersuchen und visualisieren <a id=\"kapitel3\"/>\n",
    "\n",
    "Im ersten Beispieldatensatz sind vermutlich wenige Zusammenhänge zu interessant, allenfalls zwischen new_deaths und new_cases. Wir verwenden das umfassendere Visualisierungspaket Seaborn, um komplexe Grafiken mit einfachen Befehlen zu erzeugen."
   ]
  },
  {
   "cell_type": "code",
   "execution_count": null,
   "metadata": {},
   "outputs": [],
   "source": [
    "# Korrelationsmatrix\n",
    "df.corr()"
   ]
  },
  {
   "cell_type": "code",
   "execution_count": null,
   "metadata": {},
   "outputs": [],
   "source": [
    "# Advanced Styling mit Package Seaborn, Beispiele: https://seaborn.pydata.org/tutorial/distributions.html\n",
    "import seaborn as sns\n",
    "\n",
    "sns.heatmap(df.corr(), cmap=\"coolwarm\")"
   ]
  },
  {
   "cell_type": "code",
   "execution_count": null,
   "metadata": {},
   "outputs": [],
   "source": [
    "sns.pairplot(df.loc[:,[\"new_cases\",\"new_deaths\", \"active\"]])"
   ]
  },
  {
   "cell_type": "markdown",
   "metadata": {},
   "source": [
    "---\n",
    "## 4. Anwendungsbeispiel Kreditvergabe <a id=\"kapitel4\"/>\n",
    "\n",
    "Wir betrachten im Folgenden einen Datensatz mit Privatkreditvorgängen einer deutschen Bank.  \n",
    "Hierbei durchlaufen wir dieselbe Prozedur, bauen aber die Grafiken etwas eleganter auf.\n",
    "\n",
    "Der Datensatz kommt vom Datebankserver und umfasst folgende Merkmalen:\n",
    "   >  *Age* (numeric)  \n",
    "   >  *Sex* (text: male, female)  \n",
    "   >  *Job* (numeric: 0 - unskilled and non-resident, 1 - unskilled and resident, 2 - skilled, 3 - highly skilled)  \n",
    "   >  *Housing* (text: own, rent, or free)  \n",
    "   >  *Saving accounts* (text - little, moderate, quite rich, rich)  \n",
    "   >  *Checking account* (text - little, moderate, quite rich, rich)   \n",
    "   >  *Credit amount* (numeric, in EUR)  \n",
    "   >  *Duration* (numeric, in month)  \n",
    "   >  *Purpose* (text: car, furniture/equipment, radio/TV, domestic appliances, repairs, education, business, vacation/others  \n",
    "   >  *Risk* (Value target - Good or Bad Risk)  "
   ]
  },
  {
   "cell_type": "markdown",
   "metadata": {},
   "source": [
    "### 4.1. Daten einlesen und aufbereiten"
   ]
  },
  {
   "cell_type": "code",
   "execution_count": null,
   "metadata": {},
   "outputs": [],
   "source": [
    "# Module importieren\n",
    "\n",
    "import pandas as pd\n",
    "import seaborn as sns\n",
    "import matplotlib.pyplot as plt\n",
    "%matplotlib inline\n",
    "\n",
    "# Visualisierung-Stil für Diagramme mit Seaview setzen\n",
    "sns.set(font_scale = 1.1,               # Schriften etwas größer als normal\n",
    "       palette     = \"pastel\",        # siehe: http://seaborn.pydata.org/tutorial/color_palettes.html\n",
    "       style       = \"whitegrid\")       # Schriften etwas größer als normal"
   ]
  },
  {
   "cell_type": "code",
   "execution_count": null,
   "metadata": {},
   "outputs": [],
   "source": [
    "# Verbindung zum Datenbankserver herstellen\n",
    "\n",
    "%load_ext sql\n",
    "%sql sqlite:///data/smi-data.db\n",
    "\n",
    "# SQL-Abfrage durchführen und Ergebnis in Variable result speichern        \n",
    "        \n",
    "result = %sql SELECT * FROM credit_ger\n",
    "\n",
    "# Aus Result ein DataFrame machen und in Variable df speichern\n",
    "\n",
    "df = result.DataFrame()\n",
    "df = df.set_index([\"id\"])\n",
    "df.head(5)"
   ]
  },
  {
   "cell_type": "code",
   "execution_count": null,
   "metadata": {},
   "outputs": [],
   "source": [
    "# Spaltenbenennungen vereinfachen\n",
    "df = df.rename({\n",
    "    \"Age\": \"age\",\n",
    "    \"Sex\": \"sex\",\n",
    "    \"Job\": \"job\",\n",
    "    \"Housing\": \"housing\",\n",
    "    \"Saving accounts\": \"savings\", \n",
    "    \"Checking account\": \"cash\",\n",
    "    \"Credit amount\": \"amount\",\n",
    "    \"Duration\": \"duration\",\n",
    "    \"Purpose\": \"purpose\",\n",
    "    \"Risk\": \"risk\"\n",
    "}, axis=\"columns\")"
   ]
  },
  {
   "cell_type": "markdown",
   "metadata": {},
   "source": [
    "### 4.2. Merkmale untersuchen und visualisieren"
   ]
  },
  {
   "cell_type": "code",
   "execution_count": null,
   "metadata": {},
   "outputs": [],
   "source": [
    "# Deskriptive Statistik der wichtigsten Merkmale\n",
    "\n",
    "df[['age', 'duration', 'amount']].describe()"
   ]
  },
  {
   "cell_type": "markdown",
   "metadata": {},
   "source": [
    "#### Untersuchung Kreditausfälle und Alter"
   ]
  },
  {
   "cell_type": "code",
   "execution_count": null,
   "metadata": {},
   "outputs": [],
   "source": [
    "# Globale Kreditausfallquote\n",
    "\n",
    "# Berechnung mit DataFrame-Filtern\n",
    "\n",
    "credit_default_rate = df[df.risk==\"good\"].risk.count() / df.risk.count()\n",
    "print (credit_default_rate)"
   ]
  },
  {
   "cell_type": "code",
   "execution_count": null,
   "metadata": {},
   "outputs": [],
   "source": [
    "# Alternative Berechnung mit Kreuztabelle\n",
    "\n",
    "pd.crosstab(df.risk, columns=\"count\", normalize=\"columns\")      # normalize: keine abs. Häufigkeit, sondern relative Häufigkeit in Spalten angeben"
   ]
  },
  {
   "cell_type": "code",
   "execution_count": null,
   "metadata": {},
   "outputs": [],
   "source": [
    "fig, ax = plt.subplots(1, 3, figsize=(16,6))\n",
    "fig.suptitle(\"Kreditausfälle und Alter\")\n",
    "\n",
    "ax[0].set_title(\"Kreditausfälle\")\n",
    "sns.histplot(df.risk, ax=ax[0])\n",
    "\n",
    "ax[1].set_title(\"Altersverteilung\")\n",
    "sns.histplot(df.age, ax=ax[1])\n",
    "\n",
    "ax[2].set_title(\"Altersverteilung nach Kreditauswall\")\n",
    "sns.histplot(x=df.age, hue=df.risk, ax=ax[2], palette=\"RdYlGn_r\", bins=20)\n",
    "\n",
    "plt.show()"
   ]
  },
  {
   "cell_type": "code",
   "execution_count": null,
   "metadata": {},
   "outputs": [],
   "source": [
    "fig, ax = plt.subplots(2,3,figsize=(20,10))\n",
    "plt.suptitle(\"Verteilungen\")\n",
    "sns.histplot(df.amount, bins=40, ax=ax[0,0]);\n",
    "sns.histplot(df.duration, bins=40, ax=ax[0,1], color=\"salmon\");\n",
    "sns.histplot(df.age, bins=40, ax=ax[0,2], color=\"darkviolet\");\n",
    "\n",
    "sns.boxplot(x=df.amount, ax=ax[1,0]);\n",
    "sns.boxplot(x=df.duration, ax=ax[1,1], color=\"salmon\");\n",
    "sns.boxplot(x=df.age, ax=ax[1,2], color=\"darkviolet\");\n",
    "\n",
    "plt.show() "
   ]
  },
  {
   "cell_type": "markdown",
   "metadata": {},
   "source": [
    "#### Auffälligkeiten\n",
    "- Kredite typischerweise 1400-4000 EUR und 1-2 Jahre\n",
    "- Kredite mit vielen Ausreißerun nach oben (>7500)\n",
    "- Kreditnehmer Ende 20 bis Anfang 40 "
   ]
  },
  {
   "cell_type": "markdown",
   "metadata": {},
   "source": [
    "### 4.3. Zusammenhänge untersuchen und visualisieren"
   ]
  },
  {
   "cell_type": "code",
   "execution_count": null,
   "metadata": {},
   "outputs": [],
   "source": [
    "# Bestehen Zusammenhänge zwischen den kardinalen und/oder metrischen Merkmalen?\n",
    "\n",
    "sns.pairplot(df, hue=\"risk\")"
   ]
  },
  {
   "cell_type": "markdown",
   "metadata": {},
   "source": [
    "#### Auffälligkeiten\n",
    "- Amount vs. Duration: Größere Kredite werden in überwiegender Zahl für längere Laufzeiten vergeben."
   ]
  },
  {
   "cell_type": "code",
   "execution_count": null,
   "metadata": {},
   "outputs": [],
   "source": [
    "# Zweck des Kredits vs. Rückzahlungshäufigkeit\n",
    "\n",
    "pd.crosstab(df.purpose, df.risk, normalize=\"index\")        # normalize: keine absolute Häufigkeit sondern zeilenweise (index) relative Häufigkeit angeben"
   ]
  },
  {
   "cell_type": "code",
   "execution_count": null,
   "metadata": {},
   "outputs": [],
   "source": [
    "# Rückzahlungsquoten scheinen bei 60-70% zu liegen\n",
    "# Genauere Untersuchung durch Visualisierung\n",
    "fig, ax = plt.subplots(1,2,figsize=(18,8))\n",
    "plt.suptitle('Zweck des Kredits')\n",
    "\n",
    "sns.countplot(y=df.purpose, hue=df.risk, ax=ax[0], palette=\"RdYlGn_r\")\n",
    "sns.boxplot(y=df.purpose, x=df.amount, hue=df.risk, ax=ax[1], palette=\"RdYlGn_r\")\n",
    "\n",
    "plt.show()"
   ]
  },
  {
   "cell_type": "markdown",
   "metadata": {},
   "source": [
    "#### Auffälligkeiten\n",
    "- Hoher Zusammenhang zwischen Ausfallrisko und Kreditzweck\n",
    "- Übermäßig teure Reisekredite (>11k) fallen alle aus\n",
    "- Höhere Kredite fallen eher aus"
   ]
  },
  {
   "cell_type": "code",
   "execution_count": null,
   "metadata": {},
   "outputs": [],
   "source": [
    "# Zweck des Kredits vs. Wohnsituation und Qualifikation\n",
    "\n",
    "fig, ax = plt.subplots(1,1,figsize=(18,8))\n",
    "plt.suptitle('Housing und Qualifikation')\n",
    "\n",
    "sns.violinplot(x=df.housing, y=df.job, hue=df.risk, palette=\"RdYlGn_r\");"
   ]
  },
  {
   "cell_type": "markdown",
   "metadata": {},
   "source": [
    "#### Auffälligkeiten\n",
    "- Geringe Qualifikation, kein Wohneigentum oder Mietverhältnis ist eine problematische Kombination\n",
    "- Bei Wohneigentum generell höhere Rückzahlungshäufigkeit, insbl. mit Berufsausbildung (\"skilled\", job = 2)\n",
    "- In höchster Qualifikationsstufe keine Wechselwirkung mit Wohnsituation erkennbar"
   ]
  },
  {
   "cell_type": "markdown",
   "metadata": {},
   "source": [
    "---\n",
    "### <span style=\"color:#FF5D02;\">Aufgabe 1: Exploration</span>\n",
    "Untersuche die Merkmale ```sex```, ```savings``` und ```cash``` einzeln und im Zusammenhang mit der Kreditrückzahlungsquote!\n",
    "Führe die Untersuchung sowohl tabellarisch als auch grafisch durch."
   ]
  },
  {
   "cell_type": "code",
   "execution_count": null,
   "metadata": {},
   "outputs": [],
   "source": []
  },
  {
   "cell_type": "code",
   "execution_count": null,
   "metadata": {},
   "outputs": [],
   "source": []
  }
 ],
 "metadata": {
  "kernelspec": {
   "display_name": "Python 3",
   "language": "python",
   "name": "python3"
  },
  "language_info": {
   "codemirror_mode": {
    "name": "ipython",
    "version": 3
   },
   "file_extension": ".py",
   "mimetype": "text/x-python",
   "name": "python",
   "nbconvert_exporter": "python",
   "pygments_lexer": "ipython3",
   "version": "3.7.4"
  }
 },
 "nbformat": 4,
 "nbformat_minor": 4
}

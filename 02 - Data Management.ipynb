{
 "cells": [
  {
   "cell_type": "markdown",
   "metadata": {},
   "source": [
    "<div>\n",
    "    <img style=\"float:right;\" src=\"images/smi-logo.png\"/>\n",
    "    <div style=\"float:left;color:#58288C;\"><h1>Datenanalyse und Datenmanagement</h1></div>\n",
    "</div>"
   ]
  },
  {
   "cell_type": "markdown",
   "metadata": {},
   "source": [
    "---\n",
    "# Notebook II: Data Management\n",
    "In diesem Notebook geht es um die Arbeit mit Datenbanken und APIs.\n",
    "\n",
    "## Inhaltsverzeichnis\n",
    "\n",
    "[1. Einführung in SQL mit Notebooks](#kapitel1)  \n",
    "[2. Erstellen von Tabellen und Daten](#kapitel2)  \n",
    "[3. Abfragen von Daten](#kapitel3)  \n",
    "[4. Verbindung zu Datenbankservern herstellen](#kapitel4)  \n",
    "[5. Verbindung zu APIs herstellen](#kapitel5)  \n",
    "[6. Übungen Datenbank- und API-Abfragen](#kapitel6)  \n",
    "\n",
    "---"
   ]
  },
  {
   "cell_type": "markdown",
   "metadata": {},
   "source": [
    "## 1. Einführung Datenbanken in Notebooks<a id=\"kapitel1\"/>"
   ]
  },
  {
   "cell_type": "markdown",
   "metadata": {},
   "source": [
    "### 1.1. Jupyter Notebooks und SQL"
   ]
  },
  {
   "cell_type": "markdown",
   "metadata": {},
   "source": [
    "Obwohl wir mit einem Python-Notebook arbeiten, können wir in einer Zelle temporär andere Sprachen verwenden. Hierzu müssen wir eine Notebook-Extension laden (in unserem Beispiel ```sql```)."
   ]
  },
  {
   "cell_type": "code",
   "execution_count": null,
   "metadata": {},
   "outputs": [],
   "source": [
    "%load_ext sql"
   ]
  },
  {
   "cell_type": "markdown",
   "metadata": {},
   "source": [
    "Ab jetzt können Zellen als SQL-Zellen gekennzeichnet werden:"
   ]
  },
  {
   "cell_type": "code",
   "execution_count": null,
   "metadata": {},
   "outputs": [],
   "source": [
    "%sql -- einzeilige SQL-Anweisung"
   ]
  },
  {
   "cell_type": "code",
   "execution_count": null,
   "metadata": {},
   "outputs": [],
   "source": [
    "%%sql\n",
    "\n",
    "-- ganze Zelle ist SQL-Anweisung"
   ]
  },
  {
   "cell_type": "markdown",
   "metadata": {},
   "source": [
    "### 1.2. SQLite"
   ]
  },
  {
   "cell_type": "markdown",
   "metadata": {},
   "source": [
    "Unsere ersten Schritte machen wir mit einer Datenbank vom Typ SQLite (mehr Infos dazu [hier](https://www.sqlite.org/index.html)). SQLite Datenbanken liegen typischerweise als eine einzelne Datei vor und können so flexibel in Programme verschiedenster Sprachen eingebunden werden. Die Dokumentation findet sich [hier](https://sqlite.org/lang.html).\n",
    "\n",
    "SQLite wird auf dessen Website so beschrieben:  \n",
    "> SQLite [...] implements a small, fast, self-contained, high-reliability, full-featured, SQL database engine. SQLite is the most used database engine in the world. SQLite is built into all mobile phones and most computers and comes bundled inside countless other applications that people use every day."
   ]
  },
  {
   "cell_type": "markdown",
   "metadata": {},
   "source": [
    "---"
   ]
  },
  {
   "cell_type": "markdown",
   "metadata": {},
   "source": [
    "In SQL-Zellen können wir mit einem URL (Uniform Resource Locator) ähnlich dem Webbrowser eine Verbindung zu Datenbanken herstellen. Der Aufbau ist im Allgemeinen wie folgend: \n",
    "> _Datenbanktyp_://_Username_:_Password_@_Servername_/_Datenbankname_ \n",
    "\n",
    "Für SQlite-Datenbanken im Dateisystem des Notebooks entfallen Username, Password und Servername (daher drei \"/\"), der Datenbankname ist der Dateiname:\n",
    "\n",
    "> _sqlite:///**pfad/zur/datenbankdatei**_"
   ]
  },
  {
   "cell_type": "code",
   "execution_count": null,
   "metadata": {},
   "outputs": [],
   "source": [
    "%%sql \n",
    "\n",
    "sqlite:///my-database.db"
   ]
  },
  {
   "cell_type": "markdown",
   "metadata": {},
   "source": [
    "## 2. Erstellen von Tabellen und Daten <a id=\"kapitel2\"/>\n",
    "SQL-Befehle sind etwas anders aufgebaut als Python-Befehle. Zwei Dinge sind zunächst zu beachten:\n",
    "- Ein Befehl ist mit ```;``` abzuschließen, sonst wird er nicht ausgeführt\n",
    "- Kommentare sind mit ```--```einzuleiten statt mit ```#``` "
   ]
  },
  {
   "cell_type": "markdown",
   "metadata": {},
   "source": [
    "Nachfolgend erzeugen wir eine Datenstruktur, wie sie in folgendem Klassendiagramm abgebildet ist:  \n",
    "<img style=\"width:450px;\" src=\"images/02_class-diagram.png\"/>"
   ]
  },
  {
   "cell_type": "markdown",
   "metadata": {},
   "source": [
    "Erzeugen wir nun im ersten Schritt mit SQL die Tabelle \"Mitarbeiter\" mit dem Befehl ```CREATE TABLE```.  \n",
    "\n",
    "Auf deinem Smartphone würden diese Kommandos beispielsweise beim ersten Start durch eine App ausgeführt."
   ]
  },
  {
   "cell_type": "code",
   "execution_count": null,
   "metadata": {},
   "outputs": [],
   "source": [
    "%%sql  \n",
    "\n",
    "-- Falls es die Tabellen schon geben sollte (etwa weil du die Zelle schon einmal ausgeführt hast): Tabellen löschen\n",
    "DROP TABLE IF EXISTS Mitarbeiter; \n",
    "DROP TABLE IF EXISTS Abteilungen; \n",
    "\n",
    "CREATE TABLE Abteilungen (\n",
    "    abteilungs_nr int PRIMARY KEY,\n",
    "    bezeichnung varchar(50)\n",
    ");\n",
    "\n",
    "CREATE TABLE Mitarbeiter (\n",
    "    mitarbeiter_nr int PRIMARY KEY,\n",
    "    abteilungs_nr int,                    -- hier haben wir die Id der Abteilung als Fremdschlüssel eingefügt\n",
    "    vorname varchar(50),\n",
    "    name varchar(50),\n",
    "    FOREIGN KEY (abteilungs_nr) REFERENCES Abteilungen(abteilungs_nr)\n",
    "    );"
   ]
  },
  {
   "cell_type": "markdown",
   "metadata": {},
   "source": [
    "Nun fügen wir mit ```INSERT``` Datensätze hinzu:"
   ]
  },
  {
   "cell_type": "code",
   "execution_count": null,
   "metadata": {},
   "outputs": [],
   "source": [
    "%%sql\n",
    "\n",
    "INSERT INTO Abteilungen VALUES (1, \"Einkauf\");\n",
    "INSERT INTO Abteilungen VALUES (2, \"Produktion\");\n",
    "INSERT INTO Abteilungen VALUES (3, \"Vertrieb\");\n",
    "\n",
    "INSERT INTO Mitarbeiter VALUES (1, 2, \"Marco\", \"Lind\");  -- id \"1\", Abteilungsnr. \"2\", Vorname \"Marco\", Nachname \"Lind\"\n",
    "INSERT INTO Mitarbeiter VALUES (2, 2, \"Peter\", \"Lind\");\n",
    "INSERT INTO Mitarbeiter VALUES (3, 3, \"Sophia\", \"Lind\");"
   ]
  },
  {
   "cell_type": "markdown",
   "metadata": {},
   "source": [
    "---\n",
    "\n",
    "## 3. Abfragen von Daten <a id=\"kapitel3\"/>"
   ]
  },
  {
   "cell_type": "markdown",
   "metadata": {},
   "source": [
    "### 3.1. Daten aus einzelnen Tabellen\n",
    "Nun ist es naheliegend, diese Daten wieder Abfragen zu wollen. Dies geschieht mit dem ```SELECT``` Befehl. Eine Smartphone-App würde mittels SELECT  beispielsweise beim Start die benötigten Daten zur Anzeige aus dem Handyspeicher laden."
   ]
  },
  {
   "cell_type": "code",
   "execution_count": null,
   "metadata": {},
   "outputs": [],
   "source": [
    "%%sql\n",
    "\n",
    "SELECT vorname, name FROM Mitarbeiter;"
   ]
  },
  {
   "cell_type": "markdown",
   "metadata": {},
   "source": [
    "Anstelle einer Auflistung der Datenfelder können mit ```*``` alle Felder abgefragt werden.  \n",
    "Mit dem Unterbefehl ```WHERE``` kannst du die Ergebnisdaten filtern, mit ```ORDER BY``` sortieren:"
   ]
  },
  {
   "cell_type": "code",
   "execution_count": null,
   "metadata": {},
   "outputs": [],
   "source": [
    "%%sql\n",
    "\n",
    "SELECT * FROM Mitarbeiter\n",
    "WHERE abteilungs_nr = 2           -- nur aus Abteilung\n",
    "ORDER BY vorname;                 -- alphabetisch nach Vorname sortieren"
   ]
  },
  {
   "cell_type": "markdown",
   "metadata": {},
   "source": [
    "---\n",
    "### <span style=\"color:#FF5D02;\">Aufgabe: Überprüfe die Tabelle \"Abteilungen\"</span>\n",
    "a) Lass die alle Datensätze der Tabelle \"Abteilungen\" mittels ```SELECT``` anzeigen.  \n",
    "b) Sortiere alphabetisch nach Abteilungsname.\n"
   ]
  },
  {
   "cell_type": "code",
   "execution_count": null,
   "metadata": {},
   "outputs": [],
   "source": [
    "%%sql\n"
   ]
  },
  {
   "cell_type": "markdown",
   "metadata": {},
   "source": [
    "---"
   ]
  },
  {
   "cell_type": "markdown",
   "metadata": {},
   "source": [
    "### 3.2. Ausblick: Abfrage aus verknüpften Tabellen\n",
    "Nun wollen wir aber die Abteilungsnamen nicht manuell nachschlagen, sondern beide Tabelle in einer Abfrage zusammenführen.\n"
   ]
  },
  {
   "cell_type": "code",
   "execution_count": null,
   "metadata": {},
   "outputs": [],
   "source": [
    "%%sql\n",
    "\n",
    "SELECT mitarbeiter_nr, vorname, name, bezeichnung AS Abteilung            -- wir benennen hier die Spalte \"bezeichnung\" in \"Abteilung\" um\n",
    "FROM Mitarbeiter, Abteilungen\n",
    "WHERE Mitarbeiter.abteilungs_nr = Abteilungen.abteilungs_nr;              -- Die Abteilungsnr. aus Tabelle Mitarbeiter und Abteilung muss übereinstimmen"
   ]
  },
  {
   "cell_type": "markdown",
   "metadata": {},
   "source": [
    "## 4. Daten aus bestehenden Datenbanken abrufen <a id=\"kapitel4\"/>"
   ]
  },
  {
   "cell_type": "markdown",
   "metadata": {},
   "source": [
    "Die Beispieldaten für diesen Teil liegen komprimiert in Form einer ZIP-Datei vor. Im ersten Schritt müssen wir die Datenbank also entpacken."
   ]
  },
  {
   "cell_type": "code",
   "execution_count": null,
   "metadata": {},
   "outputs": [],
   "source": [
    "!unzip -o -d data data/smi-data.zip"
   ]
  },
  {
   "cell_type": "markdown",
   "metadata": {},
   "source": [
    "Nun können wir eine Verbindung zu der SQLite-Datenbank in der Datei ```smi-data.db``` im Unterverzeichnis ```data``` herstellen."
   ]
  },
  {
   "cell_type": "code",
   "execution_count": null,
   "metadata": {},
   "outputs": [],
   "source": [
    "%sql sqlite:///data/smi-data.db"
   ]
  },
  {
   "cell_type": "markdown",
   "metadata": {},
   "source": [
    "Du hast nun Zugriff auf vier Tabellen:\n",
    "- okcupid - Datenbestand der gleichnamigen Datingplattform\n",
    "- credit_ger - Pseudonymisierte Daten zu Kreditvergabevorgängen\n",
    "- housing_ger - Daten von Immobilienscout zu Mietangeboten in Deutschland\n",
    "- telco_churn - Kundendaten eines Telco-Anbieters von Kündigern und Bestandskunden"
   ]
  },
  {
   "cell_type": "markdown",
   "metadata": {},
   "source": [
    "### Arbeit mit dem OkCupid-Datensatz\n",
    "Nun können wir die bekannten Befehle nutzen, um Daten abzufragen und zu manipulieren.  \n",
    "In diesem Beispiel siehst du, wie ein Datensatz der Dating-Plattform OKCupid nach Profilen durchsucht wird, die bestimmten Suchkriterien entsprechen:"
   ]
  },
  {
   "cell_type": "code",
   "execution_count": null,
   "metadata": {},
   "outputs": [],
   "source": [
    "%%sql \n",
    "\n",
    "SELECT *\n",
    "FROM okcupid\n",
    "WHERE (drugs=\"never\") AND (income > 40000) AND (age > 20) AND (age < 30)\n",
    "  AND (sex=\"f\") AND (orientation=\"straight\") AND (pets=\"likes dogs\")\n",
    "LIMIT 20;"
   ]
  },
  {
   "cell_type": "markdown",
   "metadata": {},
   "source": [
    "---\n",
    "### <span style=\"color:#FF5D02;\">Aufgabe: Abfragen, filtern und sortieren mit SQL</span>\n",
    "Verändere die Abfrage, sodass sie andere Ausschnitte der Daten abbildet. Beantworte auf diese Weise folgende Fragen:  \n",
    "1) Was machen die reichsten Beziehungssuchenden beruflich?  \n",
    "2) Wieviele rauchende Veganer gibt es auf OKCupid?\n",
    "\n",
    "WICHTIG: Behalte den ```LIMIT 20``` Befehl am Ende bei, sonst könnte dem Notebook der Arbeitsspeicher ausgehen wenn zehntausende Datensätze im Browser anzuzeigen wären."
   ]
  },
  {
   "cell_type": "code",
   "execution_count": null,
   "metadata": {},
   "outputs": [],
   "source": []
  },
  {
   "cell_type": "markdown",
   "metadata": {},
   "source": [
    "---"
   ]
  },
  {
   "cell_type": "markdown",
   "metadata": {},
   "source": [
    "## 5. Verbindung zu APIs herstellen<a id=\"kapitel5\"/>"
   ]
  },
  {
   "cell_type": "markdown",
   "metadata": {},
   "source": [
    "Für eine REST-API benötigen wir kein SQL - hier werden ggf. Filter in der URL (dem \"Link\") mit angegeben. Wie das jeweils funktioniert, ist der Dokumentation der jeweiligen API zu entnehmen.\n",
    "\n",
    "Starten wir mit einem einfachen Beispiel: \n",
    ">[api.open-notify.org/astros.json](http://api.open-notify.org/astros.json) bietet eine Liste aller derzeit im Weltall lebenden Menschen.   \n",
    ">Klicke zuerst im Browser auf den Link und sieh dir die Daten an. Dieses Format nennt sich JSON (JavaScript Object Notation, mehr dazu [hier](https://www.w3schools.com/js/js_json_syntax.asp)).  \n",
    ">Führe im Anschluss den nachfolgenden Code aus, um die Daten mit Python einzulesen."
   ]
  },
  {
   "cell_type": "code",
   "execution_count": null,
   "metadata": {},
   "outputs": [],
   "source": [
    "import pandas        # Python Paket, das wir auch im weiteren für Datenmanagement verwenden\n",
    "import requests      # Python Paket, das HTTP-Anfragen (engl. requests) stellen kann\n",
    "\n",
    "link = \"http://api.open-notify.org/astros.json\"\n",
    "\n",
    "# API abfragen\n",
    "response = requests.get(link)"
   ]
  },
  {
   "cell_type": "code",
   "execution_count": null,
   "metadata": {},
   "outputs": [],
   "source": [
    "# Sehen wir uns nun die empfangenen Rohdaten an...\n",
    "# Welche Struktur erkennst du hier wieder? Wo sind Listen? Wo Dictionaries?\n",
    "response.json()"
   ]
  },
  {
   "cell_type": "code",
   "execution_count": null,
   "metadata": {},
   "outputs": [],
   "source": [
    "# Nun übernehmen wir die Struktur im Feld \"people\" (record_path) und erhalten eine Datentabelle\n",
    "pandas.json_normalize(response.json(), record_path=\"people\")"
   ]
  },
  {
   "cell_type": "markdown",
   "metadata": {},
   "source": [
    "---\n",
    "## 6. Übungen Datenbank- und API-Abfragen <a id=\"kapitel6\"/>"
   ]
  },
  {
   "cell_type": "markdown",
   "metadata": {},
   "source": [
    "### <span style=\"color:#FF5D02;\">Aufgabe 6.1: Datenabruf mit SQL</span>\n",
    "\n",
    "Die Tabelle ```housing_ger``` der oben geöffneten Datenbank enthält ~190MB Daten von zu vermietenden Wohnungen in Deutschland (Stand April 2020). \n",
    "\n",
    "Verwende ```SELECT``` Abfragen, um zu ermitteln,   \n",
    "a) ... was Neubauwohnungen (Spalte \"obj_newlyConst\") in Berlin (Spalte \"obj_regio1\") mit 50-55qm (Spalte \"obj_livingSpace\") in etwa kosten (Spalte \"obj_totalRent\")  \n",
    "b) ... wieviele Wohnungen aus dem 19. Jahrhundert (obj_yearConstructed) im Landkreis München (geo_krs) angeboten werden, die über eine Gasheizung verfügen (obj_heatingType) und wieviel sie in etwa kosten (Spalte \"obj_totalRent\")"
   ]
  },
  {
   "cell_type": "code",
   "execution_count": null,
   "metadata": {},
   "outputs": [],
   "source": []
  },
  {
   "cell_type": "markdown",
   "metadata": {},
   "source": [
    "### <span style=\"color:#FF5D02;\">Aufgabe 6.2: Datenabruf von APIs</span>\n",
    "Die API https://corona-api.com gibt unter dem Endpunkt ```/timeline``` die Entwicklung der globalen COVID19-Fälle zurück (Dokumentation hier: https://about-corona.net/documentation). Wann wurden die Daten zuletzt aktualisiert?\n"
   ]
  },
  {
   "cell_type": "code",
   "execution_count": null,
   "metadata": {
    "scrolled": true
   },
   "outputs": [],
   "source": []
  }
 ],
 "metadata": {
  "kernelspec": {
   "display_name": "Python 3",
   "language": "python",
   "name": "python3"
  },
  "language_info": {
   "codemirror_mode": {
    "name": "ipython",
    "version": 3
   },
   "file_extension": ".py",
   "mimetype": "text/x-python",
   "name": "python",
   "nbconvert_exporter": "python",
   "pygments_lexer": "ipython3",
   "version": "3.9.1"
  }
 },
 "nbformat": 4,
 "nbformat_minor": 4
}

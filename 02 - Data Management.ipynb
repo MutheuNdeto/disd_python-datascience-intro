{
 "cells": [
  {
   "cell_type": "markdown",
   "metadata": {},
   "source": [
    "<div>\n",
    "    <img style=\"float:right;\" src=\"images/smi-logo.png\"/>\n",
    "    <div style=\"float:left;color:#58288C;\"><h1>Datenanalyse und Datenmanagement</h1></div>\n",
    "</div>"
   ]
  },
  {
   "cell_type": "markdown",
   "metadata": {},
   "source": [
    "---\n",
    "# Notebook II: Data Management\n",
    "In diesem Notebook geht es um die Arbeit mit Datenbanken und APIs.\n",
    "\n",
    "## Inhaltsverzeichnis\n",
    "\n",
    "[1. Einführung in SQL mit Notebooks](#kapitel1)  \n",
    "[2. Erstellen von Tabellen und Daten](#kapitel2)  \n",
    "[3. Abfragen von Daten](#kapitel3)  \n",
    "[4. Verbindung zu Datenbankservern herstellen](#kapitel4)  \n",
    "[5. Verbindung zu APIs herstellen](#kapitel5)  \n",
    "[6. Übungen Datenbank- und API-Abfragen](#kapitel6)  \n",
    "\n",
    "---"
   ]
  },
  {
   "cell_type": "markdown",
   "metadata": {},
   "source": [
    "## 1. Einführung in SQL mit Notebooks <a id=\"kapitel1\"/>"
   ]
  },
  {
   "cell_type": "markdown",
   "metadata": {},
   "source": [
    "Obwohl wir mit einem Python3-Notebook, können wir in einer Zelle temporär andere Sprachen verwenden. Hierzu müssen wir eine Notebook-Extension laden (in unserem Beispiel ```sql```)."
   ]
  },
  {
   "cell_type": "code",
   "execution_count": 2,
   "metadata": {},
   "outputs": [],
   "source": [
    "%load_ext sql"
   ]
  },
  {
   "cell_type": "markdown",
   "metadata": {},
   "source": [
    "Unsere ersten Schritte machen wir mit einer temporär erzeugten Datenbank vom Typ SQLite (mehr Infos dazu [hier](https://www.sqlite.org/index.html)). SQLite Datenbanken liegen typischerweise als eine einzelne Datei vor und die SQLite Software kann flexibel in Programme in verschiedensten Sprachen eingebunden werden.\n",
    "\n",
    "Deren Website beschreibt SQLite so:  \n",
    "> SQLite [...] implements a small, fast, self-contained, high-reliability, full-featured, SQL database engine. SQLite is the most used database engine in the world. SQLite is built into all mobile phones and most computers and comes bundled inside countless other applications that people use every day.\n",
    "\n",
    "Die Dokumentation zu den unterstützen SQL-Befehlen in SQLite findest du [hier](https://sqlite.org/lang.html).\n",
    "\n",
    "Erzeugen wir nun unsere Datenbank, indem wir mit dem Magic ```%%sql``` Jupyter mitteilen, dass dies eine SQL-Zelle ist und nachfolgend eine SQLite-Verbindung definieren:"
   ]
  },
  {
   "cell_type": "code",
   "execution_count": null,
   "metadata": {},
   "outputs": [],
   "source": [
    "%%sql \n",
    "\n",
    "sqlite://"
   ]
  },
  {
   "cell_type": "markdown",
   "metadata": {},
   "source": [
    "## 2. Erstellen von Tabellen und Daten <a id=\"kapitel2\"/>\n",
    "SQL-Befehle sind etwas anders aufgebaut als Python-Befehle. Für unsere Zwecke beachte zwei Dinge:\n",
    "- Ein Befehl ist mit ```;``` abzuschließen, sonst wird er nicht ausgeführt\n",
    "- Kommentare sind mit ```--```einzuleiten statt mit ```#``` "
   ]
  },
  {
   "cell_type": "markdown",
   "metadata": {},
   "source": [
    "In den Kapitel 2 und 3 werden wir eine Datenstruktur erzeugen, wie sie in folgendem Klassendiagramm abgebildet ist:  \n",
    "<img style=\"width:450px;\" src=\"images/02_class-diagram.png\"/>"
   ]
  },
  {
   "cell_type": "markdown",
   "metadata": {},
   "source": [
    "### 2.1. Erzeugen von Tabellen\n",
    "Erzeugen wir nun im ersten Schritt mit SQL die Tabelle \"Mitarbeiter\" mit dem Befehl ```CREATE TABLE```.  \n",
    "\n",
    "Auf deinem Smartphone würden diese Kommandos beispielsweise beim ersten Start durch eine App ausgeführt."
   ]
  },
  {
   "cell_type": "code",
   "execution_count": null,
   "metadata": {},
   "outputs": [],
   "source": [
    "%%sql  \n",
    "\n",
    "-- Falls es die Tabelle schon geben sollte (etwa weil du die Zelle schon einmal ausgeführt hast): Tabelle löschen\n",
    "DROP TABLE IF EXISTS Mitarbeiter; \n",
    "\n",
    "CREATE TABLE Mitarbeiter (          -- Erzeuge die Tabelle Mitarbeiter\n",
    "    mitarbeiter_nr int PRIMARY KEY, -- ... mit einer Spalte \"nr\" vom Typ integer (Ganzzahl), die der Primärschlüssel ist\n",
    "    vorname varchar(50),            -- ... und den Spalten Vorname und Name, die vom Typ Varchar (Zeichenkette) der maximalen Länge 50 sind\n",
    "    name varchar(50));  "
   ]
  },
  {
   "cell_type": "markdown",
   "metadata": {},
   "source": [
    "Nun fügen wir Datensätze hinzu:"
   ]
  },
  {
   "cell_type": "code",
   "execution_count": null,
   "metadata": {},
   "outputs": [],
   "source": [
    "%%sql\n",
    "\n",
    "INSERT INTO Mitarbeiter VALUES (1, \"Marco\", \"Lind\");\n",
    "INSERT INTO Mitarbeiter VALUES (2, \"Peter\", \"Lind\");\n",
    "INSERT INTO Mitarbeiter VALUES (3, \"Sophia\", \"Lind\");"
   ]
  },
  {
   "cell_type": "markdown",
   "metadata": {},
   "source": [
    "---\n",
    "### <span style=\"color:#FF5D02;\">Aufgabe 1: Datenstruktur erweitern</span>\n",
    "1. Erzeuge die zweite Tabelle \"Abteilungen\" wie oben im Klassendiagramm beschrieben\n",
    "2. Füge drei Abteilungen hinzu: Einkauf, Produktion, Vertrieb"
   ]
  },
  {
   "cell_type": "code",
   "execution_count": null,
   "metadata": {},
   "outputs": [],
   "source": [
    "%%sql\n",
    "\n"
   ]
  },
  {
   "cell_type": "code",
   "execution_count": null,
   "metadata": {},
   "outputs": [],
   "source": [
    "%%sql\n",
    "\n"
   ]
  },
  {
   "cell_type": "markdown",
   "metadata": {},
   "source": [
    "---"
   ]
  },
  {
   "cell_type": "markdown",
   "metadata": {},
   "source": [
    "### 2.2. Tabellen verknüpfen\n",
    "\n",
    "Je nach Art der Assoziation erfolgt die Umsetzung in der Datenbank verschieden:\n",
    "- Typ **1..1 (auch: 1:1)**: Die Attribute beider Tabellen werden meist in eine Tabelle zusammengefasst.\n",
    "\n",
    "- Typ **1..\\* (auch: 1:n)**: In der Tabelle auf der \"n-Seite\" wird eine Fremdschlüssel-Spalte zum Verweis auf die zweite Tabelle erzeugt  \n",
    "_Beispiel: Die Mitarbeiter-Tabelle erhält eine Spalte \"abteilungs_nr\", die für jeden Mitarbeiter per Id auf eine Abteilung verweist_\n",
    "\n",
    "\n",
    "- Typ **\\*..\\* (auch n:m)**: In einer Verknüpfungstabelle wird mit zwei Fremdschlüssel auf beide Tabellen verwiesen.  \n",
    "_Beispiel: Könnten Mitarbeiter in mehreren Abteilungen sein, würde eine Tabelle \"Abteilungszugehörigkeit\" diese im Format (mitarbeiter_id, abteilungs_id) speichern_\n",
    "\n"
   ]
  },
  {
   "cell_type": "markdown",
   "metadata": {},
   "source": [
    "Verknüpfen wir nun unsere Tabellen wie im Klassendiagramm dargestellt.  \n",
    "\n",
    "<img style=\"width:450px;float:left;\" src=\"images/02_class-diagram.png\"/>"
   ]
  },
  {
   "cell_type": "markdown",
   "metadata": {},
   "source": [
    "Gemäß obiger Logik müssen wir der Mitarbeiter-Tabelle eine Spalte \"abteilungs_nr\" als Fremdschlüssel hinzufügen.  \n",
    "Der Einfachheit halber erzeugen wir die Tabelle neu und legen unsere Beispielmitarbeiter ergänzt um Verweise auf die Abteilungen an."
   ]
  },
  {
   "cell_type": "code",
   "execution_count": null,
   "metadata": {},
   "outputs": [],
   "source": [
    "%%sql \n",
    "\n",
    "DROP TABLE IF EXISTS Mitarbeiter; \n",
    "\n",
    "CREATE TABLE Mitarbeiter (\n",
    "    mitarbeiter_nr int PRIMARY KEY,\n",
    "    abteilungs_nr int,                    -- hier haben wir die Id der Abteilung als Fremdschlüssel eingefügt\n",
    "    vorname varchar(50),\n",
    "    name varchar(50),\n",
    "    FOREIGN KEY (abteilungs_nr) REFERENCES Abteilungen(abteilungs_nr)\n",
    "    );  \n",
    "\n",
    "INSERT INTO Mitarbeiter VALUES (1, 2, \"Marco\", \"Lind\");  -- id \"1\", Abteilungsnr. \"2\", Vorname \"Marco\", Nachname \"Lind\"\n",
    "INSERT INTO Mitarbeiter VALUES (2, 2, \"Peter\", \"Lind\");\n",
    "INSERT INTO Mitarbeiter VALUES (3, 3, \"Sophia\", \"Lind\");"
   ]
  },
  {
   "cell_type": "markdown",
   "metadata": {},
   "source": [
    "### Wozu das Ganze?\n",
    "Wenn wir nun das Überprüfen der Fremdschlüssel (foreign keys) scharf schalten, kann die Datenbank die Datenkonsistenz sicherstellen:  \n",
    "- **Referenzielle Integrität**: Wir können keine Mitarbeiter mit ungültigen Abteilungs-Ids anlegen und keine Abteilungen löschen, denen noch Mitarbeiter zugeordnet sind.\n",
    "- **Vermeiden von Redundanz**: Müssten wir zu jedem Mitarbeiter den Abteilungsnamen ausschreiben, wäre das Umbenennen von Abteilungen aufwändig - jeder Mitarbeiterdatensatz müsste geändert werden. \n",
    "\n",
    "Auch vermeiden wir so inkonsistente Schreibweisen der Abteilungsnamens und andere Fehlerquellen.  \n",
    "Probieren wir es aus:"
   ]
  },
  {
   "cell_type": "code",
   "execution_count": null,
   "metadata": {},
   "outputs": [],
   "source": [
    "%%sql \n",
    "PRAGMA foreign_keys=1;                                          -- Überprüfung der Fremdschlüssel \"scharf\" schalten\n",
    "INSERT INTO Mitarbeiter VALUES (7, 25, \"Gerhard\", \"Lind\");      -- schlägt fehl: Abteilungs_nr 25 gibt es nicht"
   ]
  },
  {
   "cell_type": "markdown",
   "metadata": {},
   "source": [
    "## 3. Abfragen von Daten <a id=\"kapitel3\"/>"
   ]
  },
  {
   "cell_type": "markdown",
   "metadata": {},
   "source": [
    "### 3.1. Daten aus einzelnen Tabellen\n",
    "Nun ist es naheliegend, diese Daten wieder Abfragen zu wollen. Dies geschieht mit dem ```SELECT``` Befehl. Eine Smartphone-App würde mittels SELECT  beispielsweise beim Start die benötigten Daten zur Anzeige aus dem Handyspeicher laden."
   ]
  },
  {
   "cell_type": "code",
   "execution_count": null,
   "metadata": {},
   "outputs": [],
   "source": [
    "%%sql\n",
    "\n",
    "SELECT vorname, name FROM Mitarbeiter;"
   ]
  },
  {
   "cell_type": "markdown",
   "metadata": {},
   "source": [
    "Anstelle einer Auflistung der Datenfelder können mit ```*``` alle Felder abgefragt werden.  \n",
    "Mit dem Unterbefehl ```WHERE``` kannst du die Ergebnisdaten filtern, mit ```ORDER BY``` sortieren:"
   ]
  },
  {
   "cell_type": "code",
   "execution_count": null,
   "metadata": {},
   "outputs": [],
   "source": [
    "%%sql\n",
    "\n",
    "SELECT * FROM Mitarbeiter\n",
    "WHERE abteilungs_nr = 2           -- nur aus Abteilung\n",
    "ORDER BY vorname;                 -- alphabetisch nach Vorname sortieren"
   ]
  },
  {
   "cell_type": "markdown",
   "metadata": {},
   "source": [
    "---\n",
    "### <span style=\"color:#FF5D02;\">Aufgabe 2: Überprüfe die Tabelle \"Abteilungen\"</span>\n",
    "Überprüfe, ob deine Tabelle \"Abteilungen\" korrekt erzeugt wurde, indem du die Daten mittels ```SELECT``` abfragst\n"
   ]
  },
  {
   "cell_type": "code",
   "execution_count": null,
   "metadata": {},
   "outputs": [],
   "source": [
    "%%sql\n",
    "\n"
   ]
  },
  {
   "cell_type": "markdown",
   "metadata": {},
   "source": [
    "Du solltest nun eine Tabelle erzeugt haben, die so aussieht:\n",
    "abteilungs_nr | bezeichnung\n",
    "---|:---\n",
    "1 | Einkauf\n",
    "2 | Produktion\n",
    "3 | Vertrieb\n",
    "\n",
    "Überprüfe dein Ergebnis!\n",
    "\n",
    "---"
   ]
  },
  {
   "cell_type": "markdown",
   "metadata": {},
   "source": [
    "### 3.2. Abfrage aus verknüpften Tabellen\n",
    "Nun wollen wir aber die Abteilungsnamen nicht manuell nachschlagen, sondern beide Tabelle in einer Abfrage zusammenführen.\n"
   ]
  },
  {
   "cell_type": "code",
   "execution_count": null,
   "metadata": {},
   "outputs": [],
   "source": [
    "%%sql\n",
    "\n",
    "SELECT mitarbeiter_nr, vorname, name, bezeichnung AS Abteilung            -- wir benennen hier die Spalte \"bezeichnung\" in \"Abteilung\" um\n",
    "FROM Mitarbeiter, Abteilungen\n",
    "WHERE Mitarbeiter.abteilungs_nr = Abteilungen.abteilungs_nr;              -- Die Abteilungsnr. aus Tabelle Mitarbeiter und Abteilung muss übereinstimmen"
   ]
  },
  {
   "cell_type": "markdown",
   "metadata": {},
   "source": [
    "## 4. Daten von Datenbankservern abrufen <a id=\"kapitel4\"/>"
   ]
  },
  {
   "cell_type": "markdown",
   "metadata": {},
   "source": [
    "Nach diesen Trockenübungen mit einer temporären SQLite-Datenbank in einer Datei stellen wir nun die Verbindung zu einer vorbereiteten Datenbank her. Hierzu geben wir eine URL an, ähnlich den Website-Adressen in der Browserzeile. Der Aufbau ist im Allgemeinen wie folgend: \n",
    "> _Datenbanktyp_://_Username_:_Password_@_Servername_/_Datenbankname_ \n",
    "\n",
    "Für SQlite-Datenbanken im Dateisystem des Notebooks:\n",
    "\n",
    "> _sqlite:///**pfad/zur/datenbankdatei**_\n",
    "\n",
    "Wir stellen nun eine Verbindung zu einer SQLite-Datenbank in der Datei ```smi-data.db``` im Unterverzeichnis ```data``` her."
   ]
  },
  {
   "cell_type": "code",
   "execution_count": 14,
   "metadata": {},
   "outputs": [],
   "source": [
    "%sql sqlite:///data/smi-data.db"
   ]
  },
  {
   "cell_type": "markdown",
   "metadata": {},
   "source": [
    "SQLite hebt datenbankinterne Informationen in einer automatisch angelegten Tabelle ```sqlite_master```an.  \n",
    "Hier lässt sich beispielsweise abfragen, welche Tabellen es gibt."
   ]
  },
  {
   "cell_type": "code",
   "execution_count": 17,
   "metadata": {},
   "outputs": [
    {
     "name": "stdout",
     "output_type": "stream",
     "text": [
      " * sqlite:///data/smi-data.db\n",
      "Done.\n"
     ]
    },
    {
     "data": {
      "text/html": [
       "<table>\n",
       "    <tr>\n",
       "        <th>name</th>\n",
       "    </tr>\n",
       "    <tr>\n",
       "        <td>okcupid</td>\n",
       "    </tr>\n",
       "    <tr>\n",
       "        <td>credit_ger</td>\n",
       "    </tr>\n",
       "    <tr>\n",
       "        <td>housing_ger</td>\n",
       "    </tr>\n",
       "    <tr>\n",
       "        <td>rki_covid19</td>\n",
       "    </tr>\n",
       "    <tr>\n",
       "        <td>telco_churn</td>\n",
       "    </tr>\n",
       "</table>"
      ],
      "text/plain": [
       "[('okcupid',),\n",
       " ('credit_ger',),\n",
       " ('housing_ger',),\n",
       " ('rki_covid19',),\n",
       " ('telco_churn',)]"
      ]
     },
     "execution_count": 17,
     "metadata": {},
     "output_type": "execute_result"
    }
   ],
   "source": [
    "%sql SELECT name FROM sqlite_master WHERE type='table'"
   ]
  },
  {
   "cell_type": "markdown",
   "metadata": {},
   "source": [
    "### Arbeit mit dem OkCupid-Datensatz\n",
    "Nun können wir die bekannten Befehle nutzen, um Daten abzufragen und zu manipulieren.  \n",
    "In diesem Beispiel siehst du, wie ein Datensatz der Dating-Plattform OKCupid nach Profilen durchsucht wird, die bestimmten Suchkriterien entsprechen:"
   ]
  },
  {
   "cell_type": "code",
   "execution_count": 18,
   "metadata": {},
   "outputs": [
    {
     "name": "stdout",
     "output_type": "stream",
     "text": [
      " * sqlite:///data/smi-data.db\n",
      "Done.\n"
     ]
    },
    {
     "data": {
      "text/html": [
       "<table>\n",
       "    <tr>\n",
       "        <th>index</th>\n",
       "        <th>username</th>\n",
       "        <th>age</th>\n",
       "        <th>body_type</th>\n",
       "        <th>diet</th>\n",
       "        <th>drinks</th>\n",
       "        <th>drugs</th>\n",
       "        <th>education</th>\n",
       "        <th>ethnicity</th>\n",
       "        <th>height</th>\n",
       "        <th>income</th>\n",
       "        <th>job</th>\n",
       "        <th>last_online</th>\n",
       "        <th>location</th>\n",
       "        <th>offspring</th>\n",
       "        <th>orientation</th>\n",
       "        <th>pets</th>\n",
       "        <th>religion</th>\n",
       "        <th>sex</th>\n",
       "        <th>sign</th>\n",
       "        <th>smokes</th>\n",
       "        <th>speaks</th>\n",
       "        <th>status</th>\n",
       "    </tr>\n",
       "    <tr>\n",
       "        <td>168</td>\n",
       "        <td>user_0000035427</td>\n",
       "        <td>26</td>\n",
       "        <td>fit</td>\n",
       "        <td>mostly anything</td>\n",
       "        <td>socially</td>\n",
       "        <td>never</td>\n",
       "        <td>graduated from college/university</td>\n",
       "        <td>white</td>\n",
       "        <td>68.0</td>\n",
       "        <td>70000</td>\n",
       "        <td>science / tech / engineering</td>\n",
       "        <td>2012-06-18-21-51</td>\n",
       "        <td>san francisco, california</td>\n",
       "        <td>doesn&#x27;t have kids, but wants them</td>\n",
       "        <td>straight</td>\n",
       "        <td>likes dogs</td>\n",
       "        <td>agnosticism and laughing about it</td>\n",
       "        <td>f</td>\n",
       "        <td>sagittarius but it doesn&#x27;t matter</td>\n",
       "        <td>no</td>\n",
       "        <td>english</td>\n",
       "        <td>single</td>\n",
       "    </tr>\n",
       "    <tr>\n",
       "        <td>1282</td>\n",
       "        <td>user_0000036454</td>\n",
       "        <td>25</td>\n",
       "        <td>athletic</td>\n",
       "        <td>strictly anything</td>\n",
       "        <td>socially</td>\n",
       "        <td>never</td>\n",
       "        <td>working on college/university</td>\n",
       "        <td>white</td>\n",
       "        <td>68.0</td>\n",
       "        <td>1000000</td>\n",
       "        <td>artistic / musical / writer</td>\n",
       "        <td>2012-06-29-22-39</td>\n",
       "        <td>san francisco, california</td>\n",
       "        <td>doesn&#x27;t have kids, but wants them</td>\n",
       "        <td>straight</td>\n",
       "        <td>likes dogs</td>\n",
       "        <td>other and laughing about it</td>\n",
       "        <td>f</td>\n",
       "        <td>sagittarius and it&#x27;s fun to think about</td>\n",
       "        <td>no</td>\n",
       "        <td>english (fluently)</td>\n",
       "        <td>single</td>\n",
       "    </tr>\n",
       "    <tr>\n",
       "        <td>8183</td>\n",
       "        <td>user_0000042856</td>\n",
       "        <td>26</td>\n",
       "        <td>fit</td>\n",
       "        <td></td>\n",
       "        <td>socially</td>\n",
       "        <td>never</td>\n",
       "        <td>graduated from college/university</td>\n",
       "        <td>white</td>\n",
       "        <td>64.0</td>\n",
       "        <td>50000</td>\n",
       "        <td>executive / management</td>\n",
       "        <td>2012-06-26-23-12</td>\n",
       "        <td>san francisco, california</td>\n",
       "        <td></td>\n",
       "        <td>straight</td>\n",
       "        <td>likes dogs</td>\n",
       "        <td></td>\n",
       "        <td>f</td>\n",
       "        <td>leo</td>\n",
       "        <td>no</td>\n",
       "        <td>english</td>\n",
       "        <td>single</td>\n",
       "    </tr>\n",
       "    <tr>\n",
       "        <td>10182</td>\n",
       "        <td>user_0000044711</td>\n",
       "        <td>23</td>\n",
       "        <td>average</td>\n",
       "        <td>mostly vegetarian</td>\n",
       "        <td>socially</td>\n",
       "        <td>never</td>\n",
       "        <td>graduated from college/university</td>\n",
       "        <td>asian, pacific islander</td>\n",
       "        <td>59.0</td>\n",
       "        <td>60000</td>\n",
       "        <td>science / tech / engineering</td>\n",
       "        <td>2012-06-29-08-53</td>\n",
       "        <td>san francisco, california</td>\n",
       "        <td>doesn&#x27;t want kids</td>\n",
       "        <td>straight</td>\n",
       "        <td>likes dogs</td>\n",
       "        <td>atheism</td>\n",
       "        <td>f</td>\n",
       "        <td></td>\n",
       "        <td>no</td>\n",
       "        <td>english, sign language (poorly)</td>\n",
       "        <td>single</td>\n",
       "    </tr>\n",
       "    <tr>\n",
       "        <td>11364</td>\n",
       "        <td>user_0000045796</td>\n",
       "        <td>29</td>\n",
       "        <td>average</td>\n",
       "        <td>mostly anything</td>\n",
       "        <td>socially</td>\n",
       "        <td>never</td>\n",
       "        <td>graduated from masters program</td>\n",
       "        <td>asian, pacific islander, other</td>\n",
       "        <td>62.0</td>\n",
       "        <td>50000</td>\n",
       "        <td>other</td>\n",
       "        <td>2012-06-15-20-54</td>\n",
       "        <td>vallejo, california</td>\n",
       "        <td>doesn&#x27;t have kids, but wants them</td>\n",
       "        <td>straight</td>\n",
       "        <td>likes dogs</td>\n",
       "        <td>catholicism but not too serious about it</td>\n",
       "        <td>f</td>\n",
       "        <td>virgo and it&#x27;s fun to think about</td>\n",
       "        <td>yes</td>\n",
       "        <td>english (fluently)</td>\n",
       "        <td>single</td>\n",
       "    </tr>\n",
       "    <tr>\n",
       "        <td>21482</td>\n",
       "        <td>user_0000055111</td>\n",
       "        <td>24</td>\n",
       "        <td>thin</td>\n",
       "        <td></td>\n",
       "        <td>socially</td>\n",
       "        <td>never</td>\n",
       "        <td>graduated from college/university</td>\n",
       "        <td>asian</td>\n",
       "        <td>62.0</td>\n",
       "        <td>70000</td>\n",
       "        <td>law / legal services</td>\n",
       "        <td>2012-06-27-07-53</td>\n",
       "        <td>san francisco, california</td>\n",
       "        <td></td>\n",
       "        <td>straight</td>\n",
       "        <td>likes dogs</td>\n",
       "        <td>catholicism but not too serious about it</td>\n",
       "        <td>f</td>\n",
       "        <td></td>\n",
       "        <td>no</td>\n",
       "        <td>english</td>\n",
       "        <td>single</td>\n",
       "    </tr>\n",
       "    <tr>\n",
       "        <td>21577</td>\n",
       "        <td>user_0000055201</td>\n",
       "        <td>28</td>\n",
       "        <td>average</td>\n",
       "        <td></td>\n",
       "        <td>socially</td>\n",
       "        <td>never</td>\n",
       "        <td>working on masters program</td>\n",
       "        <td>white</td>\n",
       "        <td>68.0</td>\n",
       "        <td>70000</td>\n",
       "        <td>artistic / musical / writer</td>\n",
       "        <td>2012-06-29-02-31</td>\n",
       "        <td>san francisco, california</td>\n",
       "        <td></td>\n",
       "        <td>straight</td>\n",
       "        <td>likes dogs</td>\n",
       "        <td>other and somewhat serious about it</td>\n",
       "        <td>f</td>\n",
       "        <td>scorpio</td>\n",
       "        <td>no</td>\n",
       "        <td>english (fluently), spanish (okay)</td>\n",
       "        <td>single</td>\n",
       "    </tr>\n",
       "    <tr>\n",
       "        <td>21691</td>\n",
       "        <td>user_0000006732</td>\n",
       "        <td>28</td>\n",
       "        <td>average</td>\n",
       "        <td></td>\n",
       "        <td>socially</td>\n",
       "        <td>never</td>\n",
       "        <td>graduated from college/university</td>\n",
       "        <td>white</td>\n",
       "        <td>66.0</td>\n",
       "        <td>60000</td>\n",
       "        <td>sales / marketing / biz dev</td>\n",
       "        <td>2012-06-29-13-31</td>\n",
       "        <td>san francisco, california</td>\n",
       "        <td></td>\n",
       "        <td>straight</td>\n",
       "        <td>likes dogs</td>\n",
       "        <td></td>\n",
       "        <td>f</td>\n",
       "        <td>aries and it&#x27;s fun to think about</td>\n",
       "        <td>no</td>\n",
       "        <td>english</td>\n",
       "        <td>single</td>\n",
       "    </tr>\n",
       "    <tr>\n",
       "        <td>23141</td>\n",
       "        <td>user_0000056653</td>\n",
       "        <td>26</td>\n",
       "        <td>curvy</td>\n",
       "        <td>mostly vegetarian</td>\n",
       "        <td>socially</td>\n",
       "        <td>never</td>\n",
       "        <td>graduated from college/university</td>\n",
       "        <td>white</td>\n",
       "        <td>67.0</td>\n",
       "        <td>60000</td>\n",
       "        <td>transportation</td>\n",
       "        <td>2012-06-28-07-05</td>\n",
       "        <td>san francisco, california</td>\n",
       "        <td>doesn&#x27;t have kids, but might want them</td>\n",
       "        <td>straight</td>\n",
       "        <td>likes dogs</td>\n",
       "        <td>atheism and very serious about it</td>\n",
       "        <td>f</td>\n",
       "        <td>virgo but it doesn&#x27;t matter</td>\n",
       "        <td>no</td>\n",
       "        <td>english (fluently), french (poorly), italian (poorly), indonesian (poorly)</td>\n",
       "        <td>single</td>\n",
       "    </tr>\n",
       "    <tr>\n",
       "        <td>26342</td>\n",
       "        <td>user_0000059604</td>\n",
       "        <td>26</td>\n",
       "        <td>athletic</td>\n",
       "        <td></td>\n",
       "        <td>socially</td>\n",
       "        <td>never</td>\n",
       "        <td>graduated from masters program</td>\n",
       "        <td>white</td>\n",
       "        <td>70.0</td>\n",
       "        <td>60000</td>\n",
       "        <td>banking / financial / real estate</td>\n",
       "        <td>2012-06-26-18-58</td>\n",
       "        <td>san francisco, california</td>\n",
       "        <td></td>\n",
       "        <td>straight</td>\n",
       "        <td>likes dogs</td>\n",
       "        <td>atheism</td>\n",
       "        <td>f</td>\n",
       "        <td>libra but it doesn&#x27;t matter</td>\n",
       "        <td>no</td>\n",
       "        <td>english, spanish (poorly)</td>\n",
       "        <td>single</td>\n",
       "    </tr>\n",
       "    <tr>\n",
       "        <td>26994</td>\n",
       "        <td>user_0000060226</td>\n",
       "        <td>28</td>\n",
       "        <td>fit</td>\n",
       "        <td>mostly anything</td>\n",
       "        <td>socially</td>\n",
       "        <td>never</td>\n",
       "        <td>graduated from masters program</td>\n",
       "        <td>white</td>\n",
       "        <td>63.0</td>\n",
       "        <td>1000000</td>\n",
       "        <td>artistic / musical / writer</td>\n",
       "        <td>2012-06-30-07-09</td>\n",
       "        <td>san francisco, california</td>\n",
       "        <td>doesn&#x27;t have kids</td>\n",
       "        <td>straight</td>\n",
       "        <td>likes dogs</td>\n",
       "        <td>other</td>\n",
       "        <td>f</td>\n",
       "        <td>aries</td>\n",
       "        <td>no</td>\n",
       "        <td>english, english, french</td>\n",
       "        <td>single</td>\n",
       "    </tr>\n",
       "    <tr>\n",
       "        <td>27094</td>\n",
       "        <td>user_0000060319</td>\n",
       "        <td>26</td>\n",
       "        <td>thin</td>\n",
       "        <td>strictly anything</td>\n",
       "        <td>socially</td>\n",
       "        <td>never</td>\n",
       "        <td>working on masters program</td>\n",
       "        <td>white</td>\n",
       "        <td>70.0</td>\n",
       "        <td>100000</td>\n",
       "        <td>banking / financial / real estate</td>\n",
       "        <td>2012-06-29-19-39</td>\n",
       "        <td>oakland, california</td>\n",
       "        <td>doesn&#x27;t have kids</td>\n",
       "        <td>straight</td>\n",
       "        <td>likes dogs</td>\n",
       "        <td></td>\n",
       "        <td>f</td>\n",
       "        <td></td>\n",
       "        <td>when drinking</td>\n",
       "        <td>english</td>\n",
       "        <td>single</td>\n",
       "    </tr>\n",
       "    <tr>\n",
       "        <td>29546</td>\n",
       "        <td>user_0000062593</td>\n",
       "        <td>29</td>\n",
       "        <td></td>\n",
       "        <td></td>\n",
       "        <td>socially</td>\n",
       "        <td>never</td>\n",
       "        <td>graduated from college/university</td>\n",
       "        <td>asian</td>\n",
       "        <td>63.0</td>\n",
       "        <td>60000</td>\n",
       "        <td>executive / management</td>\n",
       "        <td>2012-06-10-22-55</td>\n",
       "        <td>oakland, california</td>\n",
       "        <td></td>\n",
       "        <td>straight</td>\n",
       "        <td>likes dogs</td>\n",
       "        <td>christianity and very serious about it</td>\n",
       "        <td>f</td>\n",
       "        <td>sagittarius but it doesn&#x27;t matter</td>\n",
       "        <td>no</td>\n",
       "        <td>english (fluently)</td>\n",
       "        <td>single</td>\n",
       "    </tr>\n",
       "    <tr>\n",
       "        <td>31506</td>\n",
       "        <td>user_0000064405</td>\n",
       "        <td>29</td>\n",
       "        <td>thin</td>\n",
       "        <td>anything</td>\n",
       "        <td>desperately</td>\n",
       "        <td>never</td>\n",
       "        <td>graduated from space camp</td>\n",
       "        <td>asian</td>\n",
       "        <td>63.0</td>\n",
       "        <td>50000</td>\n",
       "        <td>medicine / health</td>\n",
       "        <td>2012-06-30-12-06</td>\n",
       "        <td>oakland, california</td>\n",
       "        <td>doesn&#x27;t have kids</td>\n",
       "        <td>straight</td>\n",
       "        <td>likes dogs</td>\n",
       "        <td>agnosticism</td>\n",
       "        <td>f</td>\n",
       "        <td></td>\n",
       "        <td>no</td>\n",
       "        <td>english (fluently), spanish (okay), korean (poorly)</td>\n",
       "        <td>single</td>\n",
       "    </tr>\n",
       "    <tr>\n",
       "        <td>35865</td>\n",
       "        <td>user_0000068431</td>\n",
       "        <td>27</td>\n",
       "        <td>overweight</td>\n",
       "        <td></td>\n",
       "        <td>socially</td>\n",
       "        <td>never</td>\n",
       "        <td>graduated from masters program</td>\n",
       "        <td>white</td>\n",
       "        <td>66.0</td>\n",
       "        <td>50000</td>\n",
       "        <td>entertainment / media</td>\n",
       "        <td>2012-05-14-22-33</td>\n",
       "        <td>san francisco, california</td>\n",
       "        <td></td>\n",
       "        <td>straight</td>\n",
       "        <td>likes dogs</td>\n",
       "        <td>catholicism and laughing about it</td>\n",
       "        <td>f</td>\n",
       "        <td>aries but it doesn&#x27;t matter</td>\n",
       "        <td>no</td>\n",
       "        <td>english</td>\n",
       "        <td>single</td>\n",
       "    </tr>\n",
       "    <tr>\n",
       "        <td>42291</td>\n",
       "        <td>user_0000074385</td>\n",
       "        <td>29</td>\n",
       "        <td>curvy</td>\n",
       "        <td></td>\n",
       "        <td>socially</td>\n",
       "        <td>never</td>\n",
       "        <td>graduated from college/university</td>\n",
       "        <td>white</td>\n",
       "        <td>67.0</td>\n",
       "        <td>50000</td>\n",
       "        <td>sales / marketing / biz dev</td>\n",
       "        <td>2011-11-09-19-45</td>\n",
       "        <td>san francisco, california</td>\n",
       "        <td></td>\n",
       "        <td>straight</td>\n",
       "        <td>likes dogs</td>\n",
       "        <td>agnosticism</td>\n",
       "        <td>f</td>\n",
       "        <td></td>\n",
       "        <td>no</td>\n",
       "        <td>english</td>\n",
       "        <td>single</td>\n",
       "    </tr>\n",
       "    <tr>\n",
       "        <td>43038</td>\n",
       "        <td>user_0000075074</td>\n",
       "        <td>25</td>\n",
       "        <td>thin</td>\n",
       "        <td>mostly anything</td>\n",
       "        <td>socially</td>\n",
       "        <td>never</td>\n",
       "        <td>graduated from college/university</td>\n",
       "        <td>white</td>\n",
       "        <td>64.0</td>\n",
       "        <td>80000</td>\n",
       "        <td>banking / financial / real estate</td>\n",
       "        <td>2012-02-25-08-45</td>\n",
       "        <td>san francisco, california</td>\n",
       "        <td>doesn&#x27;t have kids</td>\n",
       "        <td>straight</td>\n",
       "        <td>likes dogs</td>\n",
       "        <td>catholicism but not too serious about it</td>\n",
       "        <td>f</td>\n",
       "        <td>virgo but it doesn&#x27;t matter</td>\n",
       "        <td>no</td>\n",
       "        <td>english</td>\n",
       "        <td>single</td>\n",
       "    </tr>\n",
       "    <tr>\n",
       "        <td>46116</td>\n",
       "        <td>user_0000077892</td>\n",
       "        <td>27</td>\n",
       "        <td>average</td>\n",
       "        <td>mostly anything</td>\n",
       "        <td>socially</td>\n",
       "        <td>never</td>\n",
       "        <td>graduated from masters program</td>\n",
       "        <td>other</td>\n",
       "        <td>63.0</td>\n",
       "        <td>70000</td>\n",
       "        <td>artistic / musical / writer</td>\n",
       "        <td>2012-06-30-15-28</td>\n",
       "        <td>san francisco, california</td>\n",
       "        <td>doesn&#x27;t have kids, but might want them</td>\n",
       "        <td>straight</td>\n",
       "        <td>likes dogs</td>\n",
       "        <td>agnosticism and somewhat serious about it</td>\n",
       "        <td>f</td>\n",
       "        <td></td>\n",
       "        <td>no</td>\n",
       "        <td>english, spanish (fluently), french (okay)</td>\n",
       "        <td>single</td>\n",
       "    </tr>\n",
       "    <tr>\n",
       "        <td>56964</td>\n",
       "        <td>user_0000087912</td>\n",
       "        <td>27</td>\n",
       "        <td>skinny</td>\n",
       "        <td>strictly anything</td>\n",
       "        <td>socially</td>\n",
       "        <td>never</td>\n",
       "        <td>graduated from masters program</td>\n",
       "        <td>asian</td>\n",
       "        <td>62.0</td>\n",
       "        <td>150000</td>\n",
       "        <td>science / tech / engineering</td>\n",
       "        <td>2012-06-30-13-34</td>\n",
       "        <td>san francisco, california</td>\n",
       "        <td></td>\n",
       "        <td>straight</td>\n",
       "        <td>likes dogs</td>\n",
       "        <td></td>\n",
       "        <td>f</td>\n",
       "        <td></td>\n",
       "        <td>no</td>\n",
       "        <td>english (fluently), c++ (fluently), lisp (okay)</td>\n",
       "        <td>seeing someone</td>\n",
       "    </tr>\n",
       "    <tr>\n",
       "        <td>59357</td>\n",
       "        <td>user_0000090122</td>\n",
       "        <td>26</td>\n",
       "        <td>fit</td>\n",
       "        <td>anything</td>\n",
       "        <td>socially</td>\n",
       "        <td>never</td>\n",
       "        <td>graduated from masters program</td>\n",
       "        <td>asian, white</td>\n",
       "        <td>65.0</td>\n",
       "        <td>60000</td>\n",
       "        <td>medicine / health</td>\n",
       "        <td>2012-01-21-13-02</td>\n",
       "        <td>oakland, california</td>\n",
       "        <td></td>\n",
       "        <td>straight</td>\n",
       "        <td>likes dogs</td>\n",
       "        <td>catholicism</td>\n",
       "        <td>f</td>\n",
       "        <td>virgo</td>\n",
       "        <td></td>\n",
       "        <td>english</td>\n",
       "        <td>seeing someone</td>\n",
       "    </tr>\n",
       "</table>"
      ],
      "text/plain": [
       "[(168, 'user_0000035427', 26, 'fit', 'mostly anything', 'socially', 'never', 'graduated from college/university', 'white', '68.0', 70000, 'science / tech / engineering', '2012-06-18-21-51', 'san francisco, california', \"doesn't have kids, but wants them\", 'straight', 'likes dogs', 'agnosticism and laughing about it', 'f', \"sagittarius but it doesn't matter\", 'no', 'english', 'single'),\n",
       " (1282, 'user_0000036454', 25, 'athletic', 'strictly anything', 'socially', 'never', 'working on college/university', 'white', '68.0', 1000000, 'artistic / musical / writer', '2012-06-29-22-39', 'san francisco, california', \"doesn't have kids, but wants them\", 'straight', 'likes dogs', 'other and laughing about it', 'f', \"sagittarius and it's fun to think about\", 'no', 'english (fluently)', 'single'),\n",
       " (8183, 'user_0000042856', 26, 'fit', '', 'socially', 'never', 'graduated from college/university', 'white', '64.0', 50000, 'executive / management', '2012-06-26-23-12', 'san francisco, california', '', 'straight', 'likes dogs', '', 'f', 'leo', 'no', 'english', 'single'),\n",
       " (10182, 'user_0000044711', 23, 'average', 'mostly vegetarian', 'socially', 'never', 'graduated from college/university', 'asian, pacific islander', '59.0', 60000, 'science / tech / engineering', '2012-06-29-08-53', 'san francisco, california', \"doesn't want kids\", 'straight', 'likes dogs', 'atheism', 'f', '', 'no', 'english, sign language (poorly)', 'single'),\n",
       " (11364, 'user_0000045796', 29, 'average', 'mostly anything', 'socially', 'never', 'graduated from masters program', 'asian, pacific islander, other', '62.0', 50000, 'other', '2012-06-15-20-54', 'vallejo, california', \"doesn't have kids, but wants them\", 'straight', 'likes dogs', 'catholicism but not too serious about it', 'f', \"virgo and it's fun to think about\", 'yes', 'english (fluently)', 'single'),\n",
       " (21482, 'user_0000055111', 24, 'thin', '', 'socially', 'never', 'graduated from college/university', 'asian', '62.0', 70000, 'law / legal services', '2012-06-27-07-53', 'san francisco, california', '', 'straight', 'likes dogs', 'catholicism but not too serious about it', 'f', '', 'no', 'english', 'single'),\n",
       " (21577, 'user_0000055201', 28, 'average', '', 'socially', 'never', 'working on masters program', 'white', '68.0', 70000, 'artistic / musical / writer', '2012-06-29-02-31', 'san francisco, california', '', 'straight', 'likes dogs', 'other and somewhat serious about it', 'f', 'scorpio', 'no', 'english (fluently), spanish (okay)', 'single'),\n",
       " (21691, 'user_0000006732', 28, 'average', '', 'socially', 'never', 'graduated from college/university', 'white', '66.0', 60000, 'sales / marketing / biz dev', '2012-06-29-13-31', 'san francisco, california', '', 'straight', 'likes dogs', '', 'f', \"aries and it's fun to think about\", 'no', 'english', 'single'),\n",
       " (23141, 'user_0000056653', 26, 'curvy', 'mostly vegetarian', 'socially', 'never', 'graduated from college/university', 'white', '67.0', 60000, 'transportation', '2012-06-28-07-05', 'san francisco, california', \"doesn't have kids, but might want them\", 'straight', 'likes dogs', 'atheism and very serious about it', 'f', \"virgo but it doesn't matter\", 'no', 'english (fluently), french (poorly), italian (poorly), indonesian (poorly)', 'single'),\n",
       " (26342, 'user_0000059604', 26, 'athletic', '', 'socially', 'never', 'graduated from masters program', 'white', '70.0', 60000, 'banking / financial / real estate', '2012-06-26-18-58', 'san francisco, california', '', 'straight', 'likes dogs', 'atheism', 'f', \"libra but it doesn't matter\", 'no', 'english, spanish (poorly)', 'single'),\n",
       " (26994, 'user_0000060226', 28, 'fit', 'mostly anything', 'socially', 'never', 'graduated from masters program', 'white', '63.0', 1000000, 'artistic / musical / writer', '2012-06-30-07-09', 'san francisco, california', \"doesn't have kids\", 'straight', 'likes dogs', 'other', 'f', 'aries', 'no', 'english, english, french', 'single'),\n",
       " (27094, 'user_0000060319', 26, 'thin', 'strictly anything', 'socially', 'never', 'working on masters program', 'white', '70.0', 100000, 'banking / financial / real estate', '2012-06-29-19-39', 'oakland, california', \"doesn't have kids\", 'straight', 'likes dogs', '', 'f', '', 'when drinking', 'english', 'single'),\n",
       " (29546, 'user_0000062593', 29, '', '', 'socially', 'never', 'graduated from college/university', 'asian', '63.0', 60000, 'executive / management', '2012-06-10-22-55', 'oakland, california', '', 'straight', 'likes dogs', 'christianity and very serious about it', 'f', \"sagittarius but it doesn't matter\", 'no', 'english (fluently)', 'single'),\n",
       " (31506, 'user_0000064405', 29, 'thin', 'anything', 'desperately', 'never', 'graduated from space camp', 'asian', '63.0', 50000, 'medicine / health', '2012-06-30-12-06', 'oakland, california', \"doesn't have kids\", 'straight', 'likes dogs', 'agnosticism', 'f', '', 'no', 'english (fluently), spanish (okay), korean (poorly)', 'single'),\n",
       " (35865, 'user_0000068431', 27, 'overweight', '', 'socially', 'never', 'graduated from masters program', 'white', '66.0', 50000, 'entertainment / media', '2012-05-14-22-33', 'san francisco, california', '', 'straight', 'likes dogs', 'catholicism and laughing about it', 'f', \"aries but it doesn't matter\", 'no', 'english', 'single'),\n",
       " (42291, 'user_0000074385', 29, 'curvy', '', 'socially', 'never', 'graduated from college/university', 'white', '67.0', 50000, 'sales / marketing / biz dev', '2011-11-09-19-45', 'san francisco, california', '', 'straight', 'likes dogs', 'agnosticism', 'f', '', 'no', 'english', 'single'),\n",
       " (43038, 'user_0000075074', 25, 'thin', 'mostly anything', 'socially', 'never', 'graduated from college/university', 'white', '64.0', 80000, 'banking / financial / real estate', '2012-02-25-08-45', 'san francisco, california', \"doesn't have kids\", 'straight', 'likes dogs', 'catholicism but not too serious about it', 'f', \"virgo but it doesn't matter\", 'no', 'english', 'single'),\n",
       " (46116, 'user_0000077892', 27, 'average', 'mostly anything', 'socially', 'never', 'graduated from masters program', 'other', '63.0', 70000, 'artistic / musical / writer', '2012-06-30-15-28', 'san francisco, california', \"doesn't have kids, but might want them\", 'straight', 'likes dogs', 'agnosticism and somewhat serious about it', 'f', '', 'no', 'english, spanish (fluently), french (okay)', 'single'),\n",
       " (56964, 'user_0000087912', 27, 'skinny', 'strictly anything', 'socially', 'never', 'graduated from masters program', 'asian', '62.0', 150000, 'science / tech / engineering', '2012-06-30-13-34', 'san francisco, california', '', 'straight', 'likes dogs', '', 'f', '', 'no', 'english (fluently), c++ (fluently), lisp (okay)', 'seeing someone'),\n",
       " (59357, 'user_0000090122', 26, 'fit', 'anything', 'socially', 'never', 'graduated from masters program', 'asian, white', '65.0', 60000, 'medicine / health', '2012-01-21-13-02', 'oakland, california', '', 'straight', 'likes dogs', 'catholicism', 'f', 'virgo', '', 'english', 'seeing someone')]"
      ]
     },
     "execution_count": 18,
     "metadata": {},
     "output_type": "execute_result"
    }
   ],
   "source": [
    "%%sql \n",
    "\n",
    "SELECT *\n",
    "FROM okcupid\n",
    "WHERE (drugs=\"never\") AND (income > 40000) AND (age > 20) AND (age < 30)\n",
    "  AND (sex=\"f\") AND (orientation=\"straight\") AND (pets=\"likes dogs\")\n",
    "LIMIT 20;"
   ]
  },
  {
   "cell_type": "markdown",
   "metadata": {},
   "source": [
    "---\n",
    "### <span style=\"color:#FF5D02;\">Aufgabe 4: Datenabruf mit SQL</span>\n",
    "Verändere die Abfrage, sodass sie einen anderen Ausschnitt der Daten abbildet.  \n",
    "WICHTIG: Behalte den ```LIMIT 20``` Befehl am Ende bei, sonst könnte dein Notebook abstürzen wenn zehntausende Datensätze anzuzeigen wären."
   ]
  },
  {
   "cell_type": "code",
   "execution_count": null,
   "metadata": {},
   "outputs": [],
   "source": []
  },
  {
   "cell_type": "markdown",
   "metadata": {},
   "source": [
    "## 5. Verbindung zu APIs herstellen<a id=\"kapitel5\"/>"
   ]
  },
  {
   "cell_type": "markdown",
   "metadata": {},
   "source": [
    "Für eine REST-API benötigen wir kein SQL - hier werden ggf. Filter in der URL (den \"Link\") mit angegeben. Wie das jeweils funktioniert, ist der Dokumentation der jeweiligen API zu entnehmen.\n",
    "\n",
    "Starten wir mit einem einfachen Beispiel: \n",
    ">[api.open-notify.org/astros.json](http://api.open-notify.org/astros.json) bietet eine Liste aller derzeit im Weltall lebenden Menschen.   \n",
    ">Klicke zuerst im Browser auf den Link und sieh dir die Daten an. Dieses Format nennt sich JSON (JavaScript Object Notation, mehr dazu [hier](https://www.w3schools.com/js/js_json_syntax.asp)).  \n",
    ">Führe im Anschluss den nachfolgenden Code aus, um die Daten mit Python einzulesen."
   ]
  },
  {
   "cell_type": "code",
   "execution_count": null,
   "metadata": {},
   "outputs": [],
   "source": [
    "import pandas as pd  # Python Paket, das wir auch im weiteren für Datenmanagement verwenden\n",
    "import requests      # Python Paket, das HTTP-Anfragen (engl. requests) stellen kann\n",
    "\n",
    "link = \"http://api.open-notify.org/astros.json\"\n",
    "\n",
    "# API abfragen\n",
    "response = requests.get(link)\n",
    "status = response.status_code\n",
    "\n",
    "if (status == 200):  # HTTP Statuscode 200 bedeutet \"Übertragung erfolgreich\"\n",
    "    print(\"Abruf erfolgreich!\")\n",
    "else:\n",
    "    print(\"Fehler beim Abruf!\")"
   ]
  },
  {
   "cell_type": "code",
   "execution_count": null,
   "metadata": {},
   "outputs": [],
   "source": [
    "# Sehen wir uns nun die empfangenen Rohdaten an...\n",
    "# Welche Struktur erkennst du hier wieder? Wo sind Listen? Wo Dictionaries?\n",
    "response.json()"
   ]
  },
  {
   "cell_type": "code",
   "execution_count": null,
   "metadata": {},
   "outputs": [],
   "source": [
    "# Nun übernehmen wir die Struktur im Feld \"people\" (record_path) und erhalten eine Datentabelle\n",
    "pd.json_normalize(response.json(), record_path=\"people\")"
   ]
  },
  {
   "cell_type": "markdown",
   "metadata": {},
   "source": [
    "## 6. Übungen Datenbank- und API-Abfragen <a id=\"kapitel6\"/>"
   ]
  },
  {
   "cell_type": "markdown",
   "metadata": {},
   "source": [
    "### <span style=\"color:#FF5D02;\">Aufgabe 6.1: Datenabruf mit SQL</span>\n",
    "\n",
    "Die Tabelle ```housing_ger``` in der Datenbank ```smi``` auf dem oben verwendeten Datenbankserver enthält ~190MB Daten von zu vermietenden Wohnungen in Deutschland (Stand April 2020). \n",
    "\n",
    "Stelle eine Verbindung zum Datenbankserver her und verwende ```SELECT``` Abfragen, um zu ermitteln, \n",
    "- was Neubauwohnungen (obj_newlyConst) in Berlin (obj_regio1) mit 50-55qm (obj_livingSpace) in etwa kosten (obj_totalRent) und\n",
    "- wieviele Wohnungen aus dem 19. Jahrhundert (obj_yearConstructed) im Landkreis München (geo_krs) angeboten werden.\n",
    "- Wieviele davon haben Zentralheizung (obj_heatingType)?"
   ]
  },
  {
   "cell_type": "code",
   "execution_count": null,
   "metadata": {},
   "outputs": [],
   "source": []
  },
  {
   "cell_type": "markdown",
   "metadata": {},
   "source": [
    "### <span style=\"color:#FF5D02;\">Aufgabe 6.2: Datenabruf von APIs</span>\n",
    "##### 6.2.1. Die API https://anapioficeandfire.com/api gibt unter dem Endpunkt ```/books``` eine Liste aller Game of Thrones Bücher zurück, unter dem Endpunkt ```/characters/<characterId>``` das Profil eines Charakters. Rufe die Buchliste ab sowie das Profil des Charakters mit der Id 583. Wer ist es?\n",
    "##### 6.2.2. Die API https://corona-api.com gibt unter dem Endpunkt ```/timeline``` die Entwicklung der globalen COVID19-Fälle zurück. Wann wurden die Daten zuletzt aktualisiert?\n"
   ]
  },
  {
   "cell_type": "code",
   "execution_count": null,
   "metadata": {
    "scrolled": true
   },
   "outputs": [],
   "source": []
  }
 ],
 "metadata": {
  "kernelspec": {
   "display_name": "Python 3",
   "language": "python",
   "name": "python3"
  },
  "language_info": {
   "codemirror_mode": {
    "name": "ipython",
    "version": 3
   },
   "file_extension": ".py",
   "mimetype": "text/x-python",
   "name": "python",
   "nbconvert_exporter": "python",
   "pygments_lexer": "ipython3",
   "version": "3.7.4"
  }
 },
 "nbformat": 4,
 "nbformat_minor": 4
}

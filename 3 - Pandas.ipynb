{
 "cells": [
  {
   "cell_type": "markdown",
   "metadata": {},
   "source": [
    "<div>\n",
    "    <img style=\"float:right;\" src=\"images/smi-logo.png\"/>\n",
    "    <div style=\"float:left;color:#58288C;\"><h1>Introduction to Python for Data Science</h1></div>\n",
    "</div>"
   ]
  },
  {
   "cell_type": "markdown",
   "metadata": {},
   "source": [
    "---\n",
    "# Notebook 3: Pandas\n",
    "This notebook introduces the `pandas` package as a convenient toolset to work with tabular data.\n",
    "\n",
    "## Contents\n",
    "\n",
    "[1. Importing data from APIs](#chapter1)  \n",
    "[2. Introduction to DataFrames](#chapter2)  \n",
    "[3. Simple data visualization](#chapter3)  \n",
    "---"
   ]
  },
  {
   "cell_type": "markdown",
   "metadata": {},
   "source": [
    "# 1. Importing data from APIs <a id=\"chapter1\"/>\n",
    "\n",
    "We'll start this session by using [REST-APIs](https://en.wikipedia.org/wiki/Representational_state_transfer) to retrieve some data. In short, when using a REST API, we use the same methods as a browser does, when retrieving a webpage. But instead of an HTML description of a webpage, we retrieve the data.\n",
    "\n",
    "For practising , [this](https://github.com/public-apis/public-apis) is a list of publicly available APIs. In this notebook we are going to use `covidtracking.com` that provides historical COVID infection data in a compact data format.\n",
    "\n",
    "To get a first impression, point your browser to https://api.covidtracking.com/v1/us/current.json. The displayed data is a mixed data structure, some sections correspond to Python lists, others to dictionaries.\n",
    "\n",
    "It offers another endpoint /v2/us/daily.json that also provides historic data. Let's retrieve this data, step by step..."
   ]
  },
  {
   "cell_type": "code",
   "execution_count": null,
   "metadata": {},
   "outputs": [],
   "source": [
    "import requests    # package to send http queries to the API\n",
    "\n",
    "link = \"https://api.covidtracking.com/v2/us/daily.json\"   # URL to query, you can try http://corona-api.com/countries/DE instead or replace DE with another country code\n",
    "\n",
    "res = requests.get(link)   # send a get request to that url, store the response in variable \"res\"\n",
    "raw_data = res.json()      # this now contains the data, uncomment this line and execute the cell to check"
   ]
  },
  {
   "cell_type": "markdown",
   "metadata": {},
   "source": [
    "---\n",
    "## <span style=\"color:#FF5D02;\">Assignment: Analyze data structure </span>\n",
    "\n",
    "The retrieved raw data should look like this:\n",
    "\n",
    "```\n",
    "{'links': {'self': 'https://api.covidtracking.com/us/daily'},\n",
    " 'meta': {'build_time': '2021-06-01T07:03:25.055Z',\n",
    "  'license': 'CC-BY-4.0',\n",
    "  'version': '2.0-beta',\n",
    "  'field_definitions': [{'name': 'Total test results',\n",
    "    'field': 'tests.pcr.total',\n",
    "    'deprecated': False,\n",
    "    'prior_names': ['totalTestResults']},\n",
    "    \n",
    "    ...\n",
    "    \n",
    "    'data': [{'date': '2021-03-07',\n",
    "   'states': 56,\n",
    "   'cases': {'total': {'value': 28756489,\n",
    "     'calculated': {'population_percent': 8.6932,\n",
    "      'change_from_prior_day': 41835,\n",
    "      'seven_day_change_percent': 1.4}}},\n",
    "   'testing': {'total': {'value': 363825123,\n",
    "     'calculated': {'population_percent': 109.9858,\n",
    "      'change_from_prior_day': 1170059,\n",
    "      'seven_day_change_percent': 2.8}}},\n",
    "   'outcomes': {'hospitalized': {'currently': {'value': 40199,\n",
    "      'calculated': {'population_percent': 0.0122,\n",
    "       'change_from_prior_day': -1202,\n",
    "       'seven_day_change_percent': -15.1,\n",
    "       'seven_day_average': 43843}},\n",
    "     'in_icu': {'currently': {'value': 8134,\n",
    "       'calculated': {'population_percent': 0.0025,\n",
    "        'change_from_prior_day': -275,\n",
    "        'seven_day_change_percent': -17,\n",
    "        'seven_day_average': 8938}}},\n",
    "     'on_ventilator': {'currently': {'value': 2802,\n",
    "       'calculated': {'population_percent': 0.0008,\n",
    "        'change_from_prior_day': -9,\n",
    "        'seven_day_change_percent': -13.7,\n",
    "        'seven_day_average': 2987}}}},\n",
    "    'death': {'total': {'value': 515151,\n",
    "      'calculated': {'population_percent': 0.1557,\n",
    "       'change_from_prior_day': 842,\n",
    "       'seven_day_change_percent': 2.4,\n",
    "       'seven_day_average': 510267}}}}},\n",
    "  {'date': '2021-03-06',\n",
    "   'states': 56,\n",
    "   'cases': {'total': {'value': 28714654,\n",
    "     'calculated': {'population_percent': 8.6806,\n",
    "      'change_from_prior_day': 60015,\n",
    "      'seven_day_change_percent': 1.5}}},\n",
    "   'testing': {'total': {'value': 362655064,\n",
    "     'calculated': {'population_percent': 109.6321,\n",
    "      'change_from_prior_day': 1430992,\n",
    "      'seven_day_change_percent': 2.9}}},\n",
    "   'outcomes': {'hospitalized': {'currently': {'value': 41401,\n",
    "      'calculated': {'population_percent': 0.0125,\n",
    "       'change_from_prior_day': -1140,\n",
    "       'seven_day_change_percent': -15.3,\n",
    "       \n",
    "       ...\n",
    "}    \n",
    "    \n",
    "```\n",
    "\n",
    "Please take a minute to describe for yourself what data structures you recognize! Hint: they're nested inside each other.\n"
   ]
  },
  {
   "cell_type": "markdown",
   "metadata": {},
   "source": []
  },
  {
   "cell_type": "markdown",
   "metadata": {},
   "source": [
    "**Hints**"
   ]
  },
  {
   "cell_type": "markdown",
   "metadata": {
    "jupyter": {
     "source_hidden": true
    },
    "tags": []
   },
   "source": [
    "Is it a list of dictionaries? A dictionary with keys that contain lists as values? A dictionary of dictionaries?"
   ]
  },
  {
   "cell_type": "markdown",
   "metadata": {
    "tags": []
   },
   "source": [
    "Recap how we accessed data inside dictionaries and lists.  \n",
    "Try to access some of the data fields with the syntax you've learned previously to access dictionaries and lists:"
   ]
  },
  {
   "cell_type": "code",
   "execution_count": null,
   "metadata": {
    "tags": []
   },
   "outputs": [],
   "source": [
    "raw_data[...][...]"
   ]
  },
  {
   "cell_type": "markdown",
   "metadata": {},
   "source": [
    "Expand the following two cells to see the solution!"
   ]
  },
  {
   "cell_type": "code",
   "execution_count": null,
   "metadata": {
    "jupyter": {
     "source_hidden": true
    },
    "tags": []
   },
   "outputs": [],
   "source": [
    "raw_data[\"data\"][0] # this returns the most recent record"
   ]
  },
  {
   "cell_type": "code",
   "execution_count": null,
   "metadata": {
    "jupyter": {
     "source_hidden": true
    },
    "tags": []
   },
   "outputs": [],
   "source": [
    "raw_data[\"data\"][0][\"confirmed\"] # this returns the number of confirmed cases from the most recent record"
   ]
  },
  {
   "cell_type": "markdown",
   "metadata": {},
   "source": [
    "---"
   ]
  },
  {
   "cell_type": "markdown",
   "metadata": {},
   "source": [
    "# 2. Introduction to DataFrames<a id=\"chapter2\"/>\n",
    "You probably noticed that working purely with lists of dictionaries and such is not \n",
    "Pandas are the central tool for reading and manipulating data in Python. For our purposes, the `DataFrames` data structure is the most important:\n",
    "\n",
    "> **DataFrame** is a 2-dimensional labeled data structure with columns of potentially different types.  \n",
    "> You can think of it like a spreadsheet or SQL table [...]. It is generally the most commonly used pandas object.  \n",
    "> [(Source)](https://pandas.pydata.org/pandas-docs/stable/user_guide/dsintro.html)\n",
    "\n",
    "Dataframes contain rows and columns and distinguish between regular data and indices - columns that contain an unique identifier for each row.\n",
    "I.e. our just imported covid dataset would look like this:\n",
    "\n",
    "<img src=\"images/dataframe.png\"/>  \n",
    "\n",
    "The full documentation can be found [here](https://pandas.pydata.org/pandas-docs/stable/reference/frame.html). "
   ]
  },
  {
   "cell_type": "markdown",
   "metadata": {},
   "source": [
    "Let's explore step by step, how dataframes make life easier when exploring data."
   ]
  },
  {
   "cell_type": "code",
   "execution_count": null,
   "metadata": {},
   "outputs": [],
   "source": [
    "import pandas\n",
    "import requests\n",
    "\n",
    "raw_data = requests.get(link).json()  # fetch data\n",
    "df = pandas.json_normalize(raw_data[\"data\"])     # raw_data[\"data\"] contains the relevant datatable as a list of dictionaries [{},{},{},{},....], see above"
   ]
  },
  {
   "cell_type": "code",
   "execution_count": null,
   "metadata": {},
   "outputs": [],
   "source": [
    "# let's have a look at our brand new dataframe...\n",
    "df.columns"
   ]
  },
  {
   "cell_type": "code",
   "execution_count": null,
   "metadata": {},
   "outputs": [],
   "source": [
    "df.head(5)   # shows the first n rows"
   ]
  },
  {
   "cell_type": "code",
   "execution_count": null,
   "metadata": {},
   "outputs": [],
   "source": [
    "# let's simplify a little\n",
    "\n",
    "# drop some columns to make handling easier\n",
    "df = df.drop([ 'states',\n",
    "       'cases.total.calculated.population_percent',\n",
    "       'cases.total.calculated.seven_day_change_percent',\n",
    "       'testing.total.value', 'testing.total.calculated.population_percent',\n",
    "       'testing.total.calculated.change_from_prior_day',\n",
    "       'testing.total.calculated.seven_day_change_percent',\n",
    "       'outcomes.hospitalized.currently.calculated.population_percent',\n",
    "       'outcomes.hospitalized.currently.calculated.change_from_prior_day',\n",
    "       'outcomes.hospitalized.currently.calculated.seven_day_change_percent',\n",
    "       'outcomes.hospitalized.currently.calculated.seven_day_average',\n",
    "       'outcomes.hospitalized.in_icu.currently.calculated.population_percent',\n",
    "       'outcomes.hospitalized.in_icu.currently.calculated.change_from_prior_day',\n",
    "       'outcomes.hospitalized.in_icu.currently.calculated.seven_day_change_percent',\n",
    "       'outcomes.hospitalized.in_icu.currently.calculated.seven_day_average',\n",
    "       'outcomes.hospitalized.on_ventilator.currently.calculated.population_percent',\n",
    "       'outcomes.hospitalized.on_ventilator.currently.calculated.change_from_prior_day',\n",
    "       'outcomes.hospitalized.on_ventilator.currently.calculated.seven_day_change_percent',\n",
    "       'outcomes.hospitalized.on_ventilator.currently.calculated.seven_day_average',\n",
    "       'outcomes.death.total.calculated.population_percent',\n",
    "       'outcomes.death.total.calculated.seven_day_change_percent',\n",
    "       'outcomes.death.total.calculated.seven_day_average'], axis=\"columns\")\n",
    "\n",
    "# simplify column names\n",
    "df = df.rename (columns={\n",
    "       'cases.total.value' : 'cases',\n",
    "       'cases.total.calculated.change_from_prior_day' : 'new_cases',\n",
    "       'outcomes.hospitalized.currently.value' : 'hospitalized',\n",
    "       'outcomes.hospitalized.in_icu.currently.value' : 'in_icu',\n",
    "       'outcomes.hospitalized.on_ventilator.currently.value' : 'on_ventilator',\n",
    "       'outcomes.death.total.value' : 'deaths',\n",
    "       'outcomes.death.total.calculated.change_from_prior_day' : 'new_deaths'\n",
    "})"
   ]
  },
  {
   "cell_type": "code",
   "execution_count": null,
   "metadata": {},
   "outputs": [],
   "source": [
    "df.head(5) # let's look again"
   ]
  },
  {
   "cell_type": "code",
   "execution_count": null,
   "metadata": {},
   "outputs": [],
   "source": [
    "df.count()   # shows the number of valid entries per column"
   ]
  },
  {
   "cell_type": "markdown",
   "metadata": {},
   "source": [
    "## 2.1. Preparing the dataset"
   ]
  },
  {
   "cell_type": "markdown",
   "metadata": {},
   "source": [
    "Before working with the data, we usually want to remove/rename some columns, sort the data, apply filters or partition the data.\n",
    "In this chapter we'll briefly walk the some commonly used functions to prepare datasets.\n",
    "\n",
    "> **Important**: All edits to the Dataframe create a copy with the changes, if you don't explicitly force the function to apply the changes directly (\"inplace\"). If you don't force inplace editing, the original DataFrame remains unchanged. So you usually have two options to apply changes:  \n",
    ">\n",
    "> `df = df.change_something(...)             # assign the copy with the change to the original variable`  \n",
    "> `df.change_something(..., inplace=True)    # apply the change to the original dataframe`"
   ]
  },
  {
   "cell_type": "code",
   "execution_count": null,
   "metadata": {},
   "outputs": [],
   "source": [
    "# Let's prepare the dataframe...\n",
    "\n",
    "df = df.sort_values(\"date\", ascending=True)     # sort data ascending\n",
    "\n",
    "df = df.set_index(\"date\")                       # set date column as unique identifier for records (index)"
   ]
  },
  {
   "cell_type": "code",
   "execution_count": null,
   "metadata": {
    "scrolled": true,
    "tags": []
   },
   "outputs": [],
   "source": [
    "df.head(50) # check result"
   ]
  },
  {
   "cell_type": "markdown",
   "metadata": {},
   "source": [
    "## 2.2. Selections and filtering"
   ]
  },
  {
   "cell_type": "markdown",
   "metadata": {},
   "source": [
    "Dataframes generally accept filters/selections in the format `[row_filter, column_filter]`. The expressions and inner workings can be quite different, we look at some of the most helpful ways."
   ]
  },
  {
   "cell_type": "markdown",
   "metadata": {},
   "source": [
    "### Select by True/False vector"
   ]
  },
  {
   "cell_type": "code",
   "execution_count": null,
   "metadata": {},
   "outputs": [],
   "source": [
    "# by passing a vector of True and False as row_filter, we toggle which rows we want to keep\n",
    "# a bool condition like the following generates such a structure, in this case with the date as index ... try it!\n",
    "\n",
    "df.new_cases > 30000"
   ]
  },
  {
   "cell_type": "code",
   "execution_count": null,
   "metadata": {},
   "outputs": [],
   "source": [
    "# let's pass this as row_filter\n",
    "peaks = df[df.new_cases > 30000]                                # select all days with > 30.000 cases\n",
    "peaks.sort_values(\"new_cases\", ascending=False)                 # show dataframe, sorted by \"worst days\" first"
   ]
  },
  {
   "cell_type": "code",
   "execution_count": null,
   "metadata": {},
   "outputs": [],
   "source": [
    "df[(df.new_cases > 30000) & (df.new_deaths < 600)]              # Use bool algebra operators & (\"and\") and | (\"or\") to combine filters"
   ]
  },
  {
   "cell_type": "code",
   "execution_count": null,
   "metadata": {},
   "outputs": [],
   "source": [
    "df[(df.new_cases > 30000) | (df.new_deaths < 600)]              # Important: don't forget the brackets"
   ]
  },
  {
   "cell_type": "markdown",
   "metadata": {},
   "source": [
    "### Select by naming relevant rows, columns"
   ]
  },
  {
   "cell_type": "code",
   "execution_count": null,
   "metadata": {},
   "outputs": [],
   "source": [
    "# Select using function .loc[list of row_indexes, list of column names]:\n",
    "\n",
    "df.loc[\"2020-08-01\",\"new_cases\"]   # single day, single column"
   ]
  },
  {
   "cell_type": "code",
   "execution_count": null,
   "metadata": {},
   "outputs": [],
   "source": [
    "df.loc[\"2020-09-01\":\"2020-09-07\", \"new_cases\":\"new_deaths\"]  # ranges of days, range of columns"
   ]
  },
  {
   "cell_type": "code",
   "execution_count": null,
   "metadata": {},
   "outputs": [],
   "source": [
    "df.loc[\"2020-09-01\":\"2020-09-07\", : ]  # ranges of days, all columns (full range"
   ]
  },
  {
   "cell_type": "code",
   "execution_count": null,
   "metadata": {},
   "outputs": [],
   "source": [
    "df.loc[[\"2020-06-01\",\"2020-07-01\"], [\"new_deaths\", \"new_cases\"]]  # subsets via lists of days (index) and columns"
   ]
  },
  {
   "cell_type": "markdown",
   "metadata": {},
   "source": [
    "---\n",
    "## <span style=\"color:#FF5D02;\">Assignment: Data selection</span>\n",
    "\n",
    "Generate a new dataframe that only contains new_cases for January 2021!"
   ]
  },
  {
   "cell_type": "code",
   "execution_count": null,
   "metadata": {},
   "outputs": [],
   "source": []
  },
  {
   "cell_type": "markdown",
   "metadata": {},
   "source": [
    "**Hints**"
   ]
  },
  {
   "cell_type": "markdown",
   "metadata": {
    "jupyter": {
     "source_hidden": true
    },
    "tags": []
   },
   "source": [
    "The `df.loc` function can filter rows (here: dates) and columns (here: data fields)"
   ]
  },
  {
   "cell_type": "markdown",
   "metadata": {
    "jupyter": {
     "source_hidden": true
    },
    "tags": []
   },
   "source": [
    "You need to use a range of days and a singe column (see example above)"
   ]
  },
  {
   "cell_type": "code",
   "execution_count": null,
   "metadata": {
    "jupyter": {
     "source_hidden": true
    },
    "tags": []
   },
   "outputs": [],
   "source": [
    "# Solution\n",
    "\n",
    "df.loc[\"2021-01-01\":\"2021-01-31\", \"new_cases\"]"
   ]
  },
  {
   "cell_type": "markdown",
   "metadata": {},
   "source": [
    "---"
   ]
  },
  {
   "cell_type": "markdown",
   "metadata": {},
   "source": [
    "## 2.3. Calculations and simple statistics"
   ]
  },
  {
   "cell_type": "code",
   "execution_count": null,
   "metadata": {},
   "outputs": [],
   "source": [
    "df.head()"
   ]
  },
  {
   "cell_type": "code",
   "execution_count": null,
   "metadata": {},
   "outputs": [],
   "source": [
    "# Do calculations with columns similar to single variables\n",
    "\n",
    "df[\"deaths_per_new_case\"] = df.new_deaths / df.new_cases"
   ]
  },
  {
   "cell_type": "code",
   "execution_count": null,
   "metadata": {},
   "outputs": [],
   "source": [
    "# Calculate common descriptive statistics for numeric columns of the whole dataframe\n",
    "df.describe()"
   ]
  },
  {
   "cell_type": "code",
   "execution_count": null,
   "metadata": {},
   "outputs": [],
   "source": [
    "# ... or for a single column\n",
    "df.new_cases.describe()   # note the scientific notation (\"e notation\") in the result, if unknown, check here: https://en.wikipedia.org/wiki/Scientific_notation"
   ]
  },
  {
   "cell_type": "code",
   "execution_count": null,
   "metadata": {},
   "outputs": [],
   "source": [
    "# or just a specific metric :-)\n",
    "\n",
    "print(\"New Cases\")\n",
    "print(\"Mean: \", df.new_cases.mean())\n",
    "print(\"Median: \", df.new_cases.median())\n",
    "print(\"Maximum: \", df.new_cases.max())\n",
    "print(\"20% quantile: \", df.new_cases.quantile(0.2))\n",
    "print(\"80% quantile: \", df.new_cases.quantile(0.8))"
   ]
  },
  {
   "cell_type": "markdown",
   "metadata": {},
   "source": [
    "---\n",
    "## <span style=\"color:#FF5D02;\">Assignment: Compare descriptive statistics</span>\n",
    "\n",
    "Calculate the average of new cases of Jan 2021 and Feb 2021! Which one is bigger?"
   ]
  },
  {
   "cell_type": "code",
   "execution_count": null,
   "metadata": {},
   "outputs": [],
   "source": []
  },
  {
   "cell_type": "markdown",
   "metadata": {
    "tags": []
   },
   "source": [
    "**Hints**"
   ]
  },
  {
   "cell_type": "markdown",
   "metadata": {
    "jupyter": {
     "source_hidden": true
    },
    "tags": []
   },
   "source": [
    "Use the `.loc[]` function to select the months (see above examples for index ranges)"
   ]
  },
  {
   "cell_type": "markdown",
   "metadata": {
    "jupyter": {
     "source_hidden": true
    },
    "tags": []
   },
   "source": [
    "Use the `.mean()` function to calculate the mean"
   ]
  },
  {
   "cell_type": "markdown",
   "metadata": {
    "jupyter": {
     "source_hidden": true
    },
    "tags": []
   },
   "source": [
    "You can chain functions like `df.function1().function2().function(3)[\"2022-01-01\"]`"
   ]
  },
  {
   "cell_type": "code",
   "execution_count": null,
   "metadata": {
    "jupyter": {
     "source_hidden": true
    },
    "tags": []
   },
   "outputs": [],
   "source": [
    "# Solution\n",
    "\n",
    "print(\"Jan 2021: \", df.loc[\"2021-01-01\":\"2021-01-31\", \"new_cases\"].mean())\n",
    "print(\"Feb 2021: \", df.loc[\"2021-02-01\":\"2021-02-28\", \"new_cases\"].mean())"
   ]
  },
  {
   "cell_type": "markdown",
   "metadata": {},
   "source": [
    "---\n",
    "# 3. Simple data visualization<a id=\"chapter3\"/>\n",
    "\n",
    "There are numerous data visualization packages available for Python (e.g. matplotlib, seaborn). The [Python Graph Gallery](https://www.python-graph-gallery.com) gives a lot of examples with code snippets.\n",
    "\n",
    "Pandas include a `.plot()` function that automatically calls the respective functionality from a visualization package (matplotlib, by default).\n",
    "\n",
    "This sections shows a lot of examples to get you started."
   ]
  },
  {
   "cell_type": "code",
   "execution_count": null,
   "metadata": {},
   "outputs": [],
   "source": [
    "last_quarter = df.new_cases[-90:-1]\n",
    "last_quarter.plot()  # plot the new cases for the last 90 days \n",
    "\n",
    "# (if you're unsure about the syntax, recheck the Python basics notebook or google python negative indexing for lists or dataframes "
   ]
  },
  {
   "cell_type": "code",
   "execution_count": null,
   "metadata": {},
   "outputs": [],
   "source": [
    "# let's make it look a little nicer, for a list of all parameters check https://pandas.pydata.org/docs/reference/api/pandas.DataFrame.plot.html\n",
    "\n",
    "last_quarter.plot(kind=\"area\", figsize=(18,5), \n",
    "                  color=\"lightblue\", legend=True,\n",
    "                   title=\"New infections during the last quarter\",\n",
    "                   ylabel=\"Number of cases\")"
   ]
  },
  {
   "cell_type": "code",
   "execution_count": null,
   "metadata": {},
   "outputs": [],
   "source": [
    "# let's check the distribution of daily case count for January 2021 with a boxplot\n",
    "last_quarter.plot(kind=\"box\")"
   ]
  },
  {
   "cell_type": "code",
   "execution_count": null,
   "metadata": {},
   "outputs": [],
   "source": [
    "# let's do a histogram to check the overall distribution\n",
    "last_quarter.plot(kind=\"hist\", edgecolor=\"white\") "
   ]
  },
  {
   "cell_type": "code",
   "execution_count": null,
   "metadata": {},
   "outputs": [],
   "source": [
    "# For scatterplots (plot x vs y values as dots) we need a little different syntax and come back to the full dataframe, containing all columns:\n",
    "df[-90:-1].plot(kind=\"scatter\", x=\"new_cases\", y=\"new_deaths\", color=\"blue\", title=\"New Deaths vs. New Cases per day\")"
   ]
  },
  {
   "cell_type": "markdown",
   "metadata": {},
   "source": [
    "To show multiple data series in a single plot, just put the statements in the same notebook cell:"
   ]
  },
  {
   "cell_type": "code",
   "execution_count": null,
   "metadata": {},
   "outputs": [],
   "source": [
    "df[-90:-1].new_cases.plot  (kind=\"hist\", figsize=(16,5), alpha=0.5, color=\"blue\", legend=True, \n",
    "                            label=\"last 90 days\", title=\"Number of days with x new infections, quarterly comparison\") \n",
    "df[-180:-91].new_cases.plot(kind=\"hist\", figsize=(16,5), alpha=0.2, color=\"green\", legend=True, \n",
    "                            label=\"previous 90 days\") "
   ]
  },
  {
   "cell_type": "markdown",
   "metadata": {},
   "source": [
    "---\n",
    "## <span style=\"color:#FF5D02;\">Assignment: Explore visualization commands</span>\n",
    "\n",
    "Change the above plotting commands to show other data fields, other sections of the dataframe."
   ]
  },
  {
   "cell_type": "code",
   "execution_count": null,
   "metadata": {},
   "outputs": [],
   "source": []
  }
 ],
 "metadata": {
  "kernelspec": {
   "display_name": "Python 3 (ipykernel)",
   "language": "python",
   "name": "python3"
  },
  "language_info": {
   "codemirror_mode": {
    "name": "ipython",
    "version": 3
   },
   "file_extension": ".py",
   "mimetype": "text/x-python",
   "name": "python",
   "nbconvert_exporter": "python",
   "pygments_lexer": "ipython3",
   "version": "3.9.13"
  }
 },
 "nbformat": 4,
 "nbformat_minor": 4
}

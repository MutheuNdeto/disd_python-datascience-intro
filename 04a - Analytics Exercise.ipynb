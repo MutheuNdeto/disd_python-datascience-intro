{
 "cells": [
  {
   "cell_type": "markdown",
   "metadata": {},
   "source": [
    "<div>\n",
    "    <img style=\"float:right;\" src=\"images/smi-logo.png\"/>\n",
    "    <div style=\"float:left;color:#58288C;\"><h1>Datenanalyse und Datenmanagement</h1></div>\n",
    "</div>"
   ]
  },
  {
   "cell_type": "markdown",
   "metadata": {},
   "source": [
    "---\n",
    "# Notebook IVa: Analytics Exercise\n",
    "In diesem Notebook entwickelst du ein eigenes analytiches Modell.\n",
    "Zunächst sind die erforderlichen Module zu importieren."
   ]
  },
  {
   "cell_type": "code",
   "execution_count": null,
   "metadata": {},
   "outputs": [],
   "source": [
    "import pandas as pd\n",
    "import seaborn as sns\n",
    "import matplotlib.pyplot as plt\n",
    "\n",
    "import sklearn.datasets\n",
    "import sklearn.model_selection\n",
    "import sklearn.tree\n",
    "\n",
    "%matplotlib inline\n",
    "%load_ext sql"
   ]
  },
  {
   "cell_type": "markdown",
   "metadata": {},
   "source": [
    "## 1. Einstieg: Research Approach <a id=\"kapitel1\"/>\n",
    "\n",
    "- **Business Problem**: Für Immobilieninvestments ist eine einfache Vorhersage des möglichen Ertrags einer Immobilie erforderlich.\n",
    "- **Research Problem**: Ein Modell soll ausgehend von Haus- und Umgebungsdaten (Häuserblock) den Kaufpreis einer Immobilie vorhersagen.\n",
    "- **Trainingsdaten**: \n",
    "        - MedInc        median income in block\n",
    "        - HouseAge      median house age in block\n",
    "        - AveRooms      average number of rooms\n",
    "        - AveBedrms     average number of bedrooms\n",
    "        - Population    block population\n",
    "        - AveOccup      average house occupancy\n",
    "        - Latitude      house block latitude\n",
    "        - Longitude     house block longitude\n",
    "        - MedHouseVal   average value of houses in block (5 classes)"
   ]
  },
  {
   "cell_type": "markdown",
   "metadata": {},
   "source": [
    "## 2. Datenaufbereitung <a id=\"kapitel2\"/>"
   ]
  },
  {
   "cell_type": "markdown",
   "metadata": {},
   "source": [
    "Falls die SQLite-Datenbank noch nicht entpackt ist, das jetzt tun:"
   ]
  },
  {
   "cell_type": "code",
   "execution_count": null,
   "metadata": {},
   "outputs": [],
   "source": [
    "![ ! -f data/smi-data.db ] && unzip -o -d data data/smi-data.zip"
   ]
  },
  {
   "cell_type": "markdown",
   "metadata": {},
   "source": [
    "### 2.1. Daten einlesen"
   ]
  },
  {
   "cell_type": "markdown",
   "metadata": {},
   "source": [
    "Die Daten erhälst du in voraufbereiteter Form aus den Beispieldatensätzen von Scikit-Learn:"
   ]
  },
  {
   "cell_type": "code",
   "execution_count": null,
   "metadata": {},
   "outputs": [],
   "source": [
    "data = sklearn.datasets.fetch_california_housing(as_frame=True)\n",
    "df = data.frame"
   ]
  },
  {
   "cell_type": "markdown",
   "metadata": {},
   "source": [
    "Untersuche das DataFrame mit ```.head()``` und sieh dir die deskriptiven Statistiken an."
   ]
  },
  {
   "cell_type": "code",
   "execution_count": null,
   "metadata": {},
   "outputs": [],
   "source": []
  },
  {
   "cell_type": "markdown",
   "metadata": {},
   "source": [
    "Entferne die Merkmale Latitude und Longitude."
   ]
  },
  {
   "cell_type": "code",
   "execution_count": null,
   "metadata": {},
   "outputs": [],
   "source": []
  },
  {
   "cell_type": "markdown",
   "metadata": {},
   "source": [
    "### 2.2. Feature Engineering"
   ]
  },
  {
   "cell_type": "markdown",
   "metadata": {},
   "source": [
    "#### 2.2.1. Visualisieren der Merkmale"
   ]
  },
  {
   "cell_type": "markdown",
   "metadata": {},
   "source": [
    "Sie dir die Histogramme zur Zielvariablen MedHouseVal an! Was fällt auf?"
   ]
  },
  {
   "cell_type": "code",
   "execution_count": null,
   "metadata": {},
   "outputs": [],
   "source": []
  },
  {
   "cell_type": "markdown",
   "metadata": {},
   "source": [
    "#### 2.2.2. - 2.2.4. Zusammenstellen der Trainingsdaten"
   ]
  },
  {
   "cell_type": "markdown",
   "metadata": {},
   "source": [
    "Die Daten sind bereits aufbereitet. Übernimm die Merkmale für den Modell-Input in ein DataFrame X und das Zielmerkmal ```MedHouseVal``` in ein DataFrame y."
   ]
  },
  {
   "cell_type": "code",
   "execution_count": null,
   "metadata": {},
   "outputs": [],
   "source": []
  },
  {
   "cell_type": "markdown",
   "metadata": {},
   "source": [
    "## 3. Modellbildung <a id=\"kapitel3\"/>\n",
    "Unterteile den Datensatz in 80% Trainingsdaten und 20% Testdaten.  \n",
    "Erzeuge einen Decision Tree zur Prognose des Immobilienwerts mit mindestens 1000 Immobilien pro Knoten."
   ]
  },
  {
   "cell_type": "code",
   "execution_count": null,
   "metadata": {},
   "outputs": [],
   "source": [
    "X_train, X_test, y_train, y_test = sklearn.model_selection.train_test_split(X, y, test_size=0.2, random_state=0)"
   ]
  },
  {
   "cell_type": "code",
   "execution_count": null,
   "metadata": {},
   "outputs": [],
   "source": [
    "tree = sklearn.tree.DecisionTreeRegressor(min_samples_leaf = 1000)\n",
    "# ..."
   ]
  },
  {
   "cell_type": "markdown",
   "metadata": {},
   "source": [
    "Nun versuchen wir den entwickelten Baum zu visualisieren..."
   ]
  },
  {
   "cell_type": "code",
   "execution_count": null,
   "metadata": {},
   "outputs": [],
   "source": [
    "fig, ax = plt.subplots(1,1,figsize=(35,15))\n",
    "t = sklearn.tree.plot_tree(tree, ax=ax, class_names=True, label=\"root\", precision=2, feature_names=X.columns, fontsize=12, proportion=True, filled=True)\n",
    "plt.show()"
   ]
  },
  {
   "cell_type": "markdown",
   "metadata": {},
   "source": [
    "## 4. Modellevaluation <a id=\"kapitel\"/>"
   ]
  },
  {
   "cell_type": "markdown",
   "metadata": {},
   "source": [
    "Berechne die Average Precision für Trainings- und Testdaten!"
   ]
  },
  {
   "cell_type": "code",
   "execution_count": null,
   "metadata": {},
   "outputs": [],
   "source": []
  },
  {
   "cell_type": "markdown",
   "metadata": {},
   "source": [
    "Inspiziere die Prognosegüte mit einem Prognose/Ist-Vergleich in einem Scatterplot (```sns.scatterplot (x= ..., y= ...)```) genauer!"
   ]
  },
  {
   "cell_type": "code",
   "execution_count": null,
   "metadata": {},
   "outputs": [],
   "source": []
  },
  {
   "cell_type": "markdown",
   "metadata": {},
   "source": [
    "Was fällt hinsichtlich des Modellfehlers auf?"
   ]
  }
 ],
 "metadata": {
  "kernelspec": {
   "display_name": "Python 3",
   "language": "python",
   "name": "python3"
  },
  "language_info": {
   "codemirror_mode": {
    "name": "ipython",
    "version": 3
   },
   "file_extension": ".py",
   "mimetype": "text/x-python",
   "name": "python",
   "nbconvert_exporter": "python",
   "pygments_lexer": "ipython3",
   "version": "3.9.1"
  }
 },
 "nbformat": 4,
 "nbformat_minor": 4
}

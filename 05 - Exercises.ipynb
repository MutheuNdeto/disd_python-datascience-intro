{
 "cells": [
  {
   "cell_type": "markdown",
   "metadata": {},
   "source": [
    "<div>\n",
    "    <img style=\"float:right;\" src=\"images/smi-logo.png\"/>\n",
    "    <div style=\"float:left;color:#58288C;\"><h1>Datenanalyse und Datenmanagement</h1></div>\n",
    "</div>"
   ]
  },
  {
   "cell_type": "markdown",
   "metadata": {},
   "source": [
    "---\n",
    "# Notebook V: Exercises\n",
    "In diesem Notebook geht es um ...\n",
    "\n",
    "## Idee\n",
    "\n",
    "Datensatz: telco_churn\n",
    "\n",
    "- Liste aller Datensätze mit Fragen/Aufgaben dazu / ODER: ein neuer Datensatz an dem alle arbeiten\n",
    "- Datensatz der für alle Phasen etwas bereithält\n",
    "    * Datenabfrage\n",
    "    * Datencleaning\n",
    "    * Exploration\n",
    "    * Modelling\n",
    "- Aufgaben / Fragen:\n",
    "    - Minimumset - ab da darf man gehen?\n",
    "    - Didaktik\n",
    "\n",
    "## Inhaltsverzeichnis\n",
    "\n",
    "[1. ...](#kapitel1)  \n",
    "\n",
    "\n",
    "---"
   ]
  },
  {
   "cell_type": "code",
   "execution_count": null,
   "metadata": {},
   "outputs": [],
   "source": []
  }
 ],
 "metadata": {
  "kernelspec": {
   "display_name": "Python 3",
   "language": "python",
   "name": "python3"
  },
  "language_info": {
   "codemirror_mode": {
    "name": "ipython",
    "version": 3
   },
   "file_extension": ".py",
   "mimetype": "text/x-python",
   "name": "python",
   "nbconvert_exporter": "python",
   "pygments_lexer": "ipython3",
   "version": "3.7.4"
  }
 },
 "nbformat": 4,
 "nbformat_minor": 4
}

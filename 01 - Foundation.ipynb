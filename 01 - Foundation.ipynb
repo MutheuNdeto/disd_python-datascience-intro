{
 "cells": [
  {
   "cell_type": "markdown",
   "metadata": {},
   "source": [
    "<div>\n",
    "    <img style=\"float:right;\" src=\"images/smi-logo.png\"/>\n",
    "    <div style=\"float:left;color:#58288C;\"><h1>Datenanalyse und Datenmanagement</h1></div>\n",
    "</div>"
   ]
  },
  {
   "cell_type": "markdown",
   "metadata": {},
   "source": [
    "---\n",
    "# Notebook I: Foundation\n",
    "In diesem Notebook geht es um Aufbau und Arbeit mit Jupyter Notebooks sowie die Grundzüge der Programmierung mit Python.\n",
    "\n",
    "## Inhaltsverzeichnis\n",
    "\n",
    "[1. Überblick Jupyter Notebooks & Start mit Python](#kapitel1)  \n",
    "[2. Grundlagen von Python](#kapitel2)  \n",
    "[3. Module importieren](#kapitel3)  \n",
    "[4. Übung: Programmieren mit Minecraft](#kapitel4)  \n",
    "\n",
    "---"
   ]
  },
  {
   "cell_type": "markdown",
   "metadata": {},
   "source": [
    "## 1. Überblick Jupyter Notebooks & Start mit Python <a id=\"kapitel1\"/>\n",
    "\n",
    "### 1.1. Zellen\n",
    "Notebooks sind in Zellen gegliedert, die den Typ \"Code\" oder \"Markdown\" (Dokumentation) haben.  \n",
    "Folgendes ist dazu wissenswert:\n",
    "- Über Insert -> Cell Below/Above kannst du neue Abschnitte (\"Zellen\") hinzufügen.\n",
    "- Mit Pfeil auf/ab auf der Tastatur kannst du zur vorigen/nächsten Zelle springen.\n",
    "\n",
    "### 1.2. Formatierung und Shortcuts (Tastenkürzel)\n",
    "\n",
    "Die Formatierung von Texten erfolgt über Markdown ([Cheat Sheet bei GitHub](https://github.com/adam-p/markdown-here/wiki/Markdown-Cheatsheet)).  \n",
    "Die wichtigsten Auszeichnugsbefehle hierbei sind:\n",
    "\n",
    "Auszeichnung | Bedeutung\n",
    ":---------|:---------------------------\n",
    "\\# Text  | Überschrift erster Ordnung\n",
    "\\## Text | Überschrift zweiter Ordnung\n",
    "\\*\\*Text\\*\\* | Fettschrift\n",
    "\\>       | Blockquote\n",
    "\\[Linktitle\\](URL) | Link\n",
    "\n",
    "Bei der Bedienung von Jupyter Notebooks helfen dir folgende Tastenkürzel (Shortcuts):\n",
    "\n",
    "Tastenkürzel | Kommando\n",
    ":-----------|:----------------\n",
    "h | Zeige alle Shortcuts\n",
    "b | Zelle unter aktueller Zelle hinzufügen\n",
    "dd | aktuelle Zelle löschen\n",
    "m | Zelltyp auf \"Markdown\" (Dokumentation) stellen\n",
    "y | Zelltyp auf \"Code\" stellen\n",
    "Shift-Enter | Aktuelle Zelle ausführen\n",
    "Ctrl-S | Notebook speichern (mac: cmd-s)\n",
    "Tab | Einrückung oder Autocomplete"
   ]
  },
  {
   "cell_type": "markdown",
   "metadata": {},
   "source": [
    "---\n",
    "# <span style=\"color:#FF5D02;\">Aufgabe 1: Hello World!</span>\n",
    "1. Füge eine Zellen unterhalb dieser Zelle ein (Menü oben: Insert -> Insert Cell below)\n",
    "2. Ändere den Zelltyp zu \"Markdown\" (Menü: Cell ...)\n",
    "3. Beschreibe, was dein nachfolgendes Programm tun soll, verwende eine Überschrift wie oben unter \"Formatierung\" beschrieben\n",
    "4. Benutze Shortcuts, um eine weitere Zelle anzulegen und den Zelltyp auf Code zu ändern\n",
    "5. Füge den Python-Code ```print(\"Hello world!\")``` ein\n",
    "6. Führe die Zelle mit deinem Code aus (Shift-Enter) und überprüfe das Ergebnis.\n",
    "7. Probiere Autocomplete aus, indem du in einer neuen Zeile pri eingibst und Tab drückst"
   ]
  },
  {
   "cell_type": "markdown",
   "metadata": {},
   "source": [
    "## 2. Grundlagen von Python <a id=\"kapitel2\"/>\n",
    "Außer der Dokumentation in separaten Notebook-Zellen, kannst du auch in Code-Zellen Kommentare einfügen. \n",
    "Hierzu stellst du deinem Kommentartext ein # voran."
   ]
  },
  {
   "cell_type": "code",
   "execution_count": null,
   "metadata": {},
   "outputs": [],
   "source": [
    "# Beispiel für einen ganzzeiligen Kommentar\n",
    "\n",
    "print (\"Kommentare helfen, Code nachzuvollziehen\")   # Beispiel für Inline-Kommentar"
   ]
  },
  {
   "cell_type": "markdown",
   "metadata": {},
   "source": [
    "Benötigst du Hilfe zu einem Befehl, kannst du dir die Dokumentation so anzeigen lassen:"
   ]
  },
  {
   "cell_type": "code",
   "execution_count": null,
   "metadata": {},
   "outputs": [],
   "source": [
    "help(print)"
   ]
  },
  {
   "cell_type": "markdown",
   "metadata": {},
   "source": [
    "### 2.1 Variablen: Strings und Zahlen\n",
    "Variablen speichern Daten im Arbeitsspeicher - im einfachsten Fall **Zeichenfolgen/Text** (= String) oder **Zahlen**. Bei der Arbeit mit Texten setze diese in Anführungszeichen.\n",
    "\n",
    "**So arbeitest du mit Variablen:**"
   ]
  },
  {
   "cell_type": "code",
   "execution_count": null,
   "metadata": {},
   "outputs": [],
   "source": [
    "x = 5\n",
    "y = 10\n",
    "\n",
    "seminar_titel = \"Datenanalyse\"   # Wichtig: Strings (Text) müssen in Anführungszeichen stehen\n",
    "\n",
    "print (x)\n",
    "print (y)\n",
    "print (\"Werte: \", x, y) # print mehrere Variablen auf einmal ausgegeben\n",
    "print (\"\")\n",
    "print (seminar_titel)"
   ]
  },
  {
   "cell_type": "markdown",
   "metadata": {},
   "source": [
    "Stings haben zudem zahlreiche Funktionen, von denen wir zwei besonders nützliche ausprobieren:"
   ]
  },
  {
   "cell_type": "code",
   "execution_count": null,
   "metadata": {},
   "outputs": [],
   "source": [
    "# In einem String kann man mit {} Platzhalter definieren, die mit der Funktion .format befüllt werden können:\n",
    "\n",
    "name = \"Marc\"\n",
    "alter = 27\n",
    "satz = \"{} ist {} Jahre alt.\"\n",
    "\n",
    "print (satz.format(name,alter))"
   ]
  },
  {
   "cell_type": "code",
   "execution_count": null,
   "metadata": {},
   "outputs": [],
   "source": [
    "# In einem String kann man mit der Funktion .replace suchen/ersetzen:\n",
    "\n",
    "satz = \"Marc ist 27 Jahre alt.\"\n",
    "print (satz.replace(\"Marc\", \"Tobi\")) "
   ]
  },
  {
   "cell_type": "code",
   "execution_count": null,
   "metadata": {},
   "outputs": [],
   "source": [
    "# Achtung: .replace verändert den String selbst nicht, sondern erzeugt eine Kopie mit der Ersetzung\n",
    "# Sehen wir uns zur Illustration nochmal den unveränderten Inhalt der Variable satz an:\n",
    "print(satz)"
   ]
  },
  {
   "cell_type": "markdown",
   "metadata": {},
   "source": [
    "---\n",
    "# <span style=\"color:#FF5D02;\">Aufgabe 2: Variablen</span>\n",
    "Entwickle ein paar kleine Programme, um die obigen Prinzipien auszuprobieren.\n",
    "\n",
    "> **Tip**: Arbeite iterativ in kleinen Schritten. Einsteiger kommen typischerweise schneller voran,  \n",
    "> wenn sie Teile der Lösung schon einmal eintippen und sofort ausführen. Damit ist der aktuelle Stand  \n",
    "> greifbar und man kann sich schrittweise an die Lösung herantasten.\n",
    "\n",
    "2.1.1. Baue dein Hello-World Programm so um, dass der Text zuerst in einer Variablen gespeichert wird und die Print-Funktion dann den Inhalt der Variablen ausgibt."
   ]
  },
  {
   "cell_type": "code",
   "execution_count": null,
   "metadata": {},
   "outputs": [],
   "source": []
  },
  {
   "cell_type": "markdown",
   "metadata": {},
   "source": [
    "2.1.2. Nutze die ```.replace``` Funktion, um \"world\" durch deinen Namen zu ersetzen."
   ]
  },
  {
   "cell_type": "code",
   "execution_count": null,
   "metadata": {},
   "outputs": [],
   "source": []
  },
  {
   "cell_type": "markdown",
   "metadata": {},
   "source": [
    "2.1.3. Definiere eine neue Variable mit Platzhaltertext (z.B. \"Hello {}\") und nutze die ```.format``` Funktion, um wieder ```\"Hello world\"``` auszugeben."
   ]
  },
  {
   "cell_type": "code",
   "execution_count": null,
   "metadata": {},
   "outputs": [],
   "source": []
  },
  {
   "cell_type": "markdown",
   "metadata": {},
   "source": [
    "2.1.4. Berechne in einer Variablen die Summe der Zahlen von 1-5 und gib das Ergebnis mit der ```print``` Funktion aus."
   ]
  },
  {
   "cell_type": "code",
   "execution_count": null,
   "metadata": {},
   "outputs": [],
   "source": []
  },
  {
   "cell_type": "markdown",
   "metadata": {},
   "source": [
    "---"
   ]
  },
  {
   "cell_type": "markdown",
   "metadata": {},
   "source": [
    "### 2.2 Operatoren\n",
    "\n",
    "**Arithmetische Operatoren**: Die Grundrechenarten führst du mit  +, -, \\*, / aus.\n",
    "\n",
    "**String Operatoren**: Zwei Strings hängst du mit + aneinander.\n",
    "\n",
    "**Vergleichende Operatoren**: Zwei Variablen vergleichst du mit >, <, == (ist gleich?), != (ist nicht gleich?)"
   ]
  },
  {
   "cell_type": "code",
   "execution_count": null,
   "metadata": {},
   "outputs": [],
   "source": [
    "# Beispiel arithmetische Operatoren\n",
    "x = 2\n",
    "y = 3\n",
    "\n",
    "mittelwert = (x+y) / 2\n",
    "\n",
    "print (mittelwert)\n",
    "\n",
    "# Aufgabe: Füge einen Variable z hinzu und beziehe diese in die Mittelwertberechnung ein!"
   ]
  },
  {
   "cell_type": "code",
   "execution_count": null,
   "metadata": {},
   "outputs": [],
   "source": [
    "# Beispiel Strings\n",
    "s1 = \"Steinbeis\"\n",
    "s2 = \"School for Management\"\n",
    "s3 = \"and Innovation\"\n",
    "\n",
    "print(s1 + \" \" + s2)\n",
    "\n",
    "# Aufgabe: Ändere das Print-Statement sodass der vollständige Name ausgegeben wird!"
   ]
  },
  {
   "cell_type": "code",
   "execution_count": null,
   "metadata": {},
   "outputs": [],
   "source": [
    "# Vergleichende Operatoren\n",
    "\n",
    "a = 5.2\n",
    "b = 10.8\n",
    "\n",
    "print (\"a < b? \", a < b)\n",
    "print (\"a == b? \", a == b)\n",
    "print (\"a != b? \", a != b)"
   ]
  },
  {
   "cell_type": "markdown",
   "metadata": {},
   "source": [
    "### 2.3. Kontrollfluss <a id=\"kapitel2.3\"/>\n",
    "#### 2.3.1. IF Anweisung und boolsche Operatoren\n",
    "Du kannst mit IF Anweisungen die Ausführung eines oder mehrerer Befehle an Bedingungen knüpfen. Python interpretiert die Einrückung der Befehle, sodass klar ist, welche der nachfolgenden Anweisungen zur IF-Anweisung gehören und wo regulärer Code weiter geht.\n",
    "Mit dem folgenden Befehle \"ELSE\" (\"sonst...\") kannst du Befehle für den Fall angeben, dass die Bedingung nicht zutrifft."
   ]
  },
  {
   "cell_type": "code",
   "execution_count": null,
   "metadata": {},
   "outputs": [],
   "source": [
    "x = 5\n",
    "y = 10\n",
    "if (x < y):\n",
    "    print (\"X ist kleiner als Y\")\n",
    "else:  # wenn die obige Bedingung nicht erfüllt ist\n",
    "    print (\"Y ist kleiner als X\")"
   ]
  },
  {
   "cell_type": "markdown",
   "metadata": {},
   "source": [
    "Du kannst auch mehrere Bedingungen mit den Operatoren ```and``` und ```or``` verknüpfen:"
   ]
  },
  {
   "cell_type": "code",
   "execution_count": null,
   "metadata": {},
   "outputs": [],
   "source": [
    "if (x < 10) and (y < 100):\n",
    "    print (\"Die Zahlen sind nicht allzu groß.\")"
   ]
  },
  {
   "cell_type": "code",
   "execution_count": null,
   "metadata": {},
   "outputs": [],
   "source": [
    "if (x < 10) or (y < 10):\n",
    "    print (\"Eine der Zahlen ist kleiner als 10\")"
   ]
  },
  {
   "cell_type": "markdown",
   "metadata": {},
   "source": [
    "#### 2.3.2. FOR Schleife\n",
    "For-Anweisungen ermöglichen dir, einen oder mehrere Befehle für jedes Element einer Aufzählung auszuführen. Ein Beispiel:"
   ]
  },
  {
   "cell_type": "code",
   "execution_count": null,
   "metadata": {},
   "outputs": [],
   "source": [
    "for i in (1,2,3,4,5): #  Schleife für Werte 1-5 ausführen, der Wert steht jeweils in der Variablen \"i\"\n",
    "    print (i)"
   ]
  },
  {
   "cell_type": "code",
   "execution_count": null,
   "metadata": {},
   "outputs": [],
   "source": [
    "# Alternativ kannst du eine Zahlenreihe mit der Funktion 'range' generieren:\n",
    "\n",
    "for i in range(1,6): # range beinhaltet allerdings den oberen Wert nicht mehr\n",
    "    print (i)"
   ]
  },
  {
   "cell_type": "markdown",
   "metadata": {},
   "source": [
    "#### 2.3.3. WHILE Schleife\n",
    "Die While-Schleife führt einen oder mehrere Befehle solange aus, bis die While-Bedingung nicht mehr erfüllt ist.  \n",
    "Ein Beispiel:"
   ]
  },
  {
   "cell_type": "code",
   "execution_count": null,
   "metadata": {},
   "outputs": [],
   "source": [
    "x = 0\n",
    "while x < 10:\n",
    "    print (x)\n",
    "    x = x + 1"
   ]
  },
  {
   "cell_type": "markdown",
   "metadata": {},
   "source": [
    "---\n",
    "# <span style=\"color:#FF5D02;\">Aufgabe 3: Schleifen und Ausnahmen</span>\n",
    "**Ziel**: Erzeuge ein Programm, welches ...\n",
    "- von 0 bis 10 zählt,\n",
    "- dabei für jeden Wert in einer Zeile ausgibt, \n",
    "    * ob der Wert noch unter fünf ist und\n",
    "    * was das Quadrat dieses Wertes ergibt. \n",
    "- In der Zeile der Zahl fünf soll nur der String \"Puh, Halbzeit!\" ausgegeben werden.\n",
    "\n",
    "##### 3.1.: Formuliere in einer Markdown-Zelle in einer Spiegelstrichaufzählung in Alltagssprache, was hierzu der Reihe nach passieren muss\n",
    "##### 3.2.: Entwickle nun das Programm in einer neuen Code-Zelle\n",
    "##### _3.3.: BONUS: Wenn du noch Zeit hast, ergänze dein Programm so, dass in jeder Zeile die Summe aller bisherigen Zahlen mit angegeben wird (z.B. für Zahl 4 entsprechend der Wert 6 (1+2+3))._"
   ]
  },
  {
   "cell_type": "markdown",
   "metadata": {},
   "source": [
    "---"
   ]
  },
  {
   "cell_type": "markdown",
   "metadata": {},
   "source": [
    "### 2.4. Datenstrukturen\n",
    "#### 2.4.1. Listen\n",
    "Listen sind Datenstrukturen, die mehrere Werte enthalten können. Die Werte werden automatisch numeriert und sind über ihre Indexnummer abrufbar. In Python ist der Index des ersten Elements einer Liste 0."
   ]
  },
  {
   "cell_type": "code",
   "execution_count": null,
   "metadata": {},
   "outputs": [],
   "source": [
    "x = [\"Äpfel\", \"Birnen\", \"Bananen\"]\n",
    "print (x[0])\n",
    "print (x[1])"
   ]
  },
  {
   "cell_type": "markdown",
   "metadata": {},
   "source": [
    "Indexing funktioniert auch \"rückwärts\" - mit negativen Indexwerten. So hat das letzte Element den Index -1.  \n",
    "Was gibt demnach dieser Code aus?"
   ]
  },
  {
   "cell_type": "code",
   "execution_count": null,
   "metadata": {},
   "outputs": [],
   "source": [
    "x[-1]"
   ]
  },
  {
   "cell_type": "markdown",
   "metadata": {},
   "source": [
    "Listen können auch wiederum Listen enthalten - auf diese Art können wir tabellarische Daten speichern. Ein Beispiel:"
   ]
  },
  {
   "cell_type": "code",
   "execution_count": null,
   "metadata": {},
   "outputs": [],
   "source": [
    "# Tabellenaufbau: Nachname, Vorname, Geschlecht, Alter, Körpergröße\n",
    "person1 = [\"Müller\", \"Thomas\", \"männlich\", 34, 1.92]\n",
    "person2 = [\"Lind\"  , \"Verena\", \"weiblich\", 32, 1.72]\n",
    "\n",
    "personen = [person1, person2]\n",
    "\n",
    "personen"
   ]
  },
  {
   "cell_type": "markdown",
   "metadata": {},
   "source": [
    "Um zu verstehen, wie man in verschachtelten Listen auf einzelne Datenfelder zuzugreift, muss man sich das Index-System von Python genauer ansehen:"
   ]
  },
  {
   "cell_type": "code",
   "execution_count": null,
   "metadata": {},
   "outputs": [],
   "source": [
    "personen[0]    # dies gibt uns das erste Element der Liste \"Personen\" - soweit klar\n",
    "               # dieses erste Element ist aber kein Einzelwert, sondern die Liste mit Personenmerkmalen, die wir in \"person1\" gespeichert hatten"
   ]
  },
  {
   "cell_type": "markdown",
   "metadata": {},
   "source": [
    "Gebe ich zwei Index-Werte an, kann ich direkt auf ein einzelnes Datenfeld zugreifen:"
   ]
  },
  {
   "cell_type": "code",
   "execution_count": null,
   "metadata": {},
   "outputs": [],
   "source": [
    "print(\"Das erste Merkmal der ersten Person: {}\".format(personen[0][0]) )\n",
    "print(\"Das zweite Merkmal der ersten Person: {}\".format(personen[0][1]) )\n",
    "print(\"Das dritte Merkmal der zweiten Person: {}\".format(personen[1][2]) ) "
   ]
  },
  {
   "cell_type": "markdown",
   "metadata": {},
   "source": [
    "#### 2.4.2. Dictionaries"
   ]
  },
  {
   "cell_type": "markdown",
   "metadata": {},
   "source": [
    "Unschön an Listen ist, dass die Datenfelder keine Feldbezeichnungen haben. Hierfür können Dictionaries genutzt werden.  \n",
    "Unsere Beispielpersonen sehen als Dictionary so aus:"
   ]
  },
  {
   "cell_type": "code",
   "execution_count": null,
   "metadata": {},
   "outputs": [],
   "source": [
    "person1 = {\n",
    "    \"name\":       \"Müller\", \n",
    "    \"vorname\":    \"Thomas\",\n",
    "    \"geschlecht\": \"männlich\",\n",
    "    \"alter\":      34,\n",
    "    \"groesse\":    1.92\n",
    "}\n",
    "\n",
    "person2 = {\n",
    "    \"name\":       \"Lind\", \n",
    "    \"vorname\":    \"Verena\",\n",
    "    \"geschlecht\": \"weiblich\",\n",
    "    \"alter\":      32,\n",
    "    \"groesse\":    1.72\n",
    "}\n",
    "\n",
    "person3 = {\n",
    "    \"name\":       \"Lind\", \n",
    "    \"vorname\":    \"Harald\",\n",
    "    \"geschlecht\": \"männlich\",\n",
    "    \"alter\":      73,\n",
    "    \"groesse\":    1.84\n",
    "}\n",
    "\n",
    "# Wie oben können wir die Personen nun einer Liste hinzufügen:\n",
    "\n",
    "personen = [person1, person2, person3]\n",
    "personen"
   ]
  },
  {
   "cell_type": "markdown",
   "metadata": {},
   "source": [
    "Nun lassen sich einzelne Datenfelder auch besser ansprechen:"
   ]
  },
  {
   "cell_type": "code",
   "execution_count": null,
   "metadata": {},
   "outputs": [],
   "source": [
    "print(personen[0][\"name\"])\n",
    "print(personen[2][\"alter\"])"
   ]
  },
  {
   "cell_type": "markdown",
   "metadata": {},
   "source": [
    "---\n",
    "# <span style=\"color:#FF5D02;\">Aufgabe 2.3: Datenstrukturen</span>\n",
    "2.3.1. Schreibe ein Programm, das ausgehend von der letzten Datenstruktur \"personen\" alle Namen (Vorname Nachname) auflistet."
   ]
  },
  {
   "cell_type": "code",
   "execution_count": null,
   "metadata": {},
   "outputs": [],
   "source": []
  },
  {
   "cell_type": "markdown",
   "metadata": {},
   "source": [
    "2.3.2. Schreibe ein Programm, das die mittlere Körpergröße aller Personen berechnet."
   ]
  },
  {
   "cell_type": "code",
   "execution_count": null,
   "metadata": {},
   "outputs": [],
   "source": []
  },
  {
   "cell_type": "markdown",
   "metadata": {},
   "source": [
    "---"
   ]
  },
  {
   "cell_type": "markdown",
   "metadata": {},
   "source": [
    "## 3. Module importieren <a id=\"kapitel3\"/>"
   ]
  },
  {
   "cell_type": "markdown",
   "metadata": {},
   "source": [
    "Die Sprache Python ist modular aufgebaut - der Kern ist auf die wichtigsten Befehle und Funktionen beschränkt. Ein Großteil der Funktionalität ist in so genannte Pakete ausgelagert. Wir werden später die Pakete für Zugriff auf Datenbanken, Datenmanagement und Datenvisualisierung genauer betrachten.\n",
    "\n",
    "Python Pakete können durch Paketmanager installiert werden, das ist im einfachsten Fall der Python Package Installer ```pip```. Im [Python Package Index PyPI](https://pypi.org) kann man nach Paketen suchen.\n",
    "\n",
    "Im ersten Schritt verwenden wir das Programm ```pip``` um sämtliche für den Kurs benötige Packages zu installieren."
   ]
  },
  {
   "cell_type": "code",
   "execution_count": null,
   "metadata": {},
   "outputs": [],
   "source": [
    "!pip install pandas matplotlib seaborn mcpi ipython-sql PyMySQL SQLAlchemy ipympl scikit-learn lxml"
   ]
  },
  {
   "cell_type": "markdown",
   "metadata": {},
   "source": [
    "Probier es aus - wir importieren das Paket \"pandas\", welches wir für das Datenmanagement später benutzen werden. \n",
    "Es enthält eine Funktion, tabellarische Daten aus Webseiten zu extrahieren - ein Prozess, der normalerweise etliche Schritte beinhaltet: Webserver kontaktieren, HTML-Datei herunterladen, Tabelle finden, Tabellencode interpretieren und Daten extrahieren.\n",
    "\n",
    "Nachfolgender Code liest Bevölkerungsdaten Deutschlands aus einer Seite der [Bundeszentrale für politische Bildung](http://www.bpb.de/nachschlagen/zahlen-und-fakten/soziale-situation-in-deutschland/61535/bevoelkerung-nach-laendern)."
   ]
  },
  {
   "cell_type": "code",
   "execution_count": null,
   "metadata": {},
   "outputs": [],
   "source": [
    "import pandas # Paket importieren\n",
    "\n",
    "link = \"http://www.bpb.de/nachschlagen/zahlen-und-fakten/soziale-situation-in-deutschland/61535/bevoelkerung-nach-laendern\"\n",
    "data = pandas.read_html(link)\n",
    "\n",
    "data[0]"
   ]
  },
  {
   "cell_type": "markdown",
   "metadata": {},
   "source": [
    "Meinst sind Nacharbeiten beim einlesen von Daten erforderlich - welche Fehler sind in obigem Output erkennbar?  \n",
    "Wie werden diese Fehler beim nachfolgenden Aufruf von ```read_html()``` unterbunden?"
   ]
  },
  {
   "cell_type": "code",
   "execution_count": null,
   "metadata": {},
   "outputs": [],
   "source": [
    "data_correct = pandas.read_html(link, decimal=',', thousands='.', index_col=0, skiprows=[17,18,19,20])\n",
    "\n",
    "data_correct[0]"
   ]
  },
  {
   "cell_type": "markdown",
   "metadata": {},
   "source": [
    "---\n",
    "\n",
    "\n",
    "\n",
    "\n"
   ]
  },
  {
   "cell_type": "markdown",
   "metadata": {},
   "source": [
    "## 4. Übung: Programmieren mit Minecraft <a id=\"kapitel4\"/>\n",
    "Um die bisherigen Inhalte zu üben und die Leistungsfähigkeit des Paketesystems zu erkunden, verwenden wir das Modul MinecraftPI (mcpi), um mit einem Minecraft-Server zu interagieren."
   ]
  },
  {
   "cell_type": "markdown",
   "metadata": {},
   "source": [
    "### 4.1. Verbindung herstellen und erste Schritte\n",
    "Im ersten Schritt importieren wir das Paket ```mcpi```."
   ]
  },
  {
   "cell_type": "code",
   "execution_count": 1,
   "metadata": {},
   "outputs": [],
   "source": [
    "import mcpi.minecraft"
   ]
  },
  {
   "cell_type": "markdown",
   "metadata": {},
   "source": [
    "Nun stellen wir eine Verbindung zum Minecraft-Server her."
   ]
  },
  {
   "cell_type": "code",
   "execution_count": 2,
   "metadata": {},
   "outputs": [],
   "source": [
    "server = \"smi-mcpi-server.westeurope.azurecontainer.io\"\n",
    "mc = mcpi.minecraft.Minecraft.create(server)"
   ]
  },
  {
   "cell_type": "markdown",
   "metadata": {},
   "source": [
    "Die Variable ```mc``` enthält nun eine Objektstruktur, die die Verbindung zum Minecraft-Server beinhaltet. Über dieses Object können wir Befehle versenden. Probiere, eine Nachricht in den Minecraft-Spielchat zu senden!"
   ]
  },
  {
   "cell_type": "code",
   "execution_count": 3,
   "metadata": {},
   "outputs": [],
   "source": [
    "mc.postToChat(\"Hello world\")"
   ]
  },
  {
   "cell_type": "markdown",
   "metadata": {},
   "source": [
    "### 4.2. Spielweltkoordinaten\n",
    "Stelle dir eine Minecraft-Welt als großes Koordinatensystem mit X,Y,Z Achsen vor. \n",
    "<img src=\"images/mc-coords.png\"/>"
   ]
  },
  {
   "cell_type": "markdown",
   "metadata": {},
   "source": [
    "Nachfolgender Code ermittelt die Koordinaten des Blocks, auf dem der Spieler steht:"
   ]
  },
  {
   "cell_type": "code",
   "execution_count": null,
   "metadata": {},
   "outputs": [],
   "source": [
    "x, y, z = mc.player.getTilePos()\n",
    "print (x,y,z)"
   ]
  },
  {
   "cell_type": "markdown",
   "metadata": {},
   "source": [
    "### <span style=\"color:#FF5D02;\">Aufgabe 4.1: Koordinaten</span>\n",
    "Schreibe die aktuelle Position des Spielers in den Spielchat!"
   ]
  },
  {
   "cell_type": "code",
   "execution_count": null,
   "metadata": {},
   "outputs": [],
   "source": []
  },
  {
   "cell_type": "markdown",
   "metadata": {},
   "source": [
    "#### Ausgewählte Befehle der Minecraft API\n",
    "```getBlock(x, y, z)``` ermittelt den Blocktyp an der jeweiligen Koordinate  \n",
    "```setBlock(x, y, z, blockId, [optional: subtype])``` setzt einen Block des Materials \"blockId\" (ids siehe unten)  \n",
    "```setBlocks(x1, y1, z1, x2, y2, z2, blockId, [optional: subtype])``` setzt alle Blöcke im Quader zwischen den Eckkoordinaten auf \"blockId\" (ids siehe unten)  \n",
    "```player.getTilePos()``` gibt die Koordinaten des Feldes wider auf dem der Spieler steht  \n",
    "\n",
    "#### Ausgewählte Blocktypen\n",
    "\n",
    "ID|Blocktyp\n",
    "--|:-------\n",
    "0 | Luft\n",
    "1 | Stein\n",
    "2 | Gras\n",
    "3 | Erde\n",
    "9 | Wasser\n",
    "17 | Holz\n",
    "35 | Wolle (erlaubt Farbcode 0-15 als Subtype)\n",
    "38 | Blaue Blume\n",
    "\n",
    "#### Beispielprogramm zum Bau einer Säule aus 5 Steinblöcken:"
   ]
  },
  {
   "cell_type": "code",
   "execution_count": null,
   "metadata": {},
   "outputs": [],
   "source": [
    "# Zielkoordinate ermitteln: 15 Blöcke in x-Richtung vor dem Spieler\n",
    "\n",
    "p_x, p_y, p_z = mc.player.getTilePos()\n",
    "\n",
    "x = p_x + 15\n",
    "y = p_y\n",
    "z = p_z  # Tip: hiermit kannst du deinen Zielpunkt im Sichtfeld nach links/rechts verschieben\n",
    "\n",
    "print (\"Deine Zielposition: \", x,y,z)\n",
    "mc.setBlock (x, y, z, 35, 9)                # Zielposition mit einem türkisen Wollblock markieren"
   ]
  },
  {
   "cell_type": "code",
   "execution_count": null,
   "metadata": {},
   "outputs": [],
   "source": [
    "import time\n",
    "\n",
    "block_type = 1                              # ID des zu setzenden Blocks: 1 = Stein\n",
    "\n",
    "for i in range(1,6):                        # i nimmt in fünf Durchläufen die Werte 1,2,3,4,5 an\n",
    "    print(\"Durchlauf Nr. {}\".format(i))\n",
    "    mc.setBlock(x, y+i, z, block_type)      # Block an die Zielkoordinaten setzen, i zur y-Koordinaten addieren\n",
    "    time.sleep(2)                           # 2 Sekunden warten"
   ]
  },
  {
   "cell_type": "code",
   "execution_count": null,
   "metadata": {},
   "outputs": [],
   "source": [
    "# Wieder aufräumen\n",
    "mc.setBlocks(x-10, y, z-10,\n",
    "             x+10, y+10, z+10, 0)    # weiträumig alles um die Zielkoordinate auf \"Luft\" setzen"
   ]
  },
  {
   "cell_type": "markdown",
   "metadata": {},
   "source": [
    "### <span style=\"color:#FF5D02;\">Aufgabe 4.2: Schreibe Programmcode, der ...</span>\n",
    "- eine andere Zielkoordinate als die anderen Seminarteilnehmer hat (verschiebe auf der Z-Achse),\n",
    "- dort eine Säule aus Wolle in allen möglichen Farben zu bauen,\n",
    "- stattdessen dort ein Tor zu bauen (zwei Säulen mit Querverbindung),\n",
    "- eine Wand zu bauen."
   ]
  },
  {
   "cell_type": "code",
   "execution_count": null,
   "metadata": {},
   "outputs": [],
   "source": []
  },
  {
   "cell_type": "markdown",
   "metadata": {},
   "source": [
    "**Aufgaben für Fortgeschrittene:**\n",
    "- Erzeuge einen Würfel.\n",
    "- Erzeuge einen hohlen Würfel.\n",
    "- Verfolge den Spieler bei seinen Bewegungen mit einer Spur aus Blumen.\n",
    "- Erzeuge einen Regenbogen aus farbigen Wollblöcken (tip - google that for help: mcpi rainbow ...)"
   ]
  },
  {
   "cell_type": "code",
   "execution_count": null,
   "metadata": {},
   "outputs": [],
   "source": []
  }
 ],
 "metadata": {
  "kernelspec": {
   "display_name": "Python 3",
   "language": "python",
   "name": "python3"
  },
  "language_info": {
   "codemirror_mode": {
    "name": "ipython",
    "version": 3
   },
   "file_extension": ".py",
   "mimetype": "text/x-python",
   "name": "python",
   "nbconvert_exporter": "python",
   "pygments_lexer": "ipython3",
   "version": "3.7.4"
  }
 },
 "nbformat": 4,
 "nbformat_minor": 4
}
